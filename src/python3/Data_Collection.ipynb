{
 "cells": [
  {
   "cell_type": "markdown",
   "metadata": {},
   "source": [
    "```\n",
    "Summary by:\n",
    "- A41316 - Nguyễn Hữu Khoa\n",
    "- A42718 - Lê Thảo Quyên\n",
    "```\n",
    "\n",
    "> **Note:** Many source code is outdated, some parameters, function usage have been changed according to elasticsearch and kibana 8.8.1"
   ]
  },
  {
   "cell_type": "markdown",
   "metadata": {},
   "source": [
    "# Data Collection"
   ]
  },
  {
   "cell_type": "markdown",
   "metadata": {},
   "source": [
    "### Library dependencies"
   ]
  },
  {
   "cell_type": "code",
   "execution_count": 1,
   "metadata": {},
   "outputs": [],
   "source": [
    "import praw\n",
    "import sqlite3"
   ]
  },
  {
   "cell_type": "markdown",
   "metadata": {},
   "source": [
    "### Sqlite storage setup"
   ]
  },
  {
   "cell_type": "code",
   "execution_count": 2,
   "metadata": {},
   "outputs": [],
   "source": [
    "conn = sqlite3.connect('reddit.db')\n",
    "c = conn.cursor()"
   ]
  },
  {
   "cell_type": "code",
   "execution_count": 3,
   "metadata": {},
   "outputs": [
    {
     "data": {
      "text/plain": [
       "<sqlite3.Cursor at 0x239b79e62c0>"
      ]
     },
     "execution_count": 3,
     "metadata": {},
     "output_type": "execute_result"
    }
   ],
   "source": [
    "c.execute('''DROP TABLE IF EXISTS topics''')\n",
    "\n",
    "c.execute('''DROP TABLE IF EXISTS comments''')\n",
    "\n",
    "c.execute('''CREATE TABLE topics\n",
    "             (topicTitle text, topicText text, topicID text, topicCategory text)''')\n",
    "\n",
    "c.execute('''CREATE TABLE comments\n",
    "             (commentText text, commentID text ,topicTitle text, topicText text, topicID text , topicCategory text)''')"
   ]
  },
  {
   "cell_type": "markdown",
   "metadata": {},
   "source": [
    "### Praw Reddit connection information"
   ]
  },
  {
   "cell_type": "code",
   "execution_count": 4,
   "metadata": {},
   "outputs": [
    {
     "ename": "MissingRequiredAttributeException",
     "evalue": "Required configuration setting 'client_id' missing. \nThis setting can be provided in a praw.ini file, as a keyword argument to the Reddit class constructor, or as an environment variable.",
     "output_type": "error",
     "traceback": [
      "\u001b[1;31m---------------------------------------------------------------------------\u001b[0m",
      "\u001b[1;31mMissingRequiredAttributeException\u001b[0m         Traceback (most recent call last)",
      "Cell \u001b[1;32mIn[4], line 2\u001b[0m\n\u001b[0;32m      1\u001b[0m user_agent \u001b[39m=\u001b[39m \u001b[39m\"\u001b[39m\u001b[39mIntroducing Data Science Book\u001b[39m\u001b[39m\"\u001b[39m\n\u001b[1;32m----> 2\u001b[0m r \u001b[39m=\u001b[39m praw\u001b[39m.\u001b[39;49mReddit(user_agent\u001b[39m=\u001b[39;49muser_agent)\n\u001b[0;32m      3\u001b[0m subreddits \u001b[39m=\u001b[39m [\u001b[39m'\u001b[39m\u001b[39mdatascience\u001b[39m\u001b[39m'\u001b[39m,\u001b[39m'\u001b[39m\u001b[39mgameofthrones\u001b[39m\u001b[39m'\u001b[39m]\n\u001b[0;32m      4\u001b[0m limit \u001b[39m=\u001b[39m \u001b[39m1000\u001b[39m\n",
      "File \u001b[1;32md:\\Documents\\giaoTrinh\\nam_2\\ki-3\\nhap-mon-khoa-hoc-du-lieu\\BTL-3-NMKHDL\\.venv\\Lib\\site-packages\\praw\\util\\deprecate_args.py:43\u001b[0m, in \u001b[0;36m_deprecate_args.<locals>.wrapper.<locals>.wrapped\u001b[1;34m(*args, **kwargs)\u001b[0m\n\u001b[0;32m     36\u001b[0m     arg_string \u001b[39m=\u001b[39m _generate_arg_string(_old_args[: \u001b[39mlen\u001b[39m(args)])\n\u001b[0;32m     37\u001b[0m     warn(\n\u001b[0;32m     38\u001b[0m         \u001b[39mf\u001b[39m\u001b[39m\"\u001b[39m\u001b[39mPositional arguments for \u001b[39m\u001b[39m{\u001b[39;00mfunc\u001b[39m.\u001b[39m\u001b[39m__qualname__\u001b[39m\u001b[39m!r}\u001b[39;00m\u001b[39m will no longer be\u001b[39m\u001b[39m\"\u001b[39m\n\u001b[0;32m     39\u001b[0m         \u001b[39mf\u001b[39m\u001b[39m\"\u001b[39m\u001b[39m supported in PRAW 8.\u001b[39m\u001b[39m\\n\u001b[39;00m\u001b[39mCall this function with \u001b[39m\u001b[39m{\u001b[39;00marg_string\u001b[39m}\u001b[39;00m\u001b[39m.\u001b[39m\u001b[39m\"\u001b[39m,\n\u001b[0;32m     40\u001b[0m         \u001b[39mDeprecationWarning\u001b[39;00m,\n\u001b[0;32m     41\u001b[0m         stacklevel\u001b[39m=\u001b[39m\u001b[39m2\u001b[39m,\n\u001b[0;32m     42\u001b[0m     )\n\u001b[1;32m---> 43\u001b[0m \u001b[39mreturn\u001b[39;00m func(\u001b[39m*\u001b[39;49m\u001b[39m*\u001b[39;49m\u001b[39mdict\u001b[39;49m(\u001b[39mzip\u001b[39;49m(_old_args, args)), \u001b[39m*\u001b[39;49m\u001b[39m*\u001b[39;49mkwargs)\n",
      "File \u001b[1;32md:\\Documents\\giaoTrinh\\nam_2\\ki-3\\nhap-mon-khoa-hoc-du-lieu\\BTL-3-NMKHDL\\.venv\\Lib\\site-packages\\praw\\reddit.py:258\u001b[0m, in \u001b[0;36mReddit.__init__\u001b[1;34m(self, site_name, config_interpolation, requestor_class, requestor_kwargs, token_manager, **config_settings)\u001b[0m\n\u001b[0;32m    256\u001b[0m \u001b[39mfor\u001b[39;00m attribute \u001b[39min\u001b[39;00m (\u001b[39m\"\u001b[39m\u001b[39mclient_id\u001b[39m\u001b[39m\"\u001b[39m, \u001b[39m\"\u001b[39m\u001b[39muser_agent\u001b[39m\u001b[39m\"\u001b[39m):\n\u001b[0;32m    257\u001b[0m     \u001b[39mif\u001b[39;00m \u001b[39mgetattr\u001b[39m(\u001b[39mself\u001b[39m\u001b[39m.\u001b[39mconfig, attribute) \u001b[39min\u001b[39;00m (\u001b[39mself\u001b[39m\u001b[39m.\u001b[39mconfig\u001b[39m.\u001b[39mCONFIG_NOT_SET, \u001b[39mNone\u001b[39;00m):\n\u001b[1;32m--> 258\u001b[0m         \u001b[39mraise\u001b[39;00m MissingRequiredAttributeException(\n\u001b[0;32m    259\u001b[0m             required_message\u001b[39m.\u001b[39mformat(attribute)\n\u001b[0;32m    260\u001b[0m         )\n\u001b[0;32m    261\u001b[0m \u001b[39mif\u001b[39;00m \u001b[39mself\u001b[39m\u001b[39m.\u001b[39mconfig\u001b[39m.\u001b[39mclient_secret \u001b[39mis\u001b[39;00m \u001b[39mself\u001b[39m\u001b[39m.\u001b[39mconfig\u001b[39m.\u001b[39mCONFIG_NOT_SET:\n\u001b[0;32m    262\u001b[0m     \u001b[39mraise\u001b[39;00m MissingRequiredAttributeException(\n\u001b[0;32m    263\u001b[0m         \u001b[39mf\u001b[39m\u001b[39m\"\u001b[39m\u001b[39m{\u001b[39;00mrequired_message\u001b[39m.\u001b[39mformat(\u001b[39m'\u001b[39m\u001b[39mclient_secret\u001b[39m\u001b[39m'\u001b[39m)\u001b[39m}\u001b[39;00m\u001b[39m\\n\u001b[39;00m\u001b[39mFor installed\u001b[39m\u001b[39m\"\u001b[39m\n\u001b[0;32m    264\u001b[0m         \u001b[39m\"\u001b[39m\u001b[39m applications this value must be set to None via a keyword argument\u001b[39m\u001b[39m\"\u001b[39m\n\u001b[0;32m    265\u001b[0m         \u001b[39m\"\u001b[39m\u001b[39m to the Reddit class constructor.\u001b[39m\u001b[39m\"\u001b[39m\n\u001b[0;32m    266\u001b[0m     )\n",
      "\u001b[1;31mMissingRequiredAttributeException\u001b[0m: Required configuration setting 'client_id' missing. \nThis setting can be provided in a praw.ini file, as a keyword argument to the Reddit class constructor, or as an environment variable."
     ]
    }
   ],
   "source": [
    "user_agent = \"Introducing Data Science Book\"\n",
    "r = praw.Reddit(user_agent=user_agent)\n",
    "subreddits = ['datascience','gameofthrones']\n",
    "limit = 1000\n",
    "\n",
    "r.set_oauth_app_info(client_id='stJlUSUbPQe5lQ',\n",
    "...                      client_secret='DoNotSHAREWithANYBODY',\n",
    "...                      redirect_uri='http://127.0.0.1:65010/'\n",
    "...                                   'authorize_callback')"
   ]
  },
  {
   "cell_type": "code",
   "execution_count": null,
   "metadata": {},
   "outputs": [],
   "source": []
  }
 ],
 "metadata": {
  "kernelspec": {
   "display_name": ".venv",
   "language": "python",
   "name": "python3"
  },
  "language_info": {
   "codemirror_mode": {
    "name": "ipython",
    "version": 3
   },
   "file_extension": ".py",
   "mimetype": "text/x-python",
   "name": "python",
   "nbconvert_exporter": "python",
   "pygments_lexer": "ipython3",
   "version": "3.11.3"
  },
  "orig_nbformat": 4
 },
 "nbformat": 4,
 "nbformat_minor": 2
}
