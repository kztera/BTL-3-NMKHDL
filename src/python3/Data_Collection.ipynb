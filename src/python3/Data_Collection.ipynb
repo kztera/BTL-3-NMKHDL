{
 "cells": [
  {
   "cell_type": "markdown",
   "metadata": {},
   "source": [
    "```\n",
    "Summary by:\n",
    "- A41316 - Nguyễn Hữu Khoa\n",
    "- A42718 - Lê Thảo Quyên\n",
    "```\n",
    "\n",
    "> **Note:** Many source code is outdated, some parameters, function usage have been changed according to praw"
   ]
  },
  {
   "cell_type": "markdown",
   "metadata": {},
   "source": [
    "# Data Collection"
   ]
  },
  {
   "cell_type": "markdown",
   "metadata": {},
   "source": [
    "### Library dependencies"
   ]
  },
  {
   "cell_type": "code",
   "execution_count": 1,
   "metadata": {},
   "outputs": [],
   "source": [
    "import praw\n",
    "import sqlite3"
   ]
  },
  {
   "cell_type": "markdown",
   "metadata": {},
   "source": [
    "### Sqlite storage setup"
   ]
  },
  {
   "cell_type": "code",
   "execution_count": 2,
   "metadata": {},
   "outputs": [],
   "source": [
    "conn = sqlite3.connect('reddit.db')\n",
    "c = conn.cursor()"
   ]
  },
  {
   "cell_type": "code",
   "execution_count": 3,
   "metadata": {},
   "outputs": [
    {
     "data": {
      "text/plain": [
       "<sqlite3.Cursor at 0x17f2b86dc40>"
      ]
     },
     "execution_count": 3,
     "metadata": {},
     "output_type": "execute_result"
    }
   ],
   "source": [
    "c.execute('''DROP TABLE IF EXISTS topics''')\n",
    "\n",
    "c.execute('''DROP TABLE IF EXISTS comments''')\n",
    "\n",
    "c.execute('''CREATE TABLE topics\n",
    "             (topicTitle text, topicText text, topicID text, topicCategory text)''')\n",
    "\n",
    "c.execute('''CREATE TABLE comments\n",
    "             (commentText text, commentID text ,topicTitle text, topicText text, topicID text , topicCategory text)''')"
   ]
  },
  {
   "cell_type": "markdown",
   "metadata": {},
   "source": [
    "### Praw Reddit connection information"
   ]
  },
  {
   "cell_type": "code",
   "execution_count": 18,
   "metadata": {},
   "outputs": [],
   "source": [
    "user_agent = \"Introducing Data Science Book\"\n",
    "subreddits = ['datascience','gameofthrones']\n",
    "limit = 100 # number of posts to retrieve"
   ]
  },
  {
   "cell_type": "markdown",
   "metadata": {},
   "source": [
    "Tạo vào lấy API Reddit tại trang https://old.reddit.com/prefs/apps/ và lấy các thông tin như ảnh dưới đây:\n",
    "![apiReddit](assets/api.png)"
   ]
  },
  {
   "cell_type": "code",
   "execution_count": 5,
   "metadata": {},
   "outputs": [],
   "source": [
    "reddit = praw.Reddit(\n",
    "    client_id=\"<client_id>\", # client_id removed for security\n",
    "    client_secret=\"<client_secret>\" # client_secret removed for security\n",
    "    password=\"<password>\", # password removed for security\n",
    "    user_agent=user_agent,\n",
    "    username=\"<username>\" # username removed for security\n",
    ")"
   ]
  },
  {
   "cell_type": "markdown",
   "metadata": {},
   "source": [
    "### Praw data gathering function"
   ]
  },
  {
   "cell_type": "code",
   "execution_count": 13,
   "metadata": {},
   "outputs": [],
   "source": [
    "def prawGetData(limit, subredditName):\n",
    "    topics = reddit.subreddit(subredditName).hot(limit=limit)\n",
    "    commentInsert = []\n",
    "    topicInsert = []\n",
    "    topicNBR = 1\n",
    "    for topic in topics:\n",
    "        if (float(topicNBR)/limit)*100 in range(1, 100):\n",
    "            print('*********** TOPIC:' + str(topic.id) + ' *********COMPLETE: ' + str((float(topicNBR)/limit)*100) + ' % ****')\n",
    "        topicNBR += 1\n",
    "        try:\n",
    "            topicInsert.append((topic.title, topic.selftext, topic.id, subredditName))\n",
    "        except:\n",
    "            pass\n",
    "        try:\n",
    "            for comment in topic.comments:\n",
    "                commentInsert.append((comment.body, comment.id, topic.title, topic.selftext, topic.id, subredditName))\n",
    "        except:\n",
    "            pass\n",
    "    print('********************************')\n",
    "    print('INSERTING DATA INTO SQLITE')\n",
    "    c.executemany('INSERT INTO topics VALUES (?,?,?,?)', topicInsert)\n",
    "    print('INSERTED TOPICS')\n",
    "    c.executemany('INSERT INTO comments VALUES (?,?,?,?,?,?)', commentInsert)\n",
    "    print('INSERTED COMMENTS')\n",
    "    conn.commit()\n"
   ]
  },
  {
   "cell_type": "markdown",
   "metadata": {},
   "source": [
    "### Executing Data Collection"
   ]
  },
  {
   "cell_type": "markdown",
   "metadata": {},
   "source": [
    "Khi chạy code phía dưới, 100% bạn sẽ nhận được lỗi 403 \n",
    "Forbidden: received 403 HTTP response\n",
    "\n",
    "Lỗi \"Forbidden: received 403 HTTP response\" xuất hiện khi API của Reddit từ chối truy cập vào một tài nguyên cụ thể, trong trường hợp này là việc truy cập bình luận của một chủ đề hoặc một subreddit.\n",
    "\n",
    "Lỗi này thường xảy ra khi tài khoản của bạn không có quyền truy cập hoặc bị hạn chế trong việc thao tác với các tài nguyên đó. Điều này có thể xảy ra khi bạn không đăng nhập vào tài khoản Reddit hoặc tài khoản của bạn không có quyền truy cập vào subreddit cụ thể đó. (có thể do subreddit đó đã bị xóa, chuyển thành private, hoặc bạn bị ban khỏi subreddit đó, v.v.)\n",
    "\n",
    "Để xử lý lỗi này, chúng ta sử dụng cấu trúc try-except để bắt lỗi và thực hiện xử lý phù hợp. Trong trường hợp này, chúng ta muốn tiếp tục thực hiện quá trình lấy dữ liệu và bỏ qua các bình luận không thể truy cập được.\n",
    "\n",
    "Ta sẽ tạo khối lệnh thêm comment vào một khối try-except bổ sung. Nếu phát sinh lỗi Forbidden, nghĩa là không thể truy cập vào bình luận, chúng ta sẽ bỏ qua bình luận đó và tiếp tục với các bình luận khác. Đồng thời, in ra một thông báo lỗi để ta biết rằng có lỗi xảy ra.\n",
    "\n",
    "Tuy nhiên, hãy nhớ rằng xử lý lỗi Forbidden chỉ là một cách tạm thời để bạn tiếp tục chạy mã mà không bị dừng lại hoàn toàn. Để truy cập vào các tài nguyên Reddit mà bạn bị từ chối, bạn cần kiểm tra lại quyền truy cập và xác thực tài khoản của mình."
   ]
  },
  {
   "cell_type": "code",
   "execution_count": 19,
   "metadata": {},
   "outputs": [],
   "source": [
    "from prawcore.exceptions import Forbidden\n",
    "\n",
    "def prawGetData(limit, subredditName):\n",
    "    topics = reddit.subreddit(subredditName).hot(limit=limit)\n",
    "    commentInsert = []\n",
    "    topicInsert = []\n",
    "    topicNBR = 1\n",
    "    for topic in topics:\n",
    "        if (float(topicNBR)/limit)*100 in range(1, 100):\n",
    "            print('•TOPIC:' + str(topic.id) + ' •COMPLETE: ' + str((float(topicNBR)/limit)*100) + ' % ****')\n",
    "        topicNBR += 1\n",
    "        try:\n",
    "            topicInsert.append((topic.title, topic.selftext, topic.id, subredditName))\n",
    "        except:\n",
    "            pass\n",
    "        try:\n",
    "            for comment in topic.comments:\n",
    "                try:\n",
    "                    commentInsert.append((comment.body, comment.id, topic.title, topic.selftext, topic.id, subredditName))\n",
    "                except Forbidden:\n",
    "                    print(\"Forbidden: Unable to retrieve comment due to 403 Forbidden error.\")\n",
    "        except:\n",
    "            pass\n",
    "    print('––––––––––––––––––––––––––')\n",
    "    print('INSERTING DATA INTO SQLITE')\n",
    "    c.executemany('INSERT INTO topics VALUES (?,?,?,?)', topicInsert)\n",
    "    print('INSERTED TOPICS')\n",
    "    c.executemany('INSERT INTO comments VALUES (?,?,?,?,?,?)', commentInsert)\n",
    "    print('INSERTED COMMENTS')\n",
    "    conn.commit()\n"
   ]
  },
  {
   "cell_type": "code",
   "execution_count": 20,
   "metadata": {},
   "outputs": [
    {
     "name": "stdout",
     "output_type": "stream",
     "text": [
      "•TOPIC:147ecrr •COMPLETE: 1.0 % ****\n",
      "•TOPIC:14atq9q •COMPLETE: 2.0 % ****\n",
      "•TOPIC:14axqw4 •COMPLETE: 3.0 % ****\n",
      "•TOPIC:14a8cx4 •COMPLETE: 4.0 % ****\n",
      "•TOPIC:14azg2g •COMPLETE: 5.0 % ****\n",
      "•TOPIC:14avaji •COMPLETE: 6.0 % ****\n",
      "•TOPIC:14axuwt •COMPLETE: 8.0 % ****\n",
      "•TOPIC:14axo38 •COMPLETE: 9.0 % ****\n",
      "•TOPIC:14aoirf •COMPLETE: 10.0 % ****\n",
      "•TOPIC:14alahr •COMPLETE: 11.0 % ****\n",
      "•TOPIC:14b08vy •COMPLETE: 12.0 % ****\n",
      "•TOPIC:14axovx •COMPLETE: 13.0 % ****\n",
      "•TOPIC:14ax4pc •COMPLETE: 15.0 % ****\n",
      "•TOPIC:14asmgk •COMPLETE: 16.0 % ****\n",
      "•TOPIC:14aw8xm •COMPLETE: 17.0 % ****\n",
      "•TOPIC:14avdku •COMPLETE: 18.0 % ****\n",
      "•TOPIC:14auffa •COMPLETE: 19.0 % ****\n",
      "•TOPIC:14auelc •COMPLETE: 20.0 % ****\n",
      "•TOPIC:14alq83 •COMPLETE: 21.0 % ****\n",
      "•TOPIC:14a388u •COMPLETE: 22.0 % ****\n",
      "•TOPIC:14asv62 •COMPLETE: 23.0 % ****\n",
      "•TOPIC:14aod9o •COMPLETE: 24.0 % ****\n",
      "•TOPIC:14arq5r •COMPLETE: 25.0 % ****\n",
      "•TOPIC:14arpnq •COMPLETE: 26.0 % ****\n",
      "•TOPIC:14akwow •COMPLETE: 27.0 % ****\n",
      "•TOPIC:14att4c •COMPLETE: 30.0 % ****\n",
      "•TOPIC:14a4lf8 •COMPLETE: 31.0 % ****\n",
      "•TOPIC:14a4mh0 •COMPLETE: 32.0 % ****\n",
      "•TOPIC:14apokx •COMPLETE: 33.0 % ****\n",
      "•TOPIC:149nszy •COMPLETE: 34.0 % ****\n",
      "•TOPIC:149ea3x •COMPLETE: 35.0 % ****\n",
      "•TOPIC:14aeq81 •COMPLETE: 36.0 % ****\n",
      "•TOPIC:14aedkc •COMPLETE: 37.0 % ****\n",
      "•TOPIC:14ae7qy •COMPLETE: 38.0 % ****\n",
      "•TOPIC:14aljkt •COMPLETE: 39.0 % ****\n",
      "•TOPIC:14a54jm •COMPLETE: 40.0 % ****\n",
      "•TOPIC:14aftu3 •COMPLETE: 41.0 % ****\n",
      "•TOPIC:14a8up3 •COMPLETE: 42.0 % ****\n",
      "•TOPIC:14acv5x •COMPLETE: 43.0 % ****\n",
      "•TOPIC:14a7j7r •COMPLETE: 44.0 % ****\n",
      "•TOPIC:14a54xw •COMPLETE: 45.0 % ****\n",
      "•TOPIC:1498nva •COMPLETE: 46.0 % ****\n",
      "•TOPIC:149jie6 •COMPLETE: 47.0 % ****\n",
      "•TOPIC:14a44ca •COMPLETE: 48.0 % ****\n",
      "•TOPIC:14a3x3f •COMPLETE: 49.0 % ****\n",
      "•TOPIC:14a2sd5 •COMPLETE: 50.0 % ****\n",
      "•TOPIC:149ve08 •COMPLETE: 51.0 % ****\n",
      "•TOPIC:149rbom •COMPLETE: 52.0 % ****\n",
      "•TOPIC:14a0ctj •COMPLETE: 53.0 % ****\n",
      "•TOPIC:14a082z •COMPLETE: 54.0 % ****\n",
      "•TOPIC:149cj12 •COMPLETE: 59.0 % ****\n",
      "•TOPIC:149x8hn •COMPLETE: 60.0 % ****\n",
      "•TOPIC:14a5zzo •COMPLETE: 61.0 % ****\n",
      "•TOPIC:14a29eo •COMPLETE: 62.0 % ****\n",
      "•TOPIC:149ilne •COMPLETE: 63.0 % ****\n",
      "•TOPIC:149t0kp •COMPLETE: 64.0 % ****\n",
      "•TOPIC:149s2hl •COMPLETE: 65.0 % ****\n",
      "•TOPIC:149rqqn •COMPLETE: 66.0 % ****\n",
      "•TOPIC:149rbwn •COMPLETE: 67.0 % ****\n",
      "•TOPIC:148z8eg •COMPLETE: 68.0 % ****\n",
      "•TOPIC:149ky0f •COMPLETE: 69.0 % ****\n",
      "•TOPIC:149ptdq •COMPLETE: 70.0 % ****\n",
      "•TOPIC:149amep •COMPLETE: 71.0 % ****\n",
      "•TOPIC:148ss5c •COMPLETE: 72.0 % ****\n",
      "•TOPIC:149mok9 •COMPLETE: 73.0 % ****\n",
      "•TOPIC:149m9s7 •COMPLETE: 74.0 % ****\n",
      "•TOPIC:149cvkw •COMPLETE: 75.0 % ****\n",
      "•TOPIC:149chge •COMPLETE: 76.0 % ****\n",
      "•TOPIC:149l3rz •COMPLETE: 77.0 % ****\n",
      "•TOPIC:149twcu •COMPLETE: 78.0 % ****\n",
      "•TOPIC:148vsv6 •COMPLETE: 79.0 % ****\n",
      "•TOPIC:149jpiv •COMPLETE: 80.0 % ****\n",
      "•TOPIC:1495cyi •COMPLETE: 81.0 % ****\n",
      "•TOPIC:149i6xi •COMPLETE: 82.0 % ****\n",
      "•TOPIC:149gf59 •COMPLETE: 83.0 % ****\n",
      "•TOPIC:149fzh3 •COMPLETE: 84.0 % ****\n",
      "•TOPIC:149fbpi •COMPLETE: 85.0 % ****\n",
      "•TOPIC:149eyvo •COMPLETE: 86.0 % ****\n",
      "•TOPIC:149pd6v •COMPLETE: 87.0 % ****\n",
      "•TOPIC:14991lt •COMPLETE: 88.0 % ****\n",
      "•TOPIC:148vsm4 •COMPLETE: 89.0 % ****\n",
      "•TOPIC:1498fdy •COMPLETE: 90.0 % ****\n",
      "•TOPIC:149cwji •COMPLETE: 91.0 % ****\n",
      "•TOPIC:148eu9b •COMPLETE: 92.0 % ****\n",
      "•TOPIC:1494bor •COMPLETE: 93.0 % ****\n",
      "•TOPIC:1490r3e •COMPLETE: 94.0 % ****\n",
      "•TOPIC:148ogfc •COMPLETE: 95.0 % ****\n",
      "•TOPIC:14978y4 •COMPLETE: 96.0 % ****\n",
      "•TOPIC:1492eu4 •COMPLETE: 97.0 % ****\n",
      "•TOPIC:1491kyj •COMPLETE: 98.0 % ****\n",
      "•TOPIC:148sofh •COMPLETE: 99.0 % ****\n",
      "––––––––––––––––––––––––––\n",
      "INSERTING DATA INTO SQLITE\n",
      "INSERTED TOPICS\n",
      "INSERTED COMMENTS\n"
     ]
    },
    {
     "ename": "Forbidden",
     "evalue": "received 403 HTTP response",
     "output_type": "error",
     "traceback": [
      "\u001b[1;31m---------------------------------------------------------------------------\u001b[0m",
      "\u001b[1;31mForbidden\u001b[0m                                 Traceback (most recent call last)",
      "Cell \u001b[1;32mIn[20], line 2\u001b[0m\n\u001b[0;32m      1\u001b[0m \u001b[39mfor\u001b[39;00m subject \u001b[39min\u001b[39;00m subreddits:\n\u001b[1;32m----> 2\u001b[0m     prawGetData(limit\u001b[39m=\u001b[39;49mlimit,subredditName\u001b[39m=\u001b[39;49msubject)\n",
      "Cell \u001b[1;32mIn[19], line 8\u001b[0m, in \u001b[0;36mprawGetData\u001b[1;34m(limit, subredditName)\u001b[0m\n\u001b[0;32m      6\u001b[0m topicInsert \u001b[39m=\u001b[39m []\n\u001b[0;32m      7\u001b[0m topicNBR \u001b[39m=\u001b[39m \u001b[39m1\u001b[39m\n\u001b[1;32m----> 8\u001b[0m \u001b[39mfor\u001b[39;00m topic \u001b[39min\u001b[39;00m topics:\n\u001b[0;32m      9\u001b[0m     \u001b[39mif\u001b[39;00m (\u001b[39mfloat\u001b[39m(topicNBR)\u001b[39m/\u001b[39mlimit)\u001b[39m*\u001b[39m\u001b[39m100\u001b[39m \u001b[39min\u001b[39;00m \u001b[39mrange\u001b[39m(\u001b[39m1\u001b[39m, \u001b[39m100\u001b[39m):\n\u001b[0;32m     10\u001b[0m         \u001b[39mprint\u001b[39m(\u001b[39m'\u001b[39m\u001b[39m•TOPIC:\u001b[39m\u001b[39m'\u001b[39m \u001b[39m+\u001b[39m \u001b[39mstr\u001b[39m(topic\u001b[39m.\u001b[39mid) \u001b[39m+\u001b[39m \u001b[39m'\u001b[39m\u001b[39m •COMPLETE: \u001b[39m\u001b[39m'\u001b[39m \u001b[39m+\u001b[39m \u001b[39mstr\u001b[39m((\u001b[39mfloat\u001b[39m(topicNBR)\u001b[39m/\u001b[39mlimit)\u001b[39m*\u001b[39m\u001b[39m100\u001b[39m) \u001b[39m+\u001b[39m \u001b[39m'\u001b[39m\u001b[39m \u001b[39m\u001b[39m%\u001b[39m\u001b[39m ****\u001b[39m\u001b[39m'\u001b[39m)\n",
      "File \u001b[1;32md:\\Documents\\giaoTrinh\\nam_2\\ki-3\\nhap-mon-khoa-hoc-du-lieu\\BTL-3-NMKHDL\\.venv\\Lib\\site-packages\\praw\\models\\listing\\generator.py:63\u001b[0m, in \u001b[0;36mListingGenerator.__next__\u001b[1;34m(self)\u001b[0m\n\u001b[0;32m     60\u001b[0m     \u001b[39mraise\u001b[39;00m \u001b[39mStopIteration\u001b[39;00m()\n\u001b[0;32m     62\u001b[0m \u001b[39mif\u001b[39;00m \u001b[39mself\u001b[39m\u001b[39m.\u001b[39m_listing \u001b[39mis\u001b[39;00m \u001b[39mNone\u001b[39;00m \u001b[39mor\u001b[39;00m \u001b[39mself\u001b[39m\u001b[39m.\u001b[39m_list_index \u001b[39m>\u001b[39m\u001b[39m=\u001b[39m \u001b[39mlen\u001b[39m(\u001b[39mself\u001b[39m\u001b[39m.\u001b[39m_listing):\n\u001b[1;32m---> 63\u001b[0m     \u001b[39mself\u001b[39;49m\u001b[39m.\u001b[39;49m_next_batch()\n\u001b[0;32m     65\u001b[0m \u001b[39mself\u001b[39m\u001b[39m.\u001b[39m_list_index \u001b[39m+\u001b[39m\u001b[39m=\u001b[39m \u001b[39m1\u001b[39m\n\u001b[0;32m     66\u001b[0m \u001b[39mself\u001b[39m\u001b[39m.\u001b[39myielded \u001b[39m+\u001b[39m\u001b[39m=\u001b[39m \u001b[39m1\u001b[39m\n",
      "File \u001b[1;32md:\\Documents\\giaoTrinh\\nam_2\\ki-3\\nhap-mon-khoa-hoc-du-lieu\\BTL-3-NMKHDL\\.venv\\Lib\\site-packages\\praw\\models\\listing\\generator.py:89\u001b[0m, in \u001b[0;36mListingGenerator._next_batch\u001b[1;34m(self)\u001b[0m\n\u001b[0;32m     86\u001b[0m \u001b[39mif\u001b[39;00m \u001b[39mself\u001b[39m\u001b[39m.\u001b[39m_exhausted:\n\u001b[0;32m     87\u001b[0m     \u001b[39mraise\u001b[39;00m \u001b[39mStopIteration\u001b[39;00m()\n\u001b[1;32m---> 89\u001b[0m \u001b[39mself\u001b[39m\u001b[39m.\u001b[39m_listing \u001b[39m=\u001b[39m \u001b[39mself\u001b[39;49m\u001b[39m.\u001b[39;49m_reddit\u001b[39m.\u001b[39;49mget(\u001b[39mself\u001b[39;49m\u001b[39m.\u001b[39;49murl, params\u001b[39m=\u001b[39;49m\u001b[39mself\u001b[39;49m\u001b[39m.\u001b[39;49mparams)\n\u001b[0;32m     90\u001b[0m \u001b[39mself\u001b[39m\u001b[39m.\u001b[39m_listing \u001b[39m=\u001b[39m \u001b[39mself\u001b[39m\u001b[39m.\u001b[39m_extract_sublist(\u001b[39mself\u001b[39m\u001b[39m.\u001b[39m_listing)\n\u001b[0;32m     91\u001b[0m \u001b[39mself\u001b[39m\u001b[39m.\u001b[39m_list_index \u001b[39m=\u001b[39m \u001b[39m0\u001b[39m\n",
      "File \u001b[1;32md:\\Documents\\giaoTrinh\\nam_2\\ki-3\\nhap-mon-khoa-hoc-du-lieu\\BTL-3-NMKHDL\\.venv\\Lib\\site-packages\\praw\\util\\deprecate_args.py:43\u001b[0m, in \u001b[0;36m_deprecate_args.<locals>.wrapper.<locals>.wrapped\u001b[1;34m(*args, **kwargs)\u001b[0m\n\u001b[0;32m     36\u001b[0m     arg_string \u001b[39m=\u001b[39m _generate_arg_string(_old_args[: \u001b[39mlen\u001b[39m(args)])\n\u001b[0;32m     37\u001b[0m     warn(\n\u001b[0;32m     38\u001b[0m         \u001b[39mf\u001b[39m\u001b[39m\"\u001b[39m\u001b[39mPositional arguments for \u001b[39m\u001b[39m{\u001b[39;00mfunc\u001b[39m.\u001b[39m\u001b[39m__qualname__\u001b[39m\u001b[39m!r}\u001b[39;00m\u001b[39m will no longer be\u001b[39m\u001b[39m\"\u001b[39m\n\u001b[0;32m     39\u001b[0m         \u001b[39mf\u001b[39m\u001b[39m\"\u001b[39m\u001b[39m supported in PRAW 8.\u001b[39m\u001b[39m\\n\u001b[39;00m\u001b[39mCall this function with \u001b[39m\u001b[39m{\u001b[39;00marg_string\u001b[39m}\u001b[39;00m\u001b[39m.\u001b[39m\u001b[39m\"\u001b[39m,\n\u001b[0;32m     40\u001b[0m         \u001b[39mDeprecationWarning\u001b[39;00m,\n\u001b[0;32m     41\u001b[0m         stacklevel\u001b[39m=\u001b[39m\u001b[39m2\u001b[39m,\n\u001b[0;32m     42\u001b[0m     )\n\u001b[1;32m---> 43\u001b[0m \u001b[39mreturn\u001b[39;00m func(\u001b[39m*\u001b[39;49m\u001b[39m*\u001b[39;49m\u001b[39mdict\u001b[39;49m(\u001b[39mzip\u001b[39;49m(_old_args, args)), \u001b[39m*\u001b[39;49m\u001b[39m*\u001b[39;49mkwargs)\n",
      "File \u001b[1;32md:\\Documents\\giaoTrinh\\nam_2\\ki-3\\nhap-mon-khoa-hoc-du-lieu\\BTL-3-NMKHDL\\.venv\\Lib\\site-packages\\praw\\reddit.py:712\u001b[0m, in \u001b[0;36mReddit.get\u001b[1;34m(self, path, params)\u001b[0m\n\u001b[0;32m    699\u001b[0m \u001b[39m@_deprecate_args\u001b[39m(\u001b[39m\"\u001b[39m\u001b[39mpath\u001b[39m\u001b[39m\"\u001b[39m, \u001b[39m\"\u001b[39m\u001b[39mparams\u001b[39m\u001b[39m\"\u001b[39m)\n\u001b[0;32m    700\u001b[0m \u001b[39mdef\u001b[39;00m \u001b[39mget\u001b[39m(\n\u001b[0;32m    701\u001b[0m     \u001b[39mself\u001b[39m,\n\u001b[1;32m   (...)\u001b[0m\n\u001b[0;32m    704\u001b[0m     params: Optional[Union[\u001b[39mstr\u001b[39m, Dict[\u001b[39mstr\u001b[39m, Union[\u001b[39mstr\u001b[39m, \u001b[39mint\u001b[39m]]]] \u001b[39m=\u001b[39m \u001b[39mNone\u001b[39;00m,\n\u001b[0;32m    705\u001b[0m ):\n\u001b[0;32m    706\u001b[0m \u001b[39m    \u001b[39m\u001b[39m\"\"\"Return parsed objects returned from a GET request to ``path``.\u001b[39;00m\n\u001b[0;32m    707\u001b[0m \n\u001b[0;32m    708\u001b[0m \u001b[39m    :param path: The path to fetch.\u001b[39;00m\n\u001b[0;32m    709\u001b[0m \u001b[39m    :param params: The query parameters to add to the request (default: ``None``).\u001b[39;00m\n\u001b[0;32m    710\u001b[0m \n\u001b[0;32m    711\u001b[0m \u001b[39m    \"\"\"\u001b[39;00m\n\u001b[1;32m--> 712\u001b[0m     \u001b[39mreturn\u001b[39;00m \u001b[39mself\u001b[39;49m\u001b[39m.\u001b[39;49m_objectify_request(method\u001b[39m=\u001b[39;49m\u001b[39m\"\u001b[39;49m\u001b[39mGET\u001b[39;49m\u001b[39m\"\u001b[39;49m, params\u001b[39m=\u001b[39;49mparams, path\u001b[39m=\u001b[39;49mpath)\n",
      "File \u001b[1;32md:\\Documents\\giaoTrinh\\nam_2\\ki-3\\nhap-mon-khoa-hoc-du-lieu\\BTL-3-NMKHDL\\.venv\\Lib\\site-packages\\praw\\reddit.py:517\u001b[0m, in \u001b[0;36mReddit._objectify_request\u001b[1;34m(self, data, files, json, method, params, path)\u001b[0m\n\u001b[0;32m    491\u001b[0m \u001b[39mdef\u001b[39;00m \u001b[39m_objectify_request\u001b[39m(\n\u001b[0;32m    492\u001b[0m     \u001b[39mself\u001b[39m,\n\u001b[0;32m    493\u001b[0m     \u001b[39m*\u001b[39m,\n\u001b[1;32m   (...)\u001b[0m\n\u001b[0;32m    499\u001b[0m     path: \u001b[39mstr\u001b[39m \u001b[39m=\u001b[39m \u001b[39m\"\u001b[39m\u001b[39m\"\u001b[39m,\n\u001b[0;32m    500\u001b[0m ) \u001b[39m-\u001b[39m\u001b[39m>\u001b[39m Any:\n\u001b[0;32m    501\u001b[0m \u001b[39m    \u001b[39m\u001b[39m\"\"\"Run a request through the ``Objector``.\u001b[39;00m\n\u001b[0;32m    502\u001b[0m \n\u001b[0;32m    503\u001b[0m \u001b[39m    :param data: Dictionary, bytes, or file-like object to send in the body of the\u001b[39;00m\n\u001b[1;32m   (...)\u001b[0m\n\u001b[0;32m    514\u001b[0m \n\u001b[0;32m    515\u001b[0m \u001b[39m    \"\"\"\u001b[39;00m\n\u001b[0;32m    516\u001b[0m     \u001b[39mreturn\u001b[39;00m \u001b[39mself\u001b[39m\u001b[39m.\u001b[39m_objector\u001b[39m.\u001b[39mobjectify(\n\u001b[1;32m--> 517\u001b[0m         \u001b[39mself\u001b[39;49m\u001b[39m.\u001b[39;49mrequest(\n\u001b[0;32m    518\u001b[0m             data\u001b[39m=\u001b[39;49mdata,\n\u001b[0;32m    519\u001b[0m             files\u001b[39m=\u001b[39;49mfiles,\n\u001b[0;32m    520\u001b[0m             json\u001b[39m=\u001b[39;49mjson,\n\u001b[0;32m    521\u001b[0m             method\u001b[39m=\u001b[39;49mmethod,\n\u001b[0;32m    522\u001b[0m             params\u001b[39m=\u001b[39;49mparams,\n\u001b[0;32m    523\u001b[0m             path\u001b[39m=\u001b[39;49mpath,\n\u001b[0;32m    524\u001b[0m         )\n\u001b[0;32m    525\u001b[0m     )\n",
      "File \u001b[1;32md:\\Documents\\giaoTrinh\\nam_2\\ki-3\\nhap-mon-khoa-hoc-du-lieu\\BTL-3-NMKHDL\\.venv\\Lib\\site-packages\\praw\\util\\deprecate_args.py:43\u001b[0m, in \u001b[0;36m_deprecate_args.<locals>.wrapper.<locals>.wrapped\u001b[1;34m(*args, **kwargs)\u001b[0m\n\u001b[0;32m     36\u001b[0m     arg_string \u001b[39m=\u001b[39m _generate_arg_string(_old_args[: \u001b[39mlen\u001b[39m(args)])\n\u001b[0;32m     37\u001b[0m     warn(\n\u001b[0;32m     38\u001b[0m         \u001b[39mf\u001b[39m\u001b[39m\"\u001b[39m\u001b[39mPositional arguments for \u001b[39m\u001b[39m{\u001b[39;00mfunc\u001b[39m.\u001b[39m\u001b[39m__qualname__\u001b[39m\u001b[39m!r}\u001b[39;00m\u001b[39m will no longer be\u001b[39m\u001b[39m\"\u001b[39m\n\u001b[0;32m     39\u001b[0m         \u001b[39mf\u001b[39m\u001b[39m\"\u001b[39m\u001b[39m supported in PRAW 8.\u001b[39m\u001b[39m\\n\u001b[39;00m\u001b[39mCall this function with \u001b[39m\u001b[39m{\u001b[39;00marg_string\u001b[39m}\u001b[39;00m\u001b[39m.\u001b[39m\u001b[39m\"\u001b[39m,\n\u001b[0;32m     40\u001b[0m         \u001b[39mDeprecationWarning\u001b[39;00m,\n\u001b[0;32m     41\u001b[0m         stacklevel\u001b[39m=\u001b[39m\u001b[39m2\u001b[39m,\n\u001b[0;32m     42\u001b[0m     )\n\u001b[1;32m---> 43\u001b[0m \u001b[39mreturn\u001b[39;00m func(\u001b[39m*\u001b[39;49m\u001b[39m*\u001b[39;49m\u001b[39mdict\u001b[39;49m(\u001b[39mzip\u001b[39;49m(_old_args, args)), \u001b[39m*\u001b[39;49m\u001b[39m*\u001b[39;49mkwargs)\n",
      "File \u001b[1;32md:\\Documents\\giaoTrinh\\nam_2\\ki-3\\nhap-mon-khoa-hoc-du-lieu\\BTL-3-NMKHDL\\.venv\\Lib\\site-packages\\praw\\reddit.py:941\u001b[0m, in \u001b[0;36mReddit.request\u001b[1;34m(self, data, files, json, method, params, path)\u001b[0m\n\u001b[0;32m    939\u001b[0m     \u001b[39mraise\u001b[39;00m ClientException(\u001b[39m\"\u001b[39m\u001b[39mAt most one of \u001b[39m\u001b[39m'\u001b[39m\u001b[39mdata\u001b[39m\u001b[39m'\u001b[39m\u001b[39m or \u001b[39m\u001b[39m'\u001b[39m\u001b[39mjson\u001b[39m\u001b[39m'\u001b[39m\u001b[39m is supported.\u001b[39m\u001b[39m\"\u001b[39m)\n\u001b[0;32m    940\u001b[0m \u001b[39mtry\u001b[39;00m:\n\u001b[1;32m--> 941\u001b[0m     \u001b[39mreturn\u001b[39;00m \u001b[39mself\u001b[39;49m\u001b[39m.\u001b[39;49m_core\u001b[39m.\u001b[39;49mrequest(\n\u001b[0;32m    942\u001b[0m         data\u001b[39m=\u001b[39;49mdata,\n\u001b[0;32m    943\u001b[0m         files\u001b[39m=\u001b[39;49mfiles,\n\u001b[0;32m    944\u001b[0m         json\u001b[39m=\u001b[39;49mjson,\n\u001b[0;32m    945\u001b[0m         method\u001b[39m=\u001b[39;49mmethod,\n\u001b[0;32m    946\u001b[0m         params\u001b[39m=\u001b[39;49mparams,\n\u001b[0;32m    947\u001b[0m         path\u001b[39m=\u001b[39;49mpath,\n\u001b[0;32m    948\u001b[0m     )\n\u001b[0;32m    949\u001b[0m \u001b[39mexcept\u001b[39;00m BadRequest \u001b[39mas\u001b[39;00m exception:\n\u001b[0;32m    950\u001b[0m     \u001b[39mtry\u001b[39;00m:\n",
      "File \u001b[1;32md:\\Documents\\giaoTrinh\\nam_2\\ki-3\\nhap-mon-khoa-hoc-du-lieu\\BTL-3-NMKHDL\\.venv\\Lib\\site-packages\\prawcore\\sessions.py:330\u001b[0m, in \u001b[0;36mSession.request\u001b[1;34m(self, method, path, data, files, json, params, timeout)\u001b[0m\n\u001b[0;32m    328\u001b[0m     json[\u001b[39m\"\u001b[39m\u001b[39mapi_type\u001b[39m\u001b[39m\"\u001b[39m] \u001b[39m=\u001b[39m \u001b[39m\"\u001b[39m\u001b[39mjson\u001b[39m\u001b[39m\"\u001b[39m\n\u001b[0;32m    329\u001b[0m url \u001b[39m=\u001b[39m urljoin(\u001b[39mself\u001b[39m\u001b[39m.\u001b[39m_requestor\u001b[39m.\u001b[39moauth_url, path)\n\u001b[1;32m--> 330\u001b[0m \u001b[39mreturn\u001b[39;00m \u001b[39mself\u001b[39;49m\u001b[39m.\u001b[39;49m_request_with_retries(\n\u001b[0;32m    331\u001b[0m     data\u001b[39m=\u001b[39;49mdata,\n\u001b[0;32m    332\u001b[0m     files\u001b[39m=\u001b[39;49mfiles,\n\u001b[0;32m    333\u001b[0m     json\u001b[39m=\u001b[39;49mjson,\n\u001b[0;32m    334\u001b[0m     method\u001b[39m=\u001b[39;49mmethod,\n\u001b[0;32m    335\u001b[0m     params\u001b[39m=\u001b[39;49mparams,\n\u001b[0;32m    336\u001b[0m     timeout\u001b[39m=\u001b[39;49mtimeout,\n\u001b[0;32m    337\u001b[0m     url\u001b[39m=\u001b[39;49murl,\n\u001b[0;32m    338\u001b[0m )\n",
      "File \u001b[1;32md:\\Documents\\giaoTrinh\\nam_2\\ki-3\\nhap-mon-khoa-hoc-du-lieu\\BTL-3-NMKHDL\\.venv\\Lib\\site-packages\\prawcore\\sessions.py:266\u001b[0m, in \u001b[0;36mSession._request_with_retries\u001b[1;34m(self, data, files, json, method, params, timeout, url, retry_strategy_state)\u001b[0m\n\u001b[0;32m    253\u001b[0m     \u001b[39mreturn\u001b[39;00m \u001b[39mself\u001b[39m\u001b[39m.\u001b[39m_do_retry(\n\u001b[0;32m    254\u001b[0m         data,\n\u001b[0;32m    255\u001b[0m         files,\n\u001b[1;32m   (...)\u001b[0m\n\u001b[0;32m    263\u001b[0m         url,\n\u001b[0;32m    264\u001b[0m     )\n\u001b[0;32m    265\u001b[0m \u001b[39melif\u001b[39;00m response\u001b[39m.\u001b[39mstatus_code \u001b[39min\u001b[39;00m \u001b[39mself\u001b[39m\u001b[39m.\u001b[39mSTATUS_EXCEPTIONS:\n\u001b[1;32m--> 266\u001b[0m     \u001b[39mraise\u001b[39;00m \u001b[39mself\u001b[39m\u001b[39m.\u001b[39mSTATUS_EXCEPTIONS[response\u001b[39m.\u001b[39mstatus_code](response)\n\u001b[0;32m    267\u001b[0m \u001b[39melif\u001b[39;00m response\u001b[39m.\u001b[39mstatus_code \u001b[39m==\u001b[39m codes[\u001b[39m\"\u001b[39m\u001b[39mno_content\u001b[39m\u001b[39m\"\u001b[39m]:\n\u001b[0;32m    268\u001b[0m     \u001b[39mreturn\u001b[39;00m\n",
      "\u001b[1;31mForbidden\u001b[0m: received 403 HTTP response"
     ]
    }
   ],
   "source": [
    "for subject in subreddits:\n",
    "    prawGetData(limit=limit,subredditName=subject)"
   ]
  },
  {
   "cell_type": "code",
   "execution_count": null,
   "metadata": {},
   "outputs": [],
   "source": []
  }
 ],
 "metadata": {
  "kernelspec": {
   "display_name": ".venv",
   "language": "python",
   "name": "python3"
  },
  "language_info": {
   "codemirror_mode": {
    "name": "ipython",
    "version": 3
   },
   "file_extension": ".py",
   "mimetype": "text/x-python",
   "name": "python",
   "nbconvert_exporter": "python",
   "pygments_lexer": "ipython3",
   "version": "3.11.3"
  },
  "orig_nbformat": 4
 },
 "nbformat": 4,
 "nbformat_minor": 2
}
