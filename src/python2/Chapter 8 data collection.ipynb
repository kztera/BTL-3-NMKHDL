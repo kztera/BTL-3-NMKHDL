{
 "cells": [
  {
   "cell_type": "markdown",
   "id": "85aa34f1",
   "metadata": {},
   "source": [
    "# Chapter 8 Data Collection"
   ]
  },
  {
   "cell_type": "markdown",
   "id": "0b07754e",
   "metadata": {},
   "source": [
    "## Library dependencies"
   ]
  },
  {
   "cell_type": "code",
   "execution_count": 1,
   "id": "a0e9c493",
   "metadata": {},
   "outputs": [],
   "source": [
    "import praw\n",
    "import sqlite3"
   ]
  },
  {
   "cell_type": "markdown",
   "id": "618e3503",
   "metadata": {},
   "source": [
    "## Sqlite storage setup"
   ]
  },
  {
   "cell_type": "code",
   "execution_count": 7,
   "id": "4cdb20c9",
   "metadata": {},
   "outputs": [],
   "source": [
    "conn = sqlite3.connect('reddit.db')\n",
    "c = conn.cursor()"
   ]
  },
  {
   "cell_type": "code",
   "execution_count": 8,
   "id": "b43c3912",
   "metadata": {},
   "outputs": [
    {
     "data": {
      "text/plain": [
       "<sqlite3.Cursor at 0x7b39ab0>"
      ]
     },
     "execution_count": 8,
     "metadata": {},
     "output_type": "execute_result"
    }
   ],
   "source": [
    "c.execute('''DROP TABLE IF EXISTS topics''')\n",
    "\n",
    "c.execute('''DROP TABLE IF EXISTS comments''')\n",
    "\n",
    "c.execute('''CREATE TABLE topics\n",
    "             (topicTitle text, topicText text, topicID text, topicCategory text)''')\n",
    "\n",
    "c.execute('''CREATE TABLE comments\n",
    "             (commentText text, commentID text ,topicTitle text, topicText text, topicID text , topicCategory text)''')"
   ]
  },
  {
   "cell_type": "markdown",
   "id": "c83a65d8",
   "metadata": {},
   "source": [
    "## Praw Reddit connection information"
   ]
  },
  {
   "cell_type": "code",
   "execution_count": 9,
   "id": "cd9deb7e",
   "metadata": {},
   "outputs": [],
   "source": [
    "user_agent = \"Introducing Data Science Book\"\n",
    "r = praw.Reddit(user_agent=user_agent)\n",
    "subreddits = ['datascience','gameofthrones']\n",
    "limit = 1000"
   ]
  },
  {
   "cell_type": "markdown",
   "id": "801f3b54",
   "metadata": {},
   "source": [
    "## Praw data gathering function"
   ]
  },
  {
   "cell_type": "code",
   "execution_count": 10,
   "id": "3d009143",
   "metadata": {},
   "outputs": [],
   "source": [
    "def prawGetData(limit,subredditName):\n",
    "    topics = r.get_subreddit(subredditName).get_hot(limit=limit)\n",
    "    commentInsert = []\n",
    "    topicInsert = []\n",
    "    topicNBR = 1\n",
    "    for topic in topics:\n",
    "        if (float(topicNBR)/limit)*100 in xrange(1,100):\n",
    "            print '*********** TOPIC:' + str(topic.id) + ' *********COMPLETE: ' + str((float(topicNBR)/limit)*100) + ' % ****'\n",
    "        topicNBR += 1\n",
    "        try:\n",
    "            topicInsert.append((topic.title,topic.selftext,topic.id,subredditName))\n",
    "        except:\n",
    "            pass\n",
    "        try:\n",
    "            for comment in topic.comments:\n",
    "                commentInsert.append((comment.body,comment.id,topic.title,topic.selftext,topic.id,subredditName))\n",
    "        except:\n",
    "            pass\n",
    "    print  '********************************'\n",
    "    print  'INSERTING DATA INTO SQLITE'\n",
    "    c.executemany('INSERT INTO topics VALUES (?,?,?,?)', topicInsert) \n",
    "    print  'INSERTED TOPICS'\n",
    "    c.executemany('INSERT INTO comments VALUES (?,?,?,?,?,?)', commentInsert) \n",
    "    print  'INSERTED COMMENTS'\n",
    "    conn.commit()\n",
    "    "
   ]
  },
  {
   "cell_type": "markdown",
   "id": "09fc3700",
   "metadata": {},
   "source": [
    "## Executing Data Collection"
   ]
  },
  {
   "cell_type": "code",
   "execution_count": 11,
   "id": "10e2b35b",
   "metadata": {},
   "outputs": [
    {
     "name": "stdout",
     "output_type": "stream",
     "text": [
      "*********** TOPIC:39q9jf *********COMPLETE: 1.0 % ****\n",
      "*********** TOPIC:39ka5n *********COMPLETE: 2.0 % ****\n",
      "*********** TOPIC:398cvb *********COMPLETE: 3.0 % ****\n",
      "*********** TOPIC:38yx5x *********COMPLETE: 4.0 % ****\n",
      "*********** TOPIC:38h8a6 *********COMPLETE: 5.0 % ****\n",
      "*********** TOPIC:387hh4 *********COMPLETE: 6.0 % ****\n",
      "*********** TOPIC:37mn8d *********COMPLETE: 8.0 % ****\n",
      "*********** TOPIC:37dom9 *********COMPLETE: 9.0 % ****\n",
      "*********** TOPIC:373lpg *********COMPLETE: 10.0 % ****\n",
      "*********** TOPIC:36x377 *********COMPLETE: 11.0 % ****\n",
      "*********** TOPIC:36gmgc *********COMPLETE: 12.0 % ****\n",
      "*********** TOPIC:367tx5 *********COMPLETE: 13.0 % ****\n",
      "*********** TOPIC:35pved *********COMPLETE: 15.0 % ****\n",
      "*********** TOPIC:35ijoe *********COMPLETE: 16.0 % ****\n",
      "*********** TOPIC:358ezf *********COMPLETE: 17.0 % ****\n",
      "*********** TOPIC:352rg6 *********COMPLETE: 18.0 % ****\n",
      "*********** TOPIC:34tc1o *********COMPLETE: 19.0 % ****\n",
      "*********** TOPIC:34gxr7 *********COMPLETE: 20.0 % ****\n",
      "*********** TOPIC:349t04 *********COMPLETE: 21.0 % ****\n",
      "*********** TOPIC:345umx *********COMPLETE: 22.0 % ****\n",
      "*********** TOPIC:33ylaf *********COMPLETE: 23.0 % ****\n",
      "*********** TOPIC:33pz6w *********COMPLETE: 24.0 % ****\n",
      "*********** TOPIC:33jl2r *********COMPLETE: 25.0 % ****\n",
      "*********** TOPIC:339eyr *********COMPLETE: 26.0 % ****\n",
      "*********** TOPIC:32uocf *********COMPLETE: 27.0 % ****\n",
      "*********** TOPIC:31ogrt *********COMPLETE: 30.0 % ****\n",
      "*********** TOPIC:31ksio *********COMPLETE: 31.0 % ****\n",
      "*********** TOPIC:318jiy *********COMPLETE: 32.0 % ****\n",
      "*********** TOPIC:30ylkj *********COMPLETE: 33.0 % ****\n",
      "*********** TOPIC:30rzig *********COMPLETE: 34.0 % ****\n",
      "*********** TOPIC:30fky2 *********COMPLETE: 35.0 % ****\n",
      "*********** TOPIC:303b83 *********COMPLETE: 36.0 % ****\n",
      "*********** TOPIC:2zpmle *********COMPLETE: 37.0 % ****\n",
      "*********** TOPIC:2zluq2 *********COMPLETE: 38.0 % ****\n",
      "*********** TOPIC:2zcj3r *********COMPLETE: 39.0 % ****\n",
      "*********** TOPIC:2yrw1n *********COMPLETE: 40.0 % ****\n",
      "*********** TOPIC:2yhvpz *********COMPLETE: 41.0 % ****\n",
      "*********** TOPIC:2y7c3h *********COMPLETE: 42.0 % ****\n",
      "*********** TOPIC:2y167f *********COMPLETE: 43.0 % ****\n",
      "*********** TOPIC:2xw2mo *********COMPLETE: 44.0 % ****\n",
      "*********** TOPIC:2xka4o *********COMPLETE: 45.0 % ****\n",
      "*********** TOPIC:2x2hyg *********COMPLETE: 46.0 % ****\n",
      "*********** TOPIC:2wkuus *********COMPLETE: 47.0 % ****\n",
      "*********** TOPIC:2wf23k *********COMPLETE: 48.0 % ****\n",
      "*********** TOPIC:2vvuhf *********COMPLETE: 49.0 % ****\n",
      "*********** TOPIC:2vl3ih *********COMPLETE: 50.0 % ****\n",
      "*********** TOPIC:2va0el *********COMPLETE: 51.0 % ****\n",
      "*********** TOPIC:2uwyde *********COMPLETE: 52.0 % ****\n",
      "*********** TOPIC:2ulwh7 *********COMPLETE: 53.0 % ****\n",
      "*********** TOPIC:2u7hx1 *********COMPLETE: 54.0 % ****\n",
      "*********** TOPIC:2sji91 *********COMPLETE: 59.0 % ****\n",
      "*********** TOPIC:2sgv3d *********COMPLETE: 60.0 % ****\n",
      "*********** TOPIC:2s69wz *********COMPLETE: 61.0 % ****\n",
      "*********** TOPIC:2rx3e2 *********COMPLETE: 62.0 % ****\n",
      "*********** TOPIC:2rk7dv *********COMPLETE: 63.0 % ****\n",
      "*********** TOPIC:2r6egr *********COMPLETE: 64.0 % ****\n",
      "*********** TOPIC:2qq3ky *********COMPLETE: 65.0 % ****\n",
      "*********** TOPIC:2q8oge *********COMPLETE: 66.0 % ****\n",
      "*********** TOPIC:2pss2m *********COMPLETE: 67.0 % ****\n",
      "*********** TOPIC:2pcm4j *********COMPLETE: 68.0 % ****\n",
      "*********** TOPIC:2p0ot3 *********COMPLETE: 69.0 % ****\n",
      "*********** TOPIC:2oixdd *********COMPLETE: 70.0 % ****\n",
      "*********** TOPIC:2o39e2 *********COMPLETE: 71.0 % ****\n",
      "*********** TOPIC:2np9yd *********COMPLETE: 72.0 % ****\n",
      "*********** TOPIC:2naoi0 *********COMPLETE: 73.0 % ****\n",
      "*********** TOPIC:2n68o8 *********COMPLETE: 74.0 % ****\n",
      "*********** TOPIC:2mumxj *********COMPLETE: 75.0 % ****\n",
      "*********** TOPIC:2mhr3z *********COMPLETE: 76.0 % ****\n",
      "*********** TOPIC:2m1c7e *********COMPLETE: 77.0 % ****\n",
      "*********** TOPIC:2lt8g0 *********COMPLETE: 78.0 % ****\n",
      "*********** TOPIC:2lctfl *********COMPLETE: 79.0 % ****\n",
      "*********** TOPIC:2kvjga *********COMPLETE: 80.0 % ****\n",
      "*********** TOPIC:2ki5wx *********COMPLETE: 81.0 % ****\n",
      "*********** TOPIC:2jocuq *********COMPLETE: 82.0 % ****\n",
      "*********** TOPIC:2j7wct *********COMPLETE: 83.0 % ****\n",
      "*********** TOPIC:2ikjij *********COMPLETE: 84.0 % ****\n",
      "*********** TOPIC:2hvro6 *********COMPLETE: 85.0 % ****\n",
      "*********** TOPIC:2hc3lz *********COMPLETE: 86.0 % ****\n",
      "*********** TOPIC:2gunlb *********COMPLETE: 87.0 % ****\n",
      "*********** TOPIC:2g3edj *********COMPLETE: 88.0 % ****\n",
      "*********** TOPIC:2fv6c8 *********COMPLETE: 89.0 % ****\n",
      "*********** TOPIC:2f111b *********COMPLETE: 90.0 % ****\n",
      "*********** TOPIC:2etp5y *********COMPLETE: 91.0 % ****\n",
      "*********** TOPIC:2e1y3k *********COMPLETE: 92.0 % ****\n",
      "*********** TOPIC:2docs5 *********COMPLETE: 93.0 % ****\n",
      "*********** TOPIC:2dc0j9 *********COMPLETE: 94.0 % ****\n",
      "********************************\n",
      "INSERTING DATA INTO SQLITE\n",
      "INSERTED TOPICS\n",
      "INSERTED COMMENTS\n",
      "*********** TOPIC:39v9dz *********COMPLETE: 1.0 % ****\n",
      "*********** TOPIC:39v8ri *********COMPLETE: 2.0 % ****\n",
      "*********** TOPIC:39w0ag *********COMPLETE: 3.0 % ****\n",
      "*********** TOPIC:39vta1 *********COMPLETE: 4.0 % ****\n",
      "*********** TOPIC:39sr5p *********COMPLETE: 5.0 % ****\n",
      "*********** TOPIC:39smyb *********COMPLETE: 6.0 % ****\n",
      "*********** TOPIC:39vn9b *********COMPLETE: 8.0 % ****\n",
      "*********** TOPIC:39votk *********COMPLETE: 9.0 % ****\n",
      "*********** TOPIC:39wkax *********COMPLETE: 10.0 % ****\n",
      "*********** TOPIC:39v5ku *********COMPLETE: 11.0 % ****\n",
      "*********** TOPIC:39vm14 *********COMPLETE: 12.0 % ****\n",
      "*********** TOPIC:39ujh4 *********COMPLETE: 13.0 % ****\n",
      "*********** TOPIC:39vm86 *********COMPLETE: 15.0 % ****\n",
      "*********** TOPIC:39vlef *********COMPLETE: 16.0 % ****\n",
      "*********** TOPIC:39vs5o *********COMPLETE: 17.0 % ****\n",
      "*********** TOPIC:39wkcz *********COMPLETE: 18.0 % ****\n",
      "*********** TOPIC:39wi1n *********COMPLETE: 19.0 % ****\n",
      "*********** TOPIC:39w4uv *********COMPLETE: 20.0 % ****\n",
      "*********** TOPIC:39w0a3 *********COMPLETE: 21.0 % ****\n",
      "*********** TOPIC:39wj5w *********COMPLETE: 22.0 % ****\n",
      "*********** TOPIC:39w2r3 *********COMPLETE: 23.0 % ****\n",
      "*********** TOPIC:39vps9 *********COMPLETE: 24.0 % ****\n",
      "*********** TOPIC:39w01f *********COMPLETE: 25.0 % ****\n",
      "*********** TOPIC:39woeb *********COMPLETE: 26.0 % ****\n",
      "*********** TOPIC:39u2a5 *********COMPLETE: 27.0 % ****\n",
      "*********** TOPIC:39vfva *********COMPLETE: 30.0 % ****\n",
      "*********** TOPIC:39vxx8 *********COMPLETE: 31.0 % ****\n",
      "*********** TOPIC:39vvgj *********COMPLETE: 32.0 % ****\n",
      "*********** TOPIC:39vdsp *********COMPLETE: 33.0 % ****\n",
      "*********** TOPIC:39vz0j *********COMPLETE: 34.0 % ****\n",
      "*********** TOPIC:39vebm *********COMPLETE: 35.0 % ****\n",
      "*********** TOPIC:39vph9 *********COMPLETE: 36.0 % ****\n",
      "*********** TOPIC:39vc6v *********COMPLETE: 37.0 % ****\n",
      "*********** TOPIC:39vuv7 *********COMPLETE: 38.0 % ****\n",
      "*********** TOPIC:39vauw *********COMPLETE: 39.0 % ****\n",
      "*********** TOPIC:39vmy8 *********COMPLETE: 40.0 % ****\n",
      "*********** TOPIC:39w19a *********COMPLETE: 41.0 % ****\n",
      "*********** TOPIC:39ve6k *********COMPLETE: 42.0 % ****\n",
      "*********** TOPIC:39wpdp *********COMPLETE: 43.0 % ****\n",
      "*********** TOPIC:39woo9 *********COMPLETE: 44.0 % ****\n",
      "*********** TOPIC:39vyjw *********COMPLETE: 45.0 % ****\n",
      "*********** TOPIC:39wmut *********COMPLETE: 46.0 % ****\n",
      "*********** TOPIC:39vfp5 *********COMPLETE: 47.0 % ****\n",
      "*********** TOPIC:39w60l *********COMPLETE: 48.0 % ****\n",
      "*********** TOPIC:39vlqe *********COMPLETE: 49.0 % ****\n",
      "*********** TOPIC:39vcgq *********COMPLETE: 50.0 % ****\n",
      "*********** TOPIC:39vk6g *********COMPLETE: 51.0 % ****\n",
      "*********** TOPIC:39vat8 *********COMPLETE: 52.0 % ****\n",
      "*********** TOPIC:39wi09 *********COMPLETE: 53.0 % ****\n",
      "*********** TOPIC:39wfzr *********COMPLETE: 54.0 % ****\n",
      "*********** TOPIC:39ssxv *********COMPLETE: 59.0 % ****\n",
      "*********** TOPIC:39w33p *********COMPLETE: 60.0 % ****\n",
      "*********** TOPIC:39w1rb *********COMPLETE: 61.0 % ****\n",
      "*********** TOPIC:39w17d *********COMPLETE: 62.0 % ****\n",
      "*********** TOPIC:39vzx3 *********COMPLETE: 63.0 % ****\n",
      "*********** TOPIC:39vxw6 *********COMPLETE: 64.0 % ****\n",
      "*********** TOPIC:39vutl *********COMPLETE: 65.0 % ****\n",
      "*********** TOPIC:39rymx *********COMPLETE: 66.0 % ****\n"
     ]
    },
    {
     "name": "stdout",
     "output_type": "stream",
     "text": [
      "*********** TOPIC:39vonf *********COMPLETE: 67.0 % ****\n",
      "*********** TOPIC:39vmc6 *********COMPLETE: 68.0 % ****\n",
      "*********** TOPIC:39vikz *********COMPLETE: 69.0 % ****\n",
      "*********** TOPIC:39vesc *********COMPLETE: 70.0 % ****\n",
      "*********** TOPIC:39vcbb *********COMPLETE: 71.0 % ****\n",
      "*********** TOPIC:39sqde *********COMPLETE: 72.0 % ****\n",
      "*********** TOPIC:39p2ak *********COMPLETE: 73.0 % ****\n",
      "*********** TOPIC:39unuq *********COMPLETE: 74.0 % ****\n",
      "*********** TOPIC:39r98u *********COMPLETE: 75.0 % ****\n",
      "*********** TOPIC:39s7fj *********COMPLETE: 76.0 % ****\n",
      "*********** TOPIC:39pvu0 *********COMPLETE: 77.0 % ****\n",
      "*********** TOPIC:39qi7r *********COMPLETE: 78.0 % ****\n",
      "*********** TOPIC:39v96l *********COMPLETE: 79.0 % ****\n",
      "*********** TOPIC:39n8tj *********COMPLETE: 80.0 % ****\n",
      "*********** TOPIC:39oxq9 *********COMPLETE: 81.0 % ****\n",
      "********************************\n",
      "INSERTING DATA INTO SQLITE\n",
      "INSERTED TOPICS\n",
      "INSERTED COMMENTS\n"
     ]
    }
   ],
   "source": [
    "for subject in subreddits:\n",
    "    prawGetData(limit=limit,subredditName=subject)"
   ]
  }
 ],
 "metadata": {
  "kernelspec": {
   "display_name": "Python 3 (ipykernel)",
   "language": "python",
   "name": "python3"
  },
  "language_info": {
   "codemirror_mode": {
    "name": "ipython",
    "version": 3
   },
   "file_extension": ".py",
   "mimetype": "text/x-python",
   "name": "python",
   "nbconvert_exporter": "python",
   "pygments_lexer": "ipython3",
   "version": "3.10.9"
  }
 },
 "nbformat": 4,
 "nbformat_minor": 1
}
