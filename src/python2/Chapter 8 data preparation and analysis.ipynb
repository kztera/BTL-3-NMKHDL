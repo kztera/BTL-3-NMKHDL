{
 "cells": [
  {
   "cell_type": "markdown",
   "id": "e49a38f8",
   "metadata": {},
   "source": [
    "# Data preparation (Text Mining)"
   ]
  },
  {
   "cell_type": "markdown",
   "id": "cd902abf",
   "metadata": {},
   "source": [
    "## Library dependencies"
   ]
  },
  {
   "cell_type": "code",
   "execution_count": 1,
   "id": "aafb7182",
   "metadata": {},
   "outputs": [],
   "source": [
    "import sqlite3\n",
    "import nltk\n",
    "import matplotlib.pyplot as plt\n",
    "from collections import OrderedDict\n",
    "import random"
   ]
  },
  {
   "cell_type": "code",
   "execution_count": 2,
   "id": "9be88688",
   "metadata": {},
   "outputs": [
    {
     "name": "stdout",
     "output_type": "stream",
     "text": [
      "[nltk_data] Downloading package punkt to\n",
      "[nltk_data]     C:\\Users\\Gebruiker\\AppData\\Roaming\\nltk_data...\n",
      "[nltk_data]   Package punkt is already up-to-date!\n",
      "[nltk_data] Downloading package stopwords to\n",
      "[nltk_data]     C:\\Users\\Gebruiker\\AppData\\Roaming\\nltk_data...\n",
      "[nltk_data]   Package stopwords is already up-to-date!\n"
     ]
    },
    {
     "data": {
      "text/plain": [
       "True"
      ]
     },
     "execution_count": 2,
     "metadata": {},
     "output_type": "execute_result"
    }
   ],
   "source": [
    "nltk.download('punkt')\n",
    "nltk.download('stopwords')"
   ]
  },
  {
   "cell_type": "markdown",
   "id": "cabde980",
   "metadata": {},
   "source": [
    "## Sqlite storage"
   ]
  },
  {
   "cell_type": "code",
   "execution_count": 3,
   "id": "87184d03",
   "metadata": {},
   "outputs": [],
   "source": [
    "conn = sqlite3.connect('reddit.db')\n",
    "c = conn.cursor()"
   ]
  },
  {
   "cell_type": "markdown",
   "id": "f1b0f1a3",
   "metadata": {},
   "source": [
    "## Stopwords"
   ]
  },
  {
   "cell_type": "code",
   "execution_count": 4,
   "id": "74fed469",
   "metadata": {},
   "outputs": [
    {
     "name": "stdout",
     "output_type": "stream",
     "text": [
      "[u'i', u'me', u'my', u'myself', u'we', u'our', u'ours', u'ourselves', u'you', u'your', u'yours', u'yourself', u'yourselves', u'he', u'him', u'his', u'himself', u'she', u'her', u'hers', u'herself', u'it', u'its', u'itself', u'they', u'them', u'their', u'theirs', u'themselves', u'what', u'which', u'who', u'whom', u'this', u'that', u'these', u'those', u'am', u'is', u'are', u'was', u'were', u'be', u'been', u'being', u'have', u'has', u'had', u'having', u'do', u'does', u'did', u'doing', u'a', u'an', u'the', u'and', u'but', u'if', u'or', u'because', u'as', u'until', u'while', u'of', u'at', u'by', u'for', u'with', u'about', u'against', u'between', u'into', u'through', u'during', u'before', u'after', u'above', u'below', u'to', u'from', u'up', u'down', u'in', u'out', u'on', u'off', u'over', u'under', u'again', u'further', u'then', u'once', u'here', u'there', u'when', u'where', u'why', u'how', u'all', u'any', u'both', u'each', u'few', u'more', u'most', u'other', u'some', u'such', u'no', u'nor', u'not', u'only', u'own', u'same', u'so', u'than', u'too', u'very', u's', u't', u'can', u'will', u'just', u'don', u'should', u'now']\n"
     ]
    }
   ],
   "source": [
    "stopwords = nltk.corpus.stopwords.words('english')\n",
    "print stopwords"
   ]
  },
  {
   "cell_type": "markdown",
   "id": "e92c6b78",
   "metadata": {},
   "source": [
    "## Filtering Function"
   ]
  },
  {
   "cell_type": "code",
   "execution_count": 5,
   "id": "6ce4cf6f",
   "metadata": {},
   "outputs": [],
   "source": [
    "def wordFilter(excluded,wordrow): \n",
    "    filtered = [word for word in wordrow if word not in excluded]\n",
    "    return filtered  "
   ]
  },
  {
   "cell_type": "markdown",
   "id": "738da583",
   "metadata": {},
   "source": [
    "## LowerCasing"
   ]
  },
  {
   "cell_type": "code",
   "execution_count": 6,
   "id": "a40c8959",
   "metadata": {},
   "outputs": [],
   "source": [
    "def lowerCaseArray(wordrow): \n",
    "    lowercased = [word.lower() for word in wordrow]\n",
    "    return lowercased  "
   ]
  },
  {
   "cell_type": "markdown",
   "id": "683fc0ed",
   "metadata": {},
   "source": [
    "## Process data 1"
   ]
  },
  {
   "cell_type": "code",
   "execution_count": 8,
   "id": "e170abe0",
   "metadata": {},
   "outputs": [],
   "source": [
    "def data_processing(sql):\n",
    "    c.execute(sql) #1\n",
    "    data = {'wordMatrix':[],'all_words':[]}\n",
    "    row = c.fetchone() #2\n",
    "    while row is not None:\n",
    "        wordrow = nltk.tokenize.word_tokenize(row[0]+\" \"+row[1]) #3\n",
    "        wordrow_lowercased = lowerCaseArray(wordrow)\n",
    "        wordrow_nostopwords = wordFilter(stopwords,wordrow_lowercased)\n",
    "        data['all_words'].extend(wordrow_nostopwords) #4\n",
    "        data['wordMatrix'].append(wordrow_nostopwords) #5\n",
    "        row = c.fetchone()#6 \n",
    "    return data\n",
    "#1 create pointer to the sqlite data\n",
    "#2 fetch the data row by row\n",
    "#3 row[0] is the title, row[1] is the topic text, we turn them into a single text blob\n",
    "#4 we will use  data['all_words'] for some data exploration\n",
    "#5 data['wordMatrix'] is a matrix comprised of wordvectors, 1 vector per document.\n",
    "#6 get a new document from the SQLite database"
   ]
  },
  {
   "cell_type": "code",
   "execution_count": 9,
   "id": "4ff5eb9a",
   "metadata": {},
   "outputs": [],
   "source": [
    "subreddits = ['datascience','gameofthrones']\n",
    "data = {}\n",
    "for subject in subreddits:\n",
    "    data[subject] = data_processing(sql='''SELECT topicTitle,topicText,topicCategory FROM topics WHERE topicCategory = '''+\"'\"+subject+\"'\")"
   ]
  },
  {
   "cell_type": "code",
   "execution_count": 10,
   "id": "765b1b78",
   "metadata": {},
   "outputs": [
    {
     "name": "stdout",
     "output_type": "stream",
     "text": [
      "[u'data', u'science', u'freelancing', u\"'m\", u'currently', u'masters', u'program', u'studying', u'business', u'analytics', u\"'m\", u'trying', u'get', u'data', u'freelancing', u'.', u\"'m\", u'still', u'learning', u'skill', u'set', u'typically', u'see', u'right', u\"'m\", u'fairly', u'proficient', u'sql', u'know', u'bit', u'r.', u'freelancers', u'find', u'jobs', u'?']\n"
     ]
    }
   ],
   "source": [
    "print data['datascience']['wordMatrix'][0]"
   ]
  },
  {
   "cell_type": "markdown",
   "id": "df091073",
   "metadata": {},
   "source": [
    "## Explore data: word frequencies"
   ]
  },
  {
   "cell_type": "markdown",
   "id": "34e44ff5",
   "metadata": {},
   "source": [
    "### Category 1: Data Science"
   ]
  },
  {
   "cell_type": "markdown",
   "id": "5aba460a",
   "metadata": {},
   "source": [
    "#### Word Frequencies"
   ]
  },
  {
   "cell_type": "code",
   "execution_count": 11,
   "id": "be3cac9a",
   "metadata": {},
   "outputs": [],
   "source": [
    "wordfreqs_cat1 = nltk.FreqDist(data['datascience']['all_words'])\n",
    "plt.hist(wordfreqs_cat1.values(), bins = range(10))\n",
    "plt.show()"
   ]
  },
  {
   "cell_type": "markdown",
   "id": "d66f3126",
   "metadata": {},
   "source": [
    "#### Most frequent words within data science posts"
   ]
  },
  {
   "cell_type": "code",
   "execution_count": 12,
   "id": "275a43b8",
   "metadata": {},
   "outputs": [
    {
     "name": "stdout",
     "output_type": "stream",
     "text": [
      "[(u'.', 2833), (u',', 2831), (u'data', 1882), (u'?', 1190), (u'science', 887), (u')', 812), (u'(', 739), (u\"'m\", 566), (u':', 548), (u'would', 427), (u\"'s\", 323), (u'like', 321), (u\"n't\", 288), (u'get', 252), (u'know', 225), (u\"'ve\", 213), (u'scientist', 211), (u'!', 209), (u'work', 204), (u'job', 199)]\n"
     ]
    }
   ],
   "source": [
    "print wordfreqs_cat1.most_common(20)"
   ]
  },
  {
   "cell_type": "markdown",
   "id": "bc3a9e0b",
   "metadata": {},
   "source": [
    "#### Least Frequent terms within data science posts"
   ]
  },
  {
   "cell_type": "code",
   "execution_count": 13,
   "id": "5e6ef5db",
   "metadata": {},
   "outputs": [
    {
     "name": "stdout",
     "output_type": "stream",
     "text": [
      "[u'post-grad', u'marching', u'cytoscape', u'wizardry', u\"'pure\", u'immature', u'socrata', u'filenotfoundexception', u'side-by-side', u'bringing', u'non-experienced', u'zestimate', u'formatting*', u'sustaining', u'errors', u'cooking', u'lookback', u'negates', u\"'sell\", u'statisticians/data', u'problems-solutions', u'hobby', u'agreement', u'so..', u'programmer/analyst', u'calculate', u'conversational', u'kids', u'k', u'deferring', u'controversy', u'ground', u'brought', u'unix', u'subbredit', u'//www.amazon.com/statistics-data-analysis-elementary-intermediate/dp/0137444265', u'txr', u'derivatives', u'//www.concordia.ca/jmsb/programs/undergraduate/bachelor/majors/business-technology-management/courses.html', u'denmark', u'thread-safe', u'avms', u'standardized', u'populations', u'jmp', u'91', u'hole', u'hold', u'95', u'wickam', u'locked', u'accomplishment', u'/u/mhermans', u'kissmetrics', u'household', u'purly', u'currency', u'methodology', u'hou', u'significance', u'preferable', u'typed', u'pre-bs', u'wins', u\"'new\", u'keeps', u'wind', u'wine', u'telecom', u'partnered', u'journals', u'a\\u2019s', u'rankings', u'fix', u'stevens', u'8gb', u'represents', u'data/data', u'averse', u'non-computer', u'whiv', u'truman', u'ring', u'120,000', u'touts', u'sms', u'mason', u'semiconductor', u'//www.cdm.depaul.edu/academics/pages/current/requirements', u'20field', u'strata', u'sensors', u'**tldr', u'cs/stat/coding/engineering', u'*experimental', u'35-40', u'clarity', u'spectra', u'similarly', u'mind-boggling', u'ml/dm/ds/bd', u'wisdom', u'technique', u'conceded', u'technic', u'ggplot/matplotlib/d3.js', u'showed', u'stanford-stat', u'iteration', u'mini-course', u'entail', u'hue', u'dummycode', u'20the', u'parsers', u'personalisation', u'genomic/healthcare', u'foundational', u'tools/', u'recommender', u'responsible', u'causing', u'three.js', u'transactions', u'non-cs/stats', u'simplify', u'response..', u'**i\\u2019m', u'macbook', u'jupyter', u'emailing', u'//www.thedataincubator.com', u'signatures', u'meetings', u'//www.thisismetis.com/data-science', u'touches', u'clicked', u'theme', u'touched', u'//en.wikipedia.org/wiki/data_wrangling', u'rice', u\"o'rielly\", u'semi-automated', u'textbooks', u'traverse', u'science..', u'fail', u'projects/', u'20three_predicting', u'postdocs', u'conceptual', u'letting', u'embeddings', u'parallels', u'world-scale', u'favorite/most', u'topology', u'+10', u'experimentalist', u'readers', u'ba/ma', u'tidyr', u'logic', u'math-related', u'adapted', u'groupon', u'258', u'billing', u'fri', u'20/hr', u'dots', u'obese', u'//grnh.se/nupa4d', u'canada-specific', u'gritty', u'own/getting', u'big-data', u'informatics/data', u'haphazard', u'drop-out', u'split', u'subfield', u'templates', u'boiled', u'filenames', u'where=san-francisco', u'ownership', u'software\\u2014h-data', u'cost-effectiveness', u'downwardly', u'//capp.sites.uchicago.edu/', u'//github.com/drussellmrichie', u'veteran', u'two-year/four-semester', u'financially', u'ease', u'advancement', u'east', u'posed', u'callbacks', u'science/visualization', u'non-abstract', u'bar/google', u'//blog.datadive.net/selecting-good-features-part-iii-random-forests/', u'consultants', u'ols', u'insistence', u'billboard', u'accesskeyid=6d2a085daca3daa9e4a3', u'contributing', u'losing', u'memorable', u'pandora\\u2019s', u'dollars', u'citizens', u'o', u'indeed.com', u'programming/stats', u'facility', u'mba', u'well-suited', u'wrap', u'reducing', u'40-50', u'abstractions', u'avail', u'overhead', u'launching', u'passport', u'paypal', u'datatau', u'talents', u'pagerank', u'msba', u'internship/full-time', u'disclosing', u'cmgfrm=http', u'r/d3.js/mysql', u'plotting/charting/graphing', u'roll', u'29/30', u'outage', u'intent', u'contacts', u'web-scraper', u'cheme', u'//adrianlange.com/blog/9', u'whoever', u'chair', u'ex-consultants', u'millisecond', u'berkeleys', u'obsessively', u'crater', u'194-16', u\"'use\", u'veterans', u'minute', u'skewed', u'settle', u'loads', u'unaware', u'insignificant', u'multi-agent', u'oracle\\u2019s', u'are..', u'modeling/machine', u'mid-management', u'remembered', u'internet.org', u'boost', u'totalling', u'costumer', u'vanderbilt', u'standard/normal', u'brilliant', u'impacted', u'r/python/sql', u'queue', u'confidentiality', u'bi/analytics', u'raking', u'traversing', u'carbon-based', u'undergone', u'afford', u'behalf', u'//www.whitehouse.gov/digital/united-states-digital-service', u'homefs', u'2fwww.google.com', u'//alex.smola.org/drafts/thebook.pdf', u'alt-academic', u'scrubbing/munging', u'//www.wired.com/2014/12/deep-learning-renormalization/', u'listens', u'divided', u'high-energy', u'explored', u'suck', u'sectors', u'mining/machine', u'applicant', u'sw', u'sc', u'definitions', u'tutoring', u'se', u'sd', u'quintas', u'magazine/website', u'relegate', u'monotonous/horrible/am', u'thumb', u'//nwb.cns.iu.edu/', u'torn', u'troubles', u'1-on-1', u'jit', u'conveying', u'smarter', u'sorted', u'maintaining', u'aero-astro', u'utm_source=spark', u'square', u'receipt', u'troll', u'two-fold', u'exploding', u'unifying', u'erp', u'lucrative', u'employer/my', u'bioe', u'downsides', u'burtch', u'symmetry', u'potter', u'vote', u'geo-taxonomy', u'id=11597', u'indicate', u'//en.wikipedia.org/wiki/pythagorean_expectation', u'realization', u'~400', u'proving', u'ridiculous', u'representing', u'*nodes', u'distribution-free', u'iceberg', u'depressed', u'first-author', u'writecsv', u'distill', u'big/real', u'proactive', u'10-15', u'alley', u'//github.com/musically-ut/seqfile', u'seqfile', u'microcontrollers', u'fictitious', u'preconfiguration', u'gradudate', u'admin/report', u'n2value.com', u\"'07\", u'refining', u'salt', u'compadres', u'commitments', u'inconsistent', u'scarce', u'ensembles', u'welcomed', u'kahler', u'freezing', u'**free', u'awaiting', u'keenly', u'absurdly', u'self-promotion', u'//www.seas.harvard.edu/programs/graduate/computational-science-and-engineering', u'espn', u'impressions', u'~5', u'percentiles', u'outclassed', u'moons', u'//books.wwnorton.com/books/webad.aspx', u'browsers', u'vertical', u'screen', u'moblie', u'adept', u'meetup', u'3000', u'1587', u'h2year2', u'parses', u'relations', u'gist', u'ethical', u'*.net', u'formed', u'300k', u'hashtag', u'-70', u'2-year', u'graphed', u'//www.coursera.org/specialization/jhudatascience/1/courses', u'binary', u'hackathons/', u'surveillance', u'breakdown', u'singapore', u'wired', u'customized', u'algorithms/math', u'trains', u'nosql', u'//www.datadirect.ae/', u'-reviews', u'generator', u'micropolitan', u'dark', u'preference', u'vague', u'tsunami', u'integrals', u'conditional', u'diving', u'scholarships', u'noob', u'refer', u'unsuccessfully', u'accessing', u'leadership', u'ace', u'act', u'//www.stevens.edu/howe/academics/graduate/business-intelligence-analytics/overview', u'non-obvious', u\"'or\", u'enrolments', u'pivot', u'20logistic', u'mindless', u'recommends', u'//grnh.se/q6whti', u'elimination', u'abused', u'upper-level', u'cgpa', u'robustness', u'agree', u'company/firm', u'hard-core', u'al', u'ap', u'fumbling', u'hobbies', u'watched', u'jargon', u'yoga', u'novice', u'vocational', u'puppy', u'certificateid=1209602', u'contextually', u'a.', u'retardation', u'middling', u'urgency/day-to-day', u'//nebula.wsimg.com/f69b1f2cf1e8e008e551bd14627a74d6', u'20of', u'dssg', u'fraudulent', u'mass', u'adam', u'9/11', u'-numerical', u'linear/matrix', u'caused', u'reports/ssas', u'line/surface/volume', u'causey', u'id=3202081', u'caveats', u'norc', u'tail', u'ta', u'returned', u'30/hr', u'plaining', u'interpreting', u'revolving', u'sans', u'laying', u'cs/statistics', u'harry', u'quicker', u'196', u're-occuring', u'succinct', u'portrays', u'ggvis', u'civilians', u'utm_medium=feed', u'november', u'//sci2.cns.iu.edu/user/index.php', u'welder', u'indoors', u'pythagorean', u'gosh', u'estimate', u'vlsi', u'objectives', u'automata', u'utilizes', u'archives', u'inferential', u'tested', u'//datascopeanalytics.com/what-we-think/2014/08/04/how-do-i-become-a-data-scientist-an-evaluation-of-3-alternatives', u'ontogeny', u'thedataincubator.com', u'*do*', u'accept', u'hugo', u'qid=1422393449', u'confused..', u'notre', u'plane', u'tulane', u'//www.reddit.com/r/datascience/comments/33b685/data_analyst_jobs_in_chicago/', u'bowl', u'attitude', u'accidentaly', u'replies', u'bulldozers', u'decision-maker', u'ruining', u'focussed', u'sucked', u'coursea', u'troubleshoot', u'_transform', u'userid', u'denny', u'experiencing', u\"'modern\", u'disorganized', u'england', u'//www.datasciencecentral.com/profiles/blogs/54-new-resources-and-articles-about-data-science-big-data', u'measurement', u'missed', u'sparingly', u'ftc', u'offline', u'county/boston', u'director', u'albatross', u'choropleth', u'positioning', u'excluding', u'***i', u'elective', u'contingency', u'//www.kaggle.com/forums/f/145/data-science-jobs', u'preservation', u'anonymity', u'3a+rbloggers+', u'moderately', u'molecular', u'//www.amazon.com/feature-extraction-processing-computer-vision/dp/0123965497/', u'appreciation', u'unrealistic', u'diffusion', u'marriage', u're-learn', u'beforehand', u'ds-related', u'sell', u'science/math', u'internal', u'generalized', u'confluence', u'accepting', u'//www.amazon.com/data-scientists-work-sebastian-gutierrez/dp/1430265981', u'understands', u'incase', u'python..', u'actionable', u'exp', u'wording', u'golf', u'gold', u'nasdaq', u'researcher/data', u'math/statistics', u'under/overemphasised', u'wraps', u'condor', u'writes', u'competently', u'failed', u'ingram', u'r/realestatetechnology', u'reporters', u'enemy', u'bayes\\u2019', u'obscure', u'rfm', u'years\\u2019', u'creator', u'eviews', u'collectively', u'migration', u'seo', u'movie', u'feeback', u'compliment', u'effectivness', u'resume/portfolio', u'minitab', u'improved', u\"'big\", u'arraylist', u'nserc', u'electrician', u'bell', u'lagrangians', u'northeastern', u'corresponds', u'dimensional', u'all-around', u'filemaker', u'intricacies', u'mindset', u'fund', u'mlb', u'uncertain', u'exponential', u'budget', u'styles', u'averaging', u'von', u'//hbr.org/2012/10/data-scientist-the-sexiest-job-of-the-21st-century/', u'//www.custora.com/pulse/home', u'funny', u'drawcards', u'actuaries', u'shorter', u'flooded', u'psuedo', u'learn**', u'//klinger.io/post/72440546722/a-primer-on-startup-metrics-which-analytics-tool-to', u\"'further\", u'plagued', u'contradicting', u'surprises', u'advertisements', u'overthinking', u'high-ranking', u'abound', u'pertinent', u'\\u201clook', u'pertaining', u'b.', u'fivethirtyeight', u'research+cs', u'palo', u'//github.com/googlecloudplatform/ipython-soccer-predictions', u'importing/converting/re-factoring/cleansing/normalizing', u'novelty', u'thrilled', u'deliverables', u'employability', u'dictated', u'terrorists', u'hometown', u'recreate', u'dirty/sloppy/messy', u'//www.cdm.depaul.edu/academics/pages/current/requirements-ms-in-predictive-analytics-computational.aspx', u'criticisms', u'custom', u'considerably', u'costumer\\u2019s', u'well-regarded', u'considerable', u'paired', u'uf', u'oddity', u'defines', u'coder', u'codes', u'gnuplot', u'fixing', u'scrape', u'coded', u'u.s..', u'robots', u'tailored', u'holes', u'walked', u'partial', u'spectrograms', u'existing', u'enjoyable', u'centers', u'cython', u'turkish', u'uploaded', u'value/interest', u'precinct', u'lynda', u'race', u'uel', u'mamangers', u'visuals', u'licensed', u'mid-30s', u'ode', u'expressed', u'respectively', u'octave', u'fifteen', u'engage', u'resulting', u'//blog.custora.com/2015/01/holiday-e-commerce-recap-2015-trends/', u'cto', u'weekends', u'holmes', u'//www.beyondcore.com/', u'data.stageposition', u'causal', u'bent', u'standing', u'confidence', u'ontology', u'devops', u'guideline', u'eleven', u'growth/opportunity', u'integrate', u'ol', u'labelled', u'33f', u'structs', u'integrating', u'fulfill', u'//www.anlytcs.com/2014/01/data-science-venn-diagram-v20.html', u'scatter', u'weaker', u'5-10yr', u'skills/experiences', u'rode', u'shuffled', u'delay', u'animal', u'120000', u'blackbox', u'software/software-like', u'robot', u'redundant', u'element', u'realizes', u'volunteers', u'houston', u'produces', u'produced', u'directx', u'\\u201ci\\u2019m', u'chosen', u'communication', u'2010', u'2012', u'graphical/visual', u'dock', u'transparent', u'wrangler', u'math/actuary', u'python/sql/excel/java/c++', u'nlp/sentiment', u'bump', u'self-study/self-paced', u'writer.writeheaders', u'society', u'pareto', u'must-read', u\"'blind\", u'singular', u'plot.ly', u'adaptive', u'shut', u'tempe', u'-10', u'us/canada', u'100k-3m', u'bothered', u'david', u'analytics/ml', u'length', u'assumed', u'manuscript', u'attest', u'stark', u'numerical/programming', u'owner', u'histograms', u'detailing', u'iirc', u'painful', u'//catalog.ufl.edu/ugrad/current/engineering/minors/computer-and-information-science-and-engineering.aspx', u'laymen', u'elite', u'haven', u'colleagues', u'bother', u'immersive', u'viewer', u'gentle', u'chi-square', u'non-phds', u'viewed', u'methods**', u'mills', u'westlaw', u'claremont', u'overhead/spreading', u'//sociology.osu.edu/world-handbook-information-codebook', u'//onlinelibrary.wiley.com/doi/10.1002/aic.14523/abstract', u'publicly-available', u'dba', u'ucsd/ucd', u'dbs', u'decade', u'principal', u'employees/interns', u'pause', u'jan', u'8,000', u'//www.manning.com/zumel/', u'listened', u'==', u'data.table', u'treeml', u'webcast', u'db2', u'science/analytics/decision', u'internships/co-op', u'p.s.s', u'reid', u'visualization/presenting', u'guessing', u'frame', u'correlations', u'6-midnight', u'24*365', u'20somethings', u'ends', u'darpa', u'configuration', u'invited', u'button\\u2014\\u201crestore\\u201d', u'heart', u'crawling/processing', u'adjusted', u'conclude', u'college/extra', u'worksheets', u'labor', u'outsider', u'genetic', u'poured', u'learning/statistics', u'//aka.ms/hadoopreddit', u'jobs/people', u'room/board', u'valuations', u'eduardo', u'1200', u'57k', u'ssrs', u'x-y', u'intranet', u'*business', u'\\u201cewwwww', u'vc', u'graduate-level', u'utm_medium=listingpage', u'insanely', u'heating', u'sherlock', u'politics', u'sits', u'greater', u'digging', u'conflicting', u'unimaginable', u'v.', u'architectures', u'infinite', u'php', u'4.0', u't-stat', u'7500', u'filesystem', u'flesh', u'predicts', u'model/mentor', u'wed', u'collects/cleans/produces', u'exempt', u'**data', u'desk', u'garage', u'informetrics', u'inexperienced', u'replacement', u'blueview', u'flush', u'knowledge/intricacies', u'papers/research', u'selecting', u'variables.rhumid', u'pressure', u'imaginary', u'keywords=second+machine+age', u'lifestyle', u'asks', u'//www.youtube.com/watch', u'documentary', u'executives', u'artefact', u'rectify', u'commitment', u'sliderule', u'negotiable', u'//www.datascienceformanagers.com/blog/2015/4/1/class-review-stanford-stats216-introduction-to-statistical-learning', u'spots', u'60k', u'frustration', u'naturally', u'function', u'overlapping', u'hastie', u'delivers', u'compute', u'excitement', u'psychographics', u'hvac', u'recognize', u'graphml', u'erring', u'16/f', u'compares', u'//efavdb.com/an-nba-christmas/', u'monday', u'//en.wikipedia.org/wiki/extract', u'fundamentally', u'trial2', u'rule', u'kickstart', u'relationships', u'engineering/creation', u'morris.js', u'//i.imgur.com/acsqs49.png', u'\\u201ck\\u201d', u'tagging', u'upload', u'humidity', u'announced', u'//aka.ms/amlreddit', u'stats/probability', u'approximation', u'chem', u'12mnth', u'interns', u'wrapping', u'celebration', u'daughter', u'self-studying', u'//www.reddit.com/r/datascience/comments/2vomul/so_you_want_to_be_a_data_scientist/', u'surely', u'aka', u'\\u20ac7,000', u'bro', u'socioeconomic', u'glance', u'//advanced.jhu.edu/academics/graduate-degree-programs/government-analytics/', u'experimentation', u'motivate', u'insult', u'//online.lewisu.edu/msds/masters-in-data-science/courses', u'us/new', u'continual', u'we\\u2019ll', u'ml/dm/data', u'1998', u'elbow', u'proceed..', u'indicated', u'utm_medium=banner', u'washington-seattle', u'validated', u'truthful', u'classifying', u'doable', u'lat', u'supermarkets', u'algorightms', u'satisfied', u'12.7', u'nets', u'asymptotes', u'highlights', u'sub-field', u'denver', u'safe', u'~20k', u'bank', u'bread', u'cloudera', u'somme', u'//konect.uni-koblenz.de/', u'psychology/biosciences', u'feeds', u'classifies', u'evolve', u'freeware', u'flock', u'sprints', u'.nwb', u'info**', u'admits', u'nto', u'detecting', u'log-', u'context/process', u'created', u'+2', u'regress', u'hadoop/spark', u'daunting', u'//github.com/blaiseyuri/communityvscrime/blob/master/commvscrimeforest.ipynb', u'jackknife', u'thoughtfully', u'comic', u'googlerefine', u'elevator', u'plentiful', u'course/certified', u'observations', u'dogs', u'5-10', u'offhand', u'happily', u'rejected', u'//www.soic.indiana.edu/graduate/degrees/data-science/ms-data-science/ms-requirements.html', u'target', u'glorified', u'solely', u'minus', u'strength', u'convenient', u'materials', u'/r/python', u'snowflake', u'only/mostly', u'assessed', u'800', u'demoralized', u'responded', u'fitted', u\"'junior\", u'd.', u'visualisation', u'implementation', u'dm', u'df', u'yielded', u'happiest', u'//www.datarobot.com', u'runs', u'selerity', u'gears', u'emr', u'depends', u'1/22/2015', u'lasso', u'wr', u'disservice', u'cow', u'ill', u'com', u'negotiation', u'openoakland', u'scientist\\u201d', u'tony', u'telecommunications', u'petty', u'topical', u'with/without', u'drafting', u'comprehensions', u'dozens', u'duties', u'partnership', u'poring', u'concerning', u'.setlineseparator', u'0.10', u'//archive.ics.uci.edu/ml/datasets/communities+and+crime+unnormalized', u'deterred', u'physician', u'gnu', u'air', u'aig', u'voice', u'davenport', u'launched', u'*the', u'comparative', u'internships/positions', u'nobody', u'grad/undergrad', u'wheel', u'//joelgrus.com/2015/04/26/data-science-from-scratch-first-principles-with-python/', u'soak', u'scenario', u'centres', u'wider', u'epa', u'unified', u'athletic', u'//groups.google.com/forum/', u'sabbatical', u'shoud', u'similarities', u'belongs', u'reputation/location', u'openings', u'parts/hardware', u'designers', u'dses', u'scikit-learn', u'invaluable', u'//www.udemy.com/advanced-microsoft-excel-2013-online-excel-course/', u't-sne', u'born', u'dedicating', u'yes_or_no', u'matriculate', u'denied', u'4/29', u'peek', u'pls', u'minimization', u'plz', u'*very*', u'v/s', u'taker', u'gartner', u'**substitute**', u'impenetrable', u'accepts', u'*/', u'shared', u'wasting', u'pays', u'xyz', u'float', u'attorney', u'liked/shared/commented', u'compression', u'150,000', u'war', u'marketing/management', u'remote-work', u'sqlalchemy', u'//www.wired.com/2015/02/white-house-names-dj-patil-first-us-chief-data-scientist/', u'firstnames', u'maximum', u'aeronautical', u'what\\u2019s', u'r/rstats', u'promises', u'evidence', u'promised', u'jons', u'scored', u'convincing', u'reading/learning', u'configs', u'how/if', u'hours~~', u'20with', u'songs', u'regrettably', u'devoted', u'hurry', u\"'yes\", u'jvm', u'//fivethirtyeight.com/datalab/introducing-nfl-elo-ratings/', u'sisense', u'presented', u'gui', u'ascertaining', u'gut', u'psycholinguistics', u'repetitive', u'discover', u'populating', u'initialized', u'hdfs', u'curse', u'appear', u'relational', u'//wekamooc.blogspot.com/', u'satisfy', u'burn', u'sieve', u'incoming', u'precursor', u'lakers', u'poisson', u'montreal', u'penalized', u'spenders', u'mckenna', u'rarely', u'obsolescence', u'benfit', u'towers', u'ability-wise', u'co-workers', u'analytics.usa.gov', u'bo/bi', u'6-12', u'fortunately', u'criterion', u'avg/median', u'southern', u'heroes', u'lifting', u'explicit', u'h1year1', u'approx', u'indeed', u'raised', u'utilize', u'ended', u'cold', u'//www.dynamicyield.com/2015/05/apache-hbase-for-the-win-2/', u'window', u'factual', u'norway', u'feats', u'halp', u'scaling', u'skill-set', u'question-then-resources', u'wont', u'research/expertise', u'p-values', u'yeah', u'snapshots', u'et', u'opened', u'programming-related', u'instate', u'filewriter', u'one-on-one', u'inevitably', u'//www.pro-football-reference.com/blog/', u'lmu', u'diagnostic', u'csvkit', u'advantages', u'selections', u'curation', u'invitation', u'etl/data', u'entrusted', u'problem-solution', u'xy', u'angular', u'sheer', u'silent', u'caught', u'traction', u'decent/average', u'list=plm4w7_ix_v4nqpujceogd-oknvo4c_cpd', u'non-traditional', u'altogether..', u'correction', u'overnight', u'well-read', u\"'on-ramp\", u'post-bs', u'computationally', u'vectorized', u'z-scores', u'java/python', u'equipment', u'roster', u'takeaways', u'neatly', u'rationale', u'forever', u'steady', u'clearing', u'conservatively', u'30-40', u'65-68k', u'ratio', u'//www.stat.cmu.edu/academics/graduate/the-masters-in-statistical-practice-program', u'seen-', u'followed/forked', u'verbosity', u'//www.reddit.com/r/datasets/comments/2b6kz3/socratas_soda_api_doesnt_have_a_python_wrapper_so/', u'husband', u'physically', u'graphic/interactive', u'namely', u'hell', u'cs-heavy', u'import', u\"'stream\", u'r/python/sas', u'science-style', u'blame', u'hurts', u'talented', u'newfound', u'nearby', u'madness', u'proved', u'rjayraaag1', u'linguistic', u'not-terribly', u'tournament', u'stems', u'ruby', u'realities', u'countless', u'xgmml', u'joke', u'guys/gals', u'canceled', u'bias', u'timezone', u'stickers', u'mediocre', u'pester', u'2yrs', u'n-dimensional', u'how/why', u'validate', u'charges', u'breeze', u'charged', u'\\u2208', u'accumulate', u'greetings', u'correspondences', u'legitimately', u'*undirectededges', u'treatment', u'disputing', u'momentum', u'dateset', u'desperately', u'psa', u'listening', u'database-related', u'execution', u'lady', u'/u/urinec', u'fortune', u'collective', u'untangle', u'//fivethirtyeight.com/tag/nfl/', u'hacks', u'product\\u2014h-data', u'//www.quora.com/how-do-i-become-a-data-scientist', u'tda', u'//pointraiser.com/top-sites-to-learn-data-science-and-analytics-courses-online/', u'resolveddata', u'throw', u'calculus/maths', u'extraction/cleaning', u'ideology', u'fell', u'time/power', u'polyglot', u'involvement', u'operator', u'stare', u'allergic', u'datasciencemasters/go', u'delayed', u'//eaventures.org', u'fraud', u'quantitatively', u'600', u'1203', u'geringer', u'hospitals', u'completeness', u'mathematica', u'ref=46b6669b815d', u'valid', u'evenings', u'polar', u'//www.reddit.com/r/datascience/comments/2bckim/inbrowser_hopefully_data_visualization/', u'coverage', u'8.1/64', u'3-6', u'3-4', u'hard-working', u'couse', u'embracing', u'strings', u'osx', u'unrest', u'deadline', u'messy', u'cincinnati', u'minded', u'building/selection', u'opting', u'attributable', u'learner', u'edited', u'rudimentary', u'tracks', u'selective', u'scientist\\u2026', u'language/linguistics', u'x/post', u'audiobook', u'~200mb', u're-creation', u'uniquely', u'lurker', u'ressources', u'aimed', u'trained', u'evernote', u'//blogs.wsj.com/cio/2014/05/21/taming-the-data-plumbing-problem/', u'psc=1', u'jr.', u'broke', u'7000', u'keywords=average+is+over', u'//generalassemb.ly/education/data-science/washington-dc', u'producing', u'oversight', u'hacker\\u2019s', u'transcend', u'*need*', u'firmly', u'eg.', u'reject', u'clustering/profiling', u'less-technical', u'communicating', u'triumphs', u'tries', u'0.100000e-02', u'science/machine', u'bugs', u'50-70', u'scaring', u'uninstall', u'taxonomy', u'sooo', u'thermal', u'~10k', u'dummies', u'fruitful', u'science/data', u'absence', u'peanuts', u'//www.reddit.com/r/datasets/comments/2hyxhb/all_current_walmart_stores_in_json_format/', u'fool', u'motivated', u'icdse', u'~100', u'starbucks', u'ch=re', u'ifs', u'//www.reddit.com/r/statistics/comments/2fyigb/showing_that_something_is_normal/', u'apprenticehip', u'resizes', u'inspections', u'todo', u'holistically', u'publish', u'csv-file', u'equate', u'targetted', u'timeline', u'stanfords', u'pageview', u'assign', u'merry', u'encoding', u'misc', u'rails', u'//datascience.berkeley.edu/', u'horse', u'minion', u'hivemind', u'shifted', u'selling', u'passed', u'blindly', u'jquery', u'grocery', u'hundred', u'collaborations', u'stm', u'utopia', u'intriguing.what', u'procedural', u'deciding', u'non-technical', u'substantiated', u'wasnt', u'alongside', u'novak', u'sentences', u'ratings', u'u.s', u'cave', u'liu', u'on-going', u'//www.tamr.com', u'quote', u'rho', u'id=8401406', u'wats', u'qbr', u'mobile', u'popularity', u'unreasonable', u'wasserman', u'velocity', u'mizzou/', u'reddit30', u'near-time', u'certs', u'top-notch', u'paranoid', u'etc..', u'deepdive', u'grew', u'immerse', u'improvement/systems', u'interim', u'throwing', u'certificateid=10555807', u'pictures', u'wow', u'3-course', u'familiarity', u'advice/considerations', u'scalability', u'genre', u'league', u'sensitive', u'experience/knowledge', u'liked', u'everyone.is', u\"'graduate\", u'nibble', u\"'python\", u'describes', u'empty', u'dame', u'alto', u'lived', u'boy', u'crack', u'production/calibrations', u'disruptive', u'vermeulen', u'choroplethr', u'randomly', u'practicality', u'\\u201cwe\\u2019re', u'284', u'intelligence*', u'informatively', u'shareable', u'loop', u'utm_campaign=feed', u'overlooked', u'reads', u'projects/how', u'baseline', u'grant', u'any/all', u'passably', u'powerful/comprehensive', u'conflict', u'lawyers', u'algorithms/databases', u'000', u'assortment', u'//statistics.stanford.edu/academics/ms-statistics-data-science', u'this**', u'insigts', u'nonetheless', u'docker', u'**my', u'intermediate-ish', u'informal', u'play/performance', u'anova', u'barack', u'underskilled', u'finalize', u'culturally', u'wiser', u'//www.barabasilab.com/rs-netdb.php', u'signal', u'provoking', u'depaulcs', u'urgent', u'//s3.amazonaws.com/aws.drewconway.com/viz/venn_diagram/data_science.html', u'warnings', u'minimal', u'algrithms', u'anecdotes', u'taboo', u'raspberry', u'logstash', u'shine', u'faith', u'sponsored', u'ide', u'tedxwakefo', u'**master', u'14.10', u'rolls', u'geo-info', u'placing', u'combinator', u'manufacture', u'specialty', u'//www.univocity.com/pages/parsers-tutorial', u'//julialang.org', u'sci^2', u'dull', u'livability', u'hair', u'suggestions/articles', u'technophile', u'kuhn', u'ordered', u'non-programmers', u'1000x1000', u'fears', u'ozsvald', u'transport', u'2furl', u'everybodys', u'~almost', u'critiques', u'visits', u'regulations', u'linprog', u'correlated', u'zooming', u'blend', u'resolving', u'correlates', u'ignorant', u'bogging', u'sounded', u'aggregating', u'ga', u'psycho', u'gi', u'//nirvacana.com/thoughts/wp-content/uploads/2013/07/roadtodatascientist1.png', u'section_id=1828', u'arrogance', u'relocated', u'quora', u'scientist/modeler', u'//www.youtube.com/playlist', u'button', u'unusual', u'michael', u'hive', u'olap', u'barbara', u'enforce', u'teasers', u'waking', u'honors', u'www.teamleada.com/data-year', u'eating', u'r/statistics', u'backgroudn', u'data..as', u'remembered*', u'scatterplot', u'reoccurring', u'patents', u'foresee', u'zipcodes', u'clare', u'crazy', u'addressed', u'anomalies', u'20likelihood', u'allmost', u'*x/y', u'1/3', u'zillow', u'announcing', u'number-driven', u'drops', u'dictation', u'econ/math', u'//www.cs.waikato.ac.nz/ml/weka/', u'vibe', u'r^2', u'redditors', u'//www.amazon.com/average-over-powering-america-stagnation-ebook/dp/b00c1n5woi/ref=sr_1_1', u'arrangement', u'sentiments', u'html/css/php/mysql', u'fare', u'furiously', u'regularization', u'datacamp', u'advocated', u'bipartite', u'9:1', u'*all*', u'facilitates', u'exclusion', u'etc..i', u'cirriculum', u'auto', u'documented', u'experiences/credentials/etc', u'literacy', u'let\\u2019s', u'read/write', u'nationals', u'analysis/science', u'investigative', u'transitions', u'special', u'qualifications/job', u'entertainment', u'r/datacience', u'advisor', u'pandas/scikitlearn/statsmodels', u'geometry', u'determining', u'florida', u'keen', u'prospective', u'us/ma/boston', u'x^2', u'on/r/cscareerquestions', u'playlist', u'practitioners', u'python/r/scikit/ml', u'7/32', u'adopter', u'language/toolkit', u'non-parametric', u'2-3', u'2-4', u'2-5', u'quandl', u'~140', u'wazoo', u\"'other\", u'manipulation', u'fuzzy', u'6th', u'julian', u'screw', u'accounting/finance', u'pursued', u'relatives', u'detector', u'mileage', u'deploy', u'awk', u'cellphone', u'statistics/probability', u'violation', u'indoor', u'high-level', u'//blog.musicallyut.in/seqfile-generate-sequential-filenames/', u'earned', u'winner', u'bases', u'tindie', u'120', u'joint', u'procedures', u'105,000', u'grab', u'cognos', u'cs/master', u'//www.heinz.cmu.edu/school-of-information-systems-and-management/information-systems-management-mism/careers/placement-information/index.aspx', u'cs/stats', u'time-efficient', u'diagnolization', u'horribly', u'tens', u'neither', u'comparable', u'art/idea', u'kicking', u'monitor', u'limits', u'reactor/app', u'8217', u'sci/econ', u'accomplishing', u'cent', u'immense', u'diversity', u'controller', u'kicks', u'v.informal', u'novel', u'contexts', u'harden', u'brainer', u'renaming', u'demo', u'examined', u'analytics/science', u'upside', u'familiarizing', u\"'self-promotion\", u'1-3', u'metlife', u'modeled', u'modeler', u'enormously', u'63-63k', u'non-cs', u'43', u'studying/reading', u'\\u2014', u'low-level', u\"'numpy\", u'headed', u'logged', u'100/hr', u'samsara', u'ample', u'utah', u'munich', u'prominent', u'loss', u'alternatively', u'//blog.datadive.net/selecting-good-features-part-ii-linear-models-and-regularization/', u'xquery', u'payments', u'shed', u'phenomena', u'peter', u'grinding', u'appreciative', u'rewarding', u'moderated', u'swartz', u'limitations', u'90,000', u'persuaded', u'equally', u'washington', u'60-80', u'artists', u'additions', u'utility', u'inner', u'subjective', u'lowballed', u'prevalent', u'cells', u'hosting', u'signed', u'frameworks/metrics/tools', u'intersects', u'devise', u'soql', u'techonlogy', u'7/10', u'standardise', u'predefined', u'star', u'waves', u'pathways', u'stan', u'edx.org', u'lives', u'bcs', u'msgs', u'101/102', u'opposites', u'andre', u'battleground', u'whose', u'tobii', u'buddy', u'contained', u'recycle', u'collaborate', u'mid-size', u'connects', u'vast', u'skillz', u'smes', u'force', u'concise', u'tangential', u'useful/practical', u'prognoz', u'preferences', u'centric', u'met', u'wilcoxon', u'rows.add', u'statistics**', u'whatnot', u'hunch', u'objectively', u'science/analyst', u'bike', u'data-journalism', u'mckinney', u'voted', u'berlin', u'pre-processing', u'/**', u'verticals', u'rights', u'spec', u'post-baccalaureate', u'help/harm', u'up-to-speed', u'//www.mysliderule.com/learning-paths/data-analysis/learn/', u'implementations', u'cursory', u'sharepoint', u'config', u'aboard', u'commencing', u'vicious', u'president', u'summarize', u'operate', u'v.preliminary', u'exceltutorial', u'lumni', u'windshield', u'scoring', u'//sociology.osu.edu/please-register-access-whiv-data-files', u'overcome', u'//github.com/codith/useful_data/blob/master/convert_msa.csv', u'unemployed', u'//www.sloansportsconference.com/wp-content/uploads/2013/slides/rp/going', u'meat', u\"'ok\", u'wage', u'calibrations', u'inserts', u'enthusiasts', u'aids', u'freelancers', u'government-funded', u'start/', u'reader', u'/business', u'surprise', u'internship/postgrad', u'starts', u'ish', u'isl', u'dif-e/q', u'loud', u'economists', u'grade', u'hook', u'subjects/disciplines', u'downside', u'\\u201chmmm', u'undersold', u'science/the', u'gym', u'typing', u'lenovo', u'keyword', u'imputation', u'python/stats', u'//twitter.com/dreamshakesbn/status/554101961315057664', u'ling/nlp', u'disciplines-group', u'query/filter', u'datascienceprogram', u'lowball', u'mario', u'third-year', u'iterate', u'reimbursement', u'dob', u'grass', u'analytics-', u'dow', u'dot', u'20-30', u'//twitter.com/nickfriedell/status/554097347484188672', u'hedberg', u'~10', u'~19', u'sql/nosql', u'writer.writerowsandclose', u'topics/languages', u'hoard', u'scrubbing', u'monica', u'government\\u2019s', u'cios', u'earn', u'bar', u'facilitators', u'disney', u'18', u'quickly-growing', u'flagged', u'languages/frameworks/libraries', u'branch/field', u'zones', u'marketing/advertising', u'sorta', u'director/vp', u'filename', u'feature=youtu.be', u'restricting', u'physicist', u'possible/optimal', u'//www.purdue.edu/gradschool/cse/', u'ethnography', u'vp', u'fanbases', u'company-based', u'uncertainty', u'contribution', u'presumably', u'**stream', u'appeared', u'idea/proposal/thought/advice/criticism', u'offerings', u'initiative', u'20goal', u'cleansing/mapping', u'contractor', u'//www.coursera.org/course/statistics', u'science/mining', u'schutt', u'recognised', u'tasks/admin', u'lovely', u'threw', u'16+', u'descirbed', u'tapping', u'aviation', u'tastes', u'ugly', u'near', u'slo', u'acct/is', u'google-backed', u'pessimistic', u'*.edge', u'readcsv', u'ir', u'explanation', u'shame', u'grown', u'stickied', u'300-student', u'model/topic', u'stickies', u'unfortunate', u'80s', u'filtered', u'meets', u'differing', u'kit', u'declarative', u'i.', u'**graduate', u'when/if', u\"'scikit-learn\", u'qualities', u'nlp/machine', u'facto', u'analysis-type', u'mba/ms', u'instructed', u'regarded', u'character', u'affinity', u'*what*', u'fufil', u'spark/cassandra/python/r', u'either..', u'dreams', u'manual', u'formulas', u'buff-up', u'paced/more', u'science/engineering', u\"'is\", u'cliche', u'commit', u'automatically', u'intellectual', u'citifies', u'tweeted/favorited', u'lieu', u'1990s', u'flying', u'//catalog.ufl.edu/ugrad/current/liberalarts/majors/statistics.aspx', u'cloud-based', u'editor', u'guides/', u'fora', u'click-bait', u'berk', u'have..', u'preview', u'prevents', u'attached', u'erdoes-renyi', u'stages', u'matching/mapping', u'delete', u'strengthening', u'revitalize', u'**official', u'handed', u'warehouse', u'diet', u'voodoo', u'metricscrowd', u'skim', u'interactive/fun/intriguing', u'fawcett', u'retention', u'//datascience.berkeley.edu/academics/academics-overview/', u'marks', u'suffered', u'cases/scenarios', u'smartphone', u'presentation-quality', u'//www.coursereport.com/schools/nyc-data-science', u'advised', u'9-5', u'staples', u'die', u'dig', u'div', u'mann-whitney', u'cgi', u\"'impressive\", u'measurable', u'flack', u'birds-eye', u'//aka.ms/amlebookreddit', u'//www.datasciencecentral.com/profiles/blogs/data-science-without-statistics-is-possible-even-desirable', u'courses/topics', u'outwordly', u'**not**', u'countryname', u'percentile', u'all-out', u'mscs', u'flexibility', u'program/undergraduate', u'data/text', u'forum/ml-news', u'scenarios', u'thru', u'63,000', u'rigid', u'oop', u'fly', u'maintainable', u'cs/stats/or', u'portals', u'ids', u'source*int', u'burgeoning', u'nyt', u'sunday', u'inputs', u'staying', u'145', u'swayed', u'man', u'neck', u'johnson', u'16,000', u'jail', u'deposit', u'shoes', u'disclosure', u'spreadsheets', u'consolidating', u'datamash', u'coaching', u'ms-in-computer-science.aspx', u'blackboxes', u'texas', u'killer', u'analysis/ssrs/tableau', u'in-browser', u'killed', u'developments', u'people..old', u'rocs', u'beignners', u'zurich', u'well-paying', u'unlock', u'girl', u'assurance', u'learnyouahaskell', u'orm', u'aucs', u'bayes', u'*note', u'derivation', u'qid=1422393471', u'miners/', u'//beta.oreilly.com/learning', u'hands-off', u'frequent', u'corporations', u'personalities', u'participated', u'meme', u'eyes', u'n2value', u'memo', u'accurately', u't=0', u't=1', u'clustergrams', u'job/general', u'set-up', u'19', u'branche', u'1-', u'dash', u'kevin', u'filereader', u'wasters', u'acumen', u'academy/other', u'thoughts/advice', u'offbase', u'courses/resources', u'pain', u'friedman', u'mulit-dimensional', u'pair', u'20+', u'hardships', u'surprising', u'minibatch', u're-apply', u'disposition=0', u'newer', u'decompositions', u'threshold', u'corner', u'biometrics', u'500ms', u'enthusiasm', u'//espn.go.com/nfl/story/_/id/6833215/explaining-statistics-total-quarterback-rating', u'arts/science', u'secondary', u'buuuut', u'learning/big', u'transformation/cleaning', u'honesty', u'skills/tools', u'rosalind.info', u'~80mb', u'seat', u'msa', u'eliminating', u'autonomy/degree', u'satisfying', u'ms-cs', u'recurred', u'geometric', u'affordable', u'infrastructure', u'killing', u'jd', u'dummys', u'rugby', u'configuring', u'sophmore', u'trader', u'awards', u'subcultures', u'pageviews', u'multivariable', u'zeughauser', u'tuning', u'capable', u'ucla', u'workshop', u'dependable', u'powerpivot', u'dramatic', u'wake', u'pre-algebra', u'investigating', u'conformal', u'philosophies', u'20success', u'dedicate', u'sudden', u'obnoxious', u'par', u'harsh', u'acquaintances', u'jeffrey', u'oil', u'incarceration', u'largely', u'//developers.google.com/cardboard/', u\"'open\", u'//www.heinz.cmu.edu/school-of-information-systems-and-management/information-systems-management-mism/business-intelligence-data-analytics/index.aspx', u'multiples', u'5-7', u'clueless', u'mactex', u'compatible/comparable', u'outranks', u'pile', u'genome', u'job-wise', u'mon', u'credentials', u'aiming', u'mod', u'leanpub', u'acquainted', u'identifying', u'serves', u'server', u'compsci', u'retailers', u'uchicago', u'passionate', u'pittsburg', u'specified', u'generates', u'booming', u'genetics', u'charlatans', u'seconds', u'broker', u'broken', u'refers', u'doc_id=255173', u'conducting', u'smattering', u'airline', u'graudated', u'references', u'inbox', u'pastures', u'squirrel\\u201d', u'apis', u'employment~', u'commonality', u'alloworigin=1', u'youtube', u'citation', u'imagination', u'csvwritersettings', u'girlfriend', u'lifetime', u'mentor/mentee', u'11', u'assessing', u'istanbul', u'hybrid', u'supplementing', u'4,000', u'chris', u'remote', u'jack-of-all-trades', u'hugely', u'shazam', u'pre-reqs', u'capacity/time', u'straightforward', u'returning', u'translations', u'syracuse', u'wsj', u'tokenising', u'engineering-related', u'20th', u'**nonparametric', u'titles', u'plugins', u'stood', u'90k', u'on/wo', u'compilation', u'fwf', u'mentions', u'stonebraker', u'transit', u'h-data', u'buzzwordy', u'networth', u'calculus/algebra', u'readily', u'apposed', u'distinct', u'governance', u'h1b', u'wiper', u'calc2', u'sjsu', u'varying', u'town', u'r/excel', u'recall', u'des', u'categorizing', u'abandon', u'strategies', u'socal', u'minimum', u'purchased', u'wisely', u'csi', u'//nbviewer.ipython.org/github/pybokeh/jupyter_notebooks/blob/master/work/cum_defect_rate_replaced-af_ro-state-wordcloud.ipynb', u'maps', u'heck', u'gtfo', u'**as', u'keynotes', u'finalized', u'swamped', u'filters', u'21', u'28', u'29', u'2-', u'**thothebra', u'timestamp', u'role/grad', u'oxford', u'formulating', u'drake', u'2d', u'2f', u'engaging', u'extended', u'portland', u'initiatives', u'8.94', u'pigeon', u'//cusp.nyu.edu/ms-in-applied-urban-science-and-informatics/', u'print', u'learners', u'participant|', u'foreground', u'members', u'backed', u'omit', u'conducted', u't-test', u'analysis/modeling', u'indebted', u'questions/comments', u'instances', u'approximately', u'**the', u'//www.indeed.com/cmp/factworks-llc/jobs/junior-research-consultant-cfe73b1293c29316', u'construct', u'180', u'assumption', u'analytics/predictive/etc', u'mentality', u'sizable', u'doctors', u'clarifying', u'commiserate', u'popular/new', u'treated', u'ambitiously', u'ages', u'commentary', u'ndas', u'~2', u'resources-then-question', u'pondering', u'utm_source=feedburner', u'bessinger', u'//www.r-bloggers.com/re-sorry-for-the-mix-up-regarding-data-science-candidates/', u'focussing', u'reflections', u'sector', u'thomas', u'obligations', u'minimizing', u\"'application\", u'giant', u'dividing', u'fullerton', u'2.how', u'textbooks/online', u'specialisations', u'express', u'silk', u'*.mat', u'student-turned-data', u'line.file', u'\\u201cp-value\\u201d', u'genomic', u'11th', u'h2year1', u'distraught', u'alters', u'pissed', u\"o'neil\", u'use**', u'subpar', u'consume', u'//cloudera.com/content/cloudera/en/training/certification/ccp-ds/essentials/prep.html', u'sci-kit', u'alumnus', u'post-graduate', u'volunteered', u'out-of-core', u'backend', u'//shop.oreilly.com/product/0636920028529.do', u'creativity', u'screened', u'dropping', u'ireland', u'ram', u'vba', u'unnecessarily', u'classifications', u'elections', u'infront', u'cents', u'drawbacks', u'/u/sigmamarketing', u'disillusioning', u'sharecsv', u'assignment', u'lexrank', u'amazon..', u'own**', u'rules', u'parametric', u'lda', u'openly', u'alternative', u'injuries', u'online/offline', u'discipline', u'superficial', u'excites', u'p=37', u'subjects', u'ridiculously', u'phenomenology', u'biz', u'hallucinations', u'cognitive', u'follows', u'//www.whitehouse.gov/blog/2015/02/19/memo-american-people-us-chief-data-scientist-dr-dj-patil', u'~3.7', u'\\u201cscript\\u201d', u'obliged', u\"'grade\", u'rotoviz.com', u'martial', u'30k', u'import.io', u'saas', u'jquery/d3.js', u'connecting', u'epic', u'patient', u'continuing', u'nitty', u'.xls', u'optimize', u'goods', u'proven', u'constraint', u'wickham', u'moderating', u'steven', u'handbook', u'bored', u'multilevel', u'nutshell', u'directed', u'//www.gartner.com/newsroom/id/2819918', u'server-side', u'exploration', u'aversion', u'//rayli.net/blog/data/7-habits-of-highly-effective-data-analysis/', u'popped', u'deprive', u'cure', u'obtuse', u'fluency', u'lend', u'favourite', u'cater', u'fisher', u'aggregated', u'quant/stats/math/comp', u'sudoku', u'implied', u'2006', u'2007', u'failures', u'2008', u'tube', u'clickstream', u'atlas', u'money-oriented', u'//math.hunter.cuny.edu/graduate.shtml', u'labels', u'presently', u'automotive', u'enrollments', u'havent', u'append', u'//i.imgur.com/gjv6xj2.jpg', u'pittance', u'seasonality/spikeyness', u'/r/titlegore', u'9-to-5', u'read.csv/', u'3a', u'implicit', u'extreme', u'38', u'33', u'31', u'37', u'36', u'34', u'cert', u'weekday', u'listings/titles', u'decentralized', u'decrease', u'tap', u'manufacturer', u'normalized', u'iii', u'ds-biased', u'minions', u'hints', u'account', u'f', u'//lkml.org/', u'narratives', u'effectively', u'employs', u'spruce', u'native', u'varied', u'cs+math', u'responsibilities', u'winners', u'key-hashing', u'nips', u'stock', u'philosophy', u'da', u'prostate', u'bing', u'correspond', u'imagenet', u'lined', u'noise*', u'practicums', u'institutional', u'sql/simple', u'lo', u'll', u'winning', u'latitude', u'cutting', u'identified', u'identifies', u'3,000', u'//www.reddit.com/wiki/reddiquette', u'yr-old', u'eye-rolls', u'programmes', u'toolpak', u'sumy.py', u'reu', u'electronics', u'dawned', u'fluctuates', u'likelihood', u'afterward', u'compatability', u'mortar', u'elasticsearch', u'workbook', u'2,000', u'reaches', u'strategic', u'//www.zipfianacademy.com/programs', u'ancient', u'monkey', u'messing', u'gear', u'foodbank', u'new-to-programming-language', u'curves', u\"'just\", u'minimally', u'congrats', u'mic', u'mix', u'concerns', u'preliminary', u'gurus', u'normally', u'absorbing', u'postdoctoral', u'//aka.ms/bigdataebookreddit', u\"scientist'-in-training\", u'staff', u'_load', u'inferior', u'pyspark', u'beat', u'bear', u'arranged', u'pharmaceutical', u'processes..', u'pertains', u'national', u'pharmacogenomics', u'scare-off', u\"gov't/int'l\", u'deliver', u'thanks,', u'freely', u'equal', u'ioexception', u'//blog.custora.com/2014/07/custora-pulse-mobile-report/', u'copies', u'*really*', u'migrate', u'devoting', u'indicators', u'proposal', u'anomaly', u'define', u'462', u'bulk', u'volunteer', u'homes', u'plain', u'entrepreneurial', u'clustert', u'manually', u'respected', u'importing', u'landfills', u'/personal', u'grinder', u'administration', u'hi..', u'*.graphml', u'center', u'restricted', u'residuals', u'braiiinnsss..', u'stores', u'investor', u'decisions/suggestions/products\\u2026', u'lake', u'recommending', u'forbes', u'citizen', u'start-to-finish', u'optimizations', u'worlds', u'gmail.com', u'v=3_1reldh5xw', u'khanacademy', u'validations', u'journalism', u'//www.custora.com', u'general-body', u'soft', u'accessible', u'.net', u'//www.reddit.com/r/realestatetechnology/comments/2x2hra/have_a_problem_with_zestimate_more_avms_are/', u'esp', u'slight', u'stellar', u'warehouses', u'conway', u'preexisting', u'rushed', u'118k', u'repeated', u'flip', u'exceeded', u'pig', u'well-defined', u'accenture', u'analysts/scientists', u'49', u'corporation', u'44', u'45', u'42', u'//pythonmining.com/posts/machine-learning-with-porn-xhamster-data-sexualitics-and-regression.html', u'85', u'conveys', u'uba', u'seismic', u'philips', u'yelp', u'resolution', u'yell', u'cookbook', u'infographics', u'hating', u'paris', u'cushy', u'20regression.pdf', u'whatsoever', u'sci/stats', u'stanton', u'rise', u'science/analysis/mining', u'math/stats', u'disciplines', u'consistent', u'estimates', u'trees/random', u'blue', u'profitability', u'duplicated', u'compilers', u'stared', u'enrol', u'pyxplorer', u'fulltime', u'rmatkdown/knitr', u'resources/infographics', u'y.o', u'maganizes', u'noting', u'ml/stats', u'vps', u'settings.getformat', u'phone', u'//blog.datadive.net/selecting-good-features-part-i-univariate-selection/', u'read.table', u'deficiencies', u'estate', u'is..', u'captcha', u'guarantee', u'eng', u'sitting', u'finalist', u'writers', u'adjacent', u'badly', u'europe**', u'**need**', u'befor', u'jumping', u'tidying', u'descent', u'directors', u'freelancing/consulting', u'complexity', u'edits', u'england/suffolk', u'diseases', u'two..', u'confuse', u'mcmc', u'intuitively', u'//www.inman.com/2015/02/23/have-a-problem-with-zestimate-more-avms-are-coming-your-way/', u'lasting', u'saturday', u'prediciment', u'integrative', u'artifacts', u'collaborated', u'banning', u'newly', u'associate', u'//twitter.com/houstonrockets/status/554103319392563200', u'boosting', u\"'spoke\", u'insofe', u'nhl', u'philosophical', u'adopted', u'feedbacks', u'researched', u'tos', u'percentage', u'urban', u'centered', u'negotiating', u'day/job/company', u'to-dos', u'hopping', u'stopwords', u'flame', u'to/', u'seminal', u'fashion', u'pwyw', u'data\\u201d', u'rap', u'do\\u201d', u'seminar', u'nlp/data', u'rides', u'40-percent', u'innovate', u'coin', u'nonprofits', u'peers', u'treats', u'partition', u'flow', u'taing', u'overpriced', u'pops', u'earth', u'biostatistics', u'curricular', u'situations', u'delays', u'oct', u'mixture', u'toolbox', u'wunderground', u'situation*', u'suggestions.', u'automatic', u'nut', u'traits', u'weak', u'outages', u'fault', u'extracts', u'models/graphs', u'comprehension', u'//www.udemy.com/learning-python-for-data-analysis-and-visualization/', u'facebook\\u2019s', u'conference', u'7000x', u'educaiton', u'level**', u'~~for', u'3.5/4.3', u'craft', u'extracurricular', u'n', u'lesser', u'dashboard', u\"'computational\", u'//github.com/robbintt/getsocrata', u'scoring/stratification', u'expenses', u'//insights.dice.com/2014/03/05/data-science-is-dead/', u'linked', u'groundbreaking', u'positives', u'normalization', u'cycle', u'prioritize', u'savings', u'incapable', u'mother', u'proposed', u'rodent', u'grader', u'enlighten', u'elk', u'elo', u'vertica', u'explanatory', u'brainstorming', u'teenager', u'writer.commentrow', u'disadvantage', u'//www.cse.gatech.edu/', u'cultural', u'52', u'offices', u'officer', u'5+', u'arbitrary', u'51', u'\\u201cdata', u'indirect', u'contests', u'algorithmic', u'plug', u'census', u'signup=1', u'misleading', u'algo', u'sept', u'ppc', u'data-science-related', u'civil', u'unicorn-level', u'//en.wikipedia.org/wiki/data_pre-processing', u'rounds', u'git', u'gis', u'transform', u'gig', u'regressors', u'astrophysics', u'synthesis', u'amateur', u'post-bacc', u'removed', u'flavour', u'simplifying', u'submitting', u'scientists/recruiters', u'bida', u'0.63', u'simulations', u'annoying', u'radically', u'investigations', u'tie', u'tia', u'book/video', u'uniformly', u'miscellaneous', u'*introduction', u'unchallenged', u'roi', u'omits', u'essentials', u'contemplating', u'discovering', u'ucsd', u'glms', u'frequencies', u'gravitate', u'sloppy', u'//metricscrowd.com', u'clouds', u'impressive', u'standards', u'trend', u'ms/phd', u'port', u'repository', u'contracted', u'remain', u'hairy', u'confer', u'guilty', u'exams', u'//pastebin.com/bgvjhjc9', u'problematic', u'systematic/automated', u'jose', u'transferrable', u'account**', u'29-may', u'analyst/scientist', u'andy', u'gathering/cleaning', u'sessions', u'first-hand', u'mid-sized', u'modified', u'longitude', u'districts', u'usability', u'counting', u'osmosis', u'fourth', u'ensure', u'tapers', u'rubia', u'crashes', u'upper-division', u'3.49', u'representations', u'classroom', u'branched', u'imagining', u'*everywhere*', u'label*string', u'stats/data', u'pl/sql', u'enrolment', u'coordinates', u'ideation', u'endless', u'musician/band', u'possibilities', u'realistic', u'data/analytics/visualisation', u'intended', u'100k', u'factory', u'subquestion', u'attended', u'sas/r', u'kruskal-wallis', u'munge/manipulate', u'impose', u'raleigh', u'.matrix', u'1001', u'revenue', u'awfully', u'george', u'in-state', u'surveys', u'*analyzes*', u'convention', u'exploring', u'//www.coursera.org/specialization/jhudatascience', u'season', u'hut', u'alas', u'consulting/data', u'population', u'kaggle.com', u'depth/narrow', u'pre', u'pro', u'prostitution', u'coming\\u2026', u'marathon', u'animation', u'//ibmblueview.com', u'responsibility', u'strengths', u'fcp', u'clearer', u'visitors', u'net', u'multiply', u'work/modeling/analysis', u'neuro', u'adopt', u'drastically', u'cheap', u'mid-march', u'stats+cs', u'hedge', u'freaking', u'mapper', u'predicter', u'predicted', u'ignored', u'kibana', u'parking', u'underpaid', u'surfaces', u'federal', u'subsequent', u'knoxville', u'all..', u'outsourcing', u'messed', u'nerdy', u'acquiring', u'region', u'//www.amazon.com/second-machine-age-prosperity-technologies/dp/0393239357/ref=sr_1_1', u'deparent', u'jitter', u'color', u'continuation', u'poly', u'sampling', u'69', u'featuring', u'500', u'protocols', u'specialised', u'cash', u'telephone', u'numba', u'**why', u'reminded', u'downloads', u'//datascience.stackexchange.com/questions/1241/collaborative-social-network-visualization', u'footprint', u'provost', u'handson', u'deflated', u'justify', u'claims/defects', u'ya', u'tip', u'guided', u'kill', u'polish', u'univariate', u'csefalvay', u'**mandatory', u'pydoopy', u'bigml', u'lets', u'poised', u'scheduled', u'3.68', u'patrick', u'oddly', u'\\\\n', u'call-backs', u'//www.whitehouse.gov/issues/technology/big-data-review', u'loosely', u'book/review/online', u'programs/international', u'45,000', u'you\\u2019ll', u'nails', u'google+', u'austraillian', u'domain-focused', u'cambridge', u'reactions', u'probability/stats', u'instruments', u'-maths', u'//www.amazon.com/gp/product/1782161627/ref=ox_sc_act_title_1', u'rising', u'biomedicine', u'whales', u'strictly', u'people/user', u'//generalassemb.ly/education/data-science', u'municipalities', u'fullfilling', u'//cll.stanford.edu/mllist/', u'jut', u'scientist-engineer', u'feeler', u'classes/', u'*regression', u'taste', u'spends', u'middlebury', u'biochemistry', u'deserve', u'website.', u'briefly', u'biostats', u'stocks', u'wife', u'invest', u'odds', u'exhausting', u'//icme.stanford.edu/', u'missouri', u'//www.reddit.com/r/datascience/comments/2oyzvu/i_wrote_data_scientists_at_workama/', u'//lists.w3.org/archives/public/public-lod/', u'dist', u'overglorified', u'arino', u\"'break\", u'scalar', u'everyones', u'**a', u'hmmm', u'synthetic', u'aaron', u'non-data', u'//www.in.tum.de/index.php', u'activities', u'song', u'**2', u'**1', u'worst', u'***', u'fad', u'hbase-friendly', u'blankly', u'research/financial', u'translating', u'functioning', u'imported', u'tags', u'behaviour', u'addresses', u'high-school', u'sceintist', u'pitfalls', u'piddl_msgpage=2', u'sticking', u'thankfully', u'/about', u'revenue-based', u'datamining', u'csv/tsv/fixed-width', u'shielded', u'martens', u'spearman', u'methodist', u'court', u'recursive', u'h1year2', u'cleansing', u'buzzword', u'ml-related', u'//www.allanalytics.com/author.asp', u'incubate', u'rationalize', u'k-12', u\"'features\", u'ut-austin', u'entries', u'mission', u'isnt', u'background**', u'won\\u2019t', u'sale', u'vizualization', u'resort', u'non-conforming', u'somebody', u'clippers', u'communities', u'mathematician', u'16-20', u'refresh', u'privileged', u'forumlas', u'inequality', u'bolstering', u'formulate', u'generate', u'underwhelming', u'falled', u'twenty', u'consequence', u'id=2332', u'htf', u'fancy', u'linking', u'mid-career', u'fun/valuable', u'swarz', u'chime', u'beyondcore', u'finances', u'checklist', u'luckily', u'instruction', u'aims', u'id*int', u'exec', u'measures', u'prestige', u'probabilistic', u'bi-daily', u'corthell', u'economics/mathematics', u'//blog.custora.com/2015/04/custora-series-a-funding-announcement/', u'//www.cse.illinois.edu/', u'favorable', u'production-quality', u'extraction/engineering', u'stumped', u'/examples/example.csv', u'//blog.datadive.net/selecting-good-features-part-iv-stability-selection-rfe-and-everyting-side-by-side/', u'//en.wikipedia.org/wiki/data_cleansing', u'increasingly', u'if/how', u'gains', u'creating/deploying', u'handling/processing', u'compliments', u'timeless', u'smid=atvpdkikx0der', u'sustainable', u'achieved', u'2.0', u'arm', u'in-memory', u'learnt', u'freshmen', u'formatted', u'consecutive', u'blurb', u'profiling', u'scatterplots', u'attention', u'competent', u'paradigms', u'hesitant', u'distinctively', u'quantization', u'berkley', u'finds', u'sweet', u'//www.coursera.org/course/nlp', u'crisps', u'bolster', u'startling', u'engineer/', u'characteristics/skills', u'reduction', u'brick', u'pi', u'flight', u'precision', u'frozen', u'evaluated', u'kick', u'concurrently', u'disappointing', u'rid', u'yosemite', u'ideologies', u'peoples', u'prerequisite', u'flows', u'holidays', u'domains', u'knitpy-', u'hadoop/mapreduce', u'stating', u'endeavour', u'altruistic', u'/crystal', u'extracted', u'arbitrary-dimensional', u'governmental', u'chi-squared', u'question-', u'aggregation', u'gorelick', u'skeptical', u'shaped', u'admittedly', u'ignore', u'ecology', u'3.2', u'3.0', u'3.9', u'//www.capitalonelabs.com', u'commented', u'prom', u'innovation', u'9:30.', u'50k/yr', u'9,999', u'28r+bloggers', u'//i.imgur.com/fnhaqgw.jpg', u'conversant', u'zombie', u'elixir', u'medium-sized', u'intense', u'pipeline', u'volunteering', u'standalone', u'hatred', u'podesta', u'cygwin', u'r/bigdata', u'paralysis', u'data-centric', u'statistics/applied', u'causalimpact', u\"'elevator\", u'//en.wikipedia.org/wiki/data_integration', u'smoothly', u'vendors', u'//www.kaggle.com/c/march-machine-learning-mania-2015', u'infochimps', u'criteria', u'raising', u'consist', u'nx500', u'dendrograms', u'trifacta', u'rainbow', u'rainy', u\"science/data/'business\", u'tentative', u'peace', u'scares', u'club', u'in-game', u'grc', u'interpretable', u'mandatory/optional', u'dictating', u'city/state/country', u'backbone', u'allowing', u'-prog', u\"'simple\", u'narrative', u'profil', u'industry/career', u'miner', u'/month', u'simliar', u'stable', u'*forecasting', u'fwiw', u'outdoorsy', u'spool', u'deals', u'robison', u'target*int', u'cfo', u'cfa', u'traveling', u'hourly', u'reaching', u'waiting', u'open-doors', u'slated', u'sexy', u'99th', u'overwhleming', u'suggests', u'conveyed', u'fluffier', u'expiriment', u'up-to-date', u'scales', u'engineer-y', u'motor', u'in-app', u'science/predictive', u'usf', u'fee', u'clever', u'journalists', u'rabbit', u'1980s', u'stabilized', u'augment', u'weighting', u'proof', u'bittersweet', u'calculation', u'tax', u'publishable', u'fortunate', u'//twitter.com/kcjhoop/status/554049898501242881', u'specialisation', u'dataquest.io', u'abuse', u'idibon', u'curious/industrious/focused', u's-response', u'tenure', u'saturated', u'knowledgable', u'wake-up', u'130', u'anonymously', u'longitudinal', u'estimating', u'crowds', u'freeman', u'violating', u'richness', u'impressing', u'beeing', u'either/or', u'tray', u'v1.2', u'lesser-known', u'89', u'credential/project/experience/etc', u'ebooks', u'sentiment', u'frontier', u'deloitte', u'disclose', u'york', u'meta_entity', u'ltv', u'phrases', u'crm', u'//www.usfca.edu/artsci/msan/courses/', u'apprenticeship', u'co-founder', u'siap', u'unknown', u'/r/ihavetheseskillscanimakeitasadatascientist', u'priority', u'wendell', u'postgraduate', u'shallow', u'mentionned', u'reflecting', u'simulate', u'//lists.w3.org/archives/public/semantic-web/', u'1.8', u'classes/coursera', u'self-learning', u'angle', u'krista', u'**first', u'combat', u'pre-sales', u'agreed', u'chapters', u'pleased', u'q3', u'watching', u'midnight', u'//imgur.com/rlshkwf', u'interoperability', u'wise.io', u'econometric', u'conversions', u'planning/management', u'closer', u'favor', u'rigor', u'bought', u'weighing', u'opening', u'agencies', u'knowledge-wise', u'//www.amazon.com/spreadsheet-modeling-decision-analysis-introduction/dp/1285418689', u'salary.com', u'anylsis', u'out-of-bag', u'unclear', u'side-project', u'cxo', u'notebook-like', u'charts', u'webdeveloper', u'spammer', u'crappy', u'research-intensive', u'mcat', u'datajoy', u'hovering', u'wild', u'layer', u'audiences', u'.this', u'posters**', u'geographical', u'largest', u'units', u'city/state', u'.boring', u\"'fans\", u'20for', u'collar', u'antsy', u'parser.parseall', u'firstly', u'undertaken', u'//dumps.wikimedia.org/other/pagecounts-raw/2014/2014-01/', u'sensing', u'realised', u'routinely', u'wealthy', u'rapid', u'rabidly', u'attractive', u'sparking', u'loan', u'stakeholders', u'saturation', u'knot', u'variants', u'10/10', u'/junior', u'datapoint', u'hosts', u'error/anomaly', u'gmail.com**', u'scared', u'leaf', u'leak', u'metamodeling', u'manipulations', u'mathmaticians', u'stats/comp', u'leader', u'ripped', u'acronym', u'graduates/career-changers', u'//live.advancednflstats.com/', u'paste', u'transformations', u'rare', u\"'build\", u'acceptance', u'polished', u'estimators', u'grapevine', u'trenches', u'kidding', u'intention', u'vas', u'matalb', u'time/money/resources', u'funds', u'tactics', u'instructive', u'block', u'begun', u'science/applied', u'dearth', u'naming', u'/temp/test.csv', u'//wpcarey.asu.edu/masters-programs/business-analytics/curriculum', u'boom', u'sick', u'conclusion', u'diagnosis', u\"'new_column\", u'm.a', u'priced', u'weekend_6-midnight', u'extort', u'auxiliary', u'intentionally']\n"
     ]
    }
   ],
   "source": [
    "print wordfreqs_cat1.hapaxes()"
   ]
  },
  {
   "cell_type": "markdown",
   "id": "0e788b53",
   "metadata": {},
   "source": [
    "### Category 2: Game of Thrones"
   ]
  },
  {
   "cell_type": "markdown",
   "id": "8b67f000",
   "metadata": {},
   "source": [
    "#### Word Frequencies"
   ]
  },
  {
   "cell_type": "code",
   "execution_count": 15,
   "id": "01ecb7da",
   "metadata": {},
   "outputs": [],
   "source": [
    "wordfreqs_cat2 = nltk.FreqDist(data['gameofthrones']['all_words'])\n",
    "plt.hist(wordfreqs_cat2.values(), bins = range(10))\n",
    "plt.show()"
   ]
  },
  {
   "cell_type": "markdown",
   "id": "4bd73847",
   "metadata": {},
   "source": [
    "#### Most Frequent words within Game of Thrones posts"
   ]
  },
  {
   "cell_type": "code",
   "execution_count": 16,
   "id": "3a8bc366",
   "metadata": {},
   "outputs": [
    {
     "name": "stdout",
     "output_type": "stream",
     "text": [
      "[(u'.', 2909), (u',', 2478), (u'[', 1422), (u']', 1420), (u'?', 1139), (u\"'s\", 886), (u\"n't\", 494), (u')', 452), (u'(', 426), (u's5', 399), (u':', 380), (u'spoilers', 332), (u'show', 325), (u'would', 311), (u\"''\", 305), (u'``', 276), (u'think', 248), (u'season', 244), (u'like', 243), (u'one', 238)]\n"
     ]
    }
   ],
   "source": [
    "print wordfreqs_cat2.most_common(20)"
   ]
  },
  {
   "cell_type": "markdown",
   "id": "cdf0c6f1",
   "metadata": {},
   "source": [
    "#### Least Frequent words terms within game of thrones posts"
   ]
  },
  {
   "cell_type": "code",
   "execution_count": 18,
   "id": "9351fc2d",
   "metadata": {},
   "outputs": [
    {
     "name": "stdout",
     "output_type": "stream",
     "text": [
      "[u'hordes', u'woods', u'comically', u'pack', u'seventy-seven', u\"'context\", u'shaving', u'kennels', u'differently', u'screaming', u'her-', u'complainers', u'sailed', u'contributed', u'payoff', u'hallucinating', u'admiral', u's05ep07', u'\\u2026\\u201d', u'reports', u'golden', u'magically', u'dearie', u'insecurity', u'blacksmiths', u'backing', u'90', u'93', u'v=xnvb8yu0zqk', u'household', u'v=j0muvy9fllw', u'reviewing', u'unpaid', u'copious', u'machina', u'//imgur.com/h5mzplr', u'fanaticism', u'gaming', u'outlawed', u'shores', u'destined', u'sickening', u'baggage', u'targaryans', u'wind', u'senators', u'boltona', u'1-10', u'affect', u'fix', u'sixteen', u'silver', u'dickriders', u'barton', u\"'signature\", u'burial', u'preceded', u'solution', u'dubstep', u'laboratory', u'rw', u'rr', u'ha', u'akinnuoye-agbaje', u're', u'outburst', u\"'bad-people\", u'corrects', u'\\u201cdunk\\u201d', u'kashmir', u'absolved', u'potions', u'shacking', u'spinning', u'krissychula', u'170', u'service', u'legs', u'gilly/sam', u'rewards', u'lunges', u'wisdom', u'rectified', u'positively', u'project', u'v=0mgjp_0ifm0', u'old.', u'entail', u'willingness', u'full-screen', u'implemented', u'pander', u'stirrup', u'object', u'simplify', u'mouth', u'cops', u'ep.7', u'consummate', u'ceresi', u'departing', u'insects', u'too..', u'gauge', u'lethal', u'hungary', u'touches', u'in-universe', u'bust', u'rick', u'adjust/peruse', u\"'no\", u\"'furthering\", u'reversal', u'altogether', u'game_of_thrones', u's03e04', u'succumb', u'flanked', u'respond', u'cersei**', u'clarified', u'consummation', u'fail', u'alternative', u'pressured', u'ambitions', u'pressures', u'keisha', u'irl', u'pypar', u'irc', u'parallels', u's1e10', u'smelled', u'debt', u'pity', u'accident', u'retelling', u'//img1.wikia.nocookie.net/__cb20150222123041/gameofthrones/images/f/f6/baratheon_sig.png', u'holdings', u'slay', u'bothers', u'podeswa|bryan', u'spit', u'v=dzsumo95uo0', u'jeor', u'dave', u'lift', u'haters', u'opulence', u'appeals', u'babied', u'memoriam', u'swarthy', u'fairly', u'middle-aged', u'echoed', u'academic', u'\\u201cwizards', u'happenstance..', u'caregiver', u'hai', u'enters', u'emphasis', u'20-25', u'hav', u'buttttt', u'massively', u'desire', u'new-found', u'festivities', u'steps', u'prologue', u'5/episode', u'beneficial', u'comeuppance', u'power..', u'individuals', u'summoned', u'//usatthebiglead.files.wordpress.com/2014/04/joffrey-dead.jpg', u'shakes', u'byzantium', u'memorable', u'shaken', u'multi-episode', u'citizens', u'despair', u'lacked', u'slightly', u'lamprey', u'undermining', u'shoots', u'beneath', u'malcom', u'handmaidens', u'jano', u'understand**', u'hated/boring', u'underestimated', u'book-margaery', u'airbender', u'shereen', u'arrays', u'albeit', u'scences', u'-queeninnanorf*', u'supporters', u'becuase', u'smell', u'maimed', u'intent', u\"'i\", u'|live', u'warm', u'gown', u'chain', u'tommen**', u'activated', u'bandits', u'serially', u'vet', u'/u/theeld', u'burlington', u'oversight', u'jerk', u'cheap', u'embark', u'variable', u'tear', u'ollie', u'arc..', u'engrossing', u'reclusive', u'meadow', u'mannisses', u'sign', u'sister-', u'axes', u'falling', u'geography', u'badge', u'unintentionally', u'funeral', u'cersei.exe', u'betraying', u'jamies', u'wood', u'films', u'scope', u'loving', u'afford', u'triumphantly*', u'validity', u'everywhere', u'dragonpit', u'currency', u'originally', u'benerro', u'offense', u's7', u'immune', u'v=6pdatrtwqgm', u'rewatched', u'explorer', u'-this', u's2e2', u'*anyone*', u'wheelchair', u'unacceptable', u'tore', u'thumb', u'v=f9i_eccel8k', u's3/agot', u'torn', u'methodology', u't=2m32s', u'freaking', u'petition', u'smarter', u'records', u'\\\\', u'similarily', u'freys', u'construe', u'revised', u'entering', u'actively', u'rounding', u'sniveling', u'swordsman', u'replacing', u'contained', u'suggesting', u'formula', u'bordering', u'prostitutes', u'intensely', u'quits', u'scarred', u'\\u201chere', u'dunno', u'sneaky', u'punk', u'e\\u201d', u'\\u201cwell', u'fire\\u201d', u'//www.imdb.com/title/tt3866862/fullcredits', u'punishable', u'spanish', u'vote', u'bite', u'smirk-', u'indicate', u'judgements', u'ascent.\\u201d', u'structures', u'misliked', u'**tyrion', u'proving', u'snatch', u'slashed', u'r/asoiaf', u'cower', u'russia', u'10-11', u'prestigious', u'turner', u'sat', u\"'we\", u'warriors', u'to-do', u'altered', u'remarks', u'winters', u'something-', u'butchered', u'atlantic', u'//img1.wikia.nocookie.net/__cb20140402110342/gameofthrones/images/0/0b/house-lannister-heraldry.jpg', u'salt', u'qot', u'tyrion\\u2019s', u'**mereen', u'mince', u'bright', u'imagined', u'cloak', u'equipped', u'outrage', u'robe', u'guarded', u'condemning', u'**disclaimer', u'awaiting', u'perspicacity', u'priest', u'liable', u'recapper', u'impressions', u'no-one', u'wielding', u'man*', u'stannin', u'impregnated', u'oust', u'offset=20140430154731', u'deduction', u'polygamy', u'dethronement', u'-samwell', u'expression', u'hurts', u'kingsblood', u'comeback', u'companionship', u'wedding**', u'stripped', u'danny\\u2019s', u'deadliest', u'thousand', u'henwick', u'photos', u'engineering', u'policies', u'squeezed', u'endured', u'stupidest', u'ive', u'croaked', u'canon', u'bros', u'blah', u'ambient', u'it..', u'verifies', u'//youtu.be/q65s0h1reds', u'homophobic', u'breakdown', u'sickness', u'cheers', u'devolved', u'tracking', u'baby.let', u'mimicking', u'retinue', u'overthrow', u'prominently', u'dicks', u'hodorify', u'vacuum', u'thenn', u'\\u201chalf', u'daugter', u'discarded', u'diving', u'gameofthrones', u'\\u201can', u'respects', u'destroys', u'biased', u'tv5', u'leadership', u'**personal', u'meal', u'oldid=645589749', u'luck', u'widowed', u'chivalry', u'flawed', u'portrayal', u't=1m25s', u'stan-nis', u'//img1.wikia.nocookie.net/__cb20140402112515/gameofthrones/images/8/8b/house-frey-heraldry.jpg', u'societal', u'foreheads', u\"'sub-seasons\", u'abused', u'rescuing', u'/gasp/', u'psyching', u'carved', u'cream', u'bolton-occupied', u'well-thought-out', u'moniker', u'collin', u'robbed', u'bizarrely', u'hand..', u'gifts', u'snitch', u'tricky', u'mask', u'mast', u'petyrs', u'instincts', u'oaths', u'riots', u'//en.m.wikipedia.org/wiki/buggery_act_1533', u'paying', u'interpreting', u'illustrated', u'harrenhal', u'cable', u'shenanigans', u'swirling', u'sana', u'reemerge', u'lannister..', u'penalties', u'consummating', u'honourable', u'healer', u'investment', u'fucks', u'stone-scaled', u'show-tommen', u'method', u'escaping', u'stannis-shireen', u'empower', u'smartest', u'civilians', u'provably', u'happy-go-lucky', u'dehumanized', u'darkens', u'select', u'wuut', u'corrected', u'spoile', u'doom', u'cunning', u'madness.\\u201d', u'sunspear', u'reincarnation', u'f+**', u'respective', u'dismissed', u\"doens't\", u'upto', u'**dorne', u'rape/assault', u'mccaskill', u'1307', u'trade', u'smiling', u's05e7', u'bummed', u'\\u201ccersei', u'snowball', u'speculate', u'sucked', u'likeness', u'lantern', u'bends', u'misses', u'signings', u'mance', u'drifting', u'clique', u'rises', u'director', u'character\\u2019s', u'viserion', u'slipped', u'murmured', u'executioners', u'jet', u'introduction', u'threatening', u'heady', u'flimsy', u'v=5yzxb9mhxzc', u'listed', u'focusing', u'//www.surveymonkey.com/s/jrnrzp9', u'stairs', u'littlefinger/cersei', u'vocal', u'determined', u'unburnt', u'g.r.r.m', u'nikolaj', u'-*tyrion*', u'beforehand', u'astronomic', u'internal', u'jail.how', u'high-tension', u'raucous', u'accepting', u'unequal', u'pricess', u'dragged', u'stansa', u'distance', u'skulking', u'informants', u'weapon..well', u'*thinks', u'pleasures', u'proclaim', u'aryn', u'outlaw', u'delicately', u'fooking', u'instituted', u'mycrella', u'backfire', u'relased', u'knees', u'spirits', u'movie', u'apologetic', u'monsters', u'kneel', u'europa', u'hardship', u'dontos', u'connection', u'unthinking', u'retarded', u'pdf', u'healing', u'episod', u'drunk', u'acted', u'rofl', u'thrones.imo', u'xpost', u'filth', u'acceptance', u\"'teasers\", u'firm', u'amphibians', u'awake', u'struck', u'funk', u'exponential', u'owed', u'pound', u\"'best\", u'owen', u'stunk', u'shorten', u'shorter', u'virtually', u'comprehensive', u'upbringing', u'//img3.wikia.nocookie.net/__cb20150226135222/gameofthrones/images/9/9e/baelish_sig.png', u'nickname', u'climb', u'focal', u'kelly', u'northmen', u'listening', u'forrest', u'conclusions', u'eager', u'input', u'abound', u'consensus', u'cronies', u'mini-ramsay', u'pale', u'harm.\\u201d', u'dating', u'bn', u\"'shocking\", u'relating', u'scepter', u'fouls', u'^it', u'ambush', u'garbage', u'recreate', u'no-name', u\"h'gar\", u'span', u'arcade', u'ep5.07', u'bargaining', u'custom', u'end/the', u'tvbythenumbers', u'graciously', u'poster', u'atop', u'vowing', u'atom', u'fades', u'redeemed', u'uk', u'faded', u'likewise', u'\\u201cmy', u'bad-ass', u'invalid', u'occasional', u'elements', u'daenaerys', u'sided', u'exatly', u'mindlessly', u'holes', u'walked', u'scream', u'fresh', u'actualy', u'churned', u'uploaded', u'cluedo', u'panting', u'mixing', u'decorating', u's4/asos', u'ought', u'experiencing', u'pout', u'daznak', u'reich', u'rack', u'dynamics', u'victor', u'flowing', u'charade', u'/r/thingsjonsnowknows', u'cringing', u'respectively', u'delivering', u'gillen', u'slaughter', u'consideration', u'invented', u'fifteen', u'technical', u'resulting', u's01', u's05', u'//tvbythenumbers.zap2it.com/2015/05/27/sunday-cable-ratings-nba-conference-finals-win-night-game-of-thrones-silicon-valley-keeping-up-with-the-kardashians-veep-more/408392/', u'bent', u'cheered', u'touched', u'babe', u'parodied', u'promotional', u'iain', u'flip-flopping', u'rampant', u'reproduce', u'arya/jon/', u'coffin', u\"'extreme\", u'rode', u'transpired', u'pieces', u'slit', u'bend', u'martyr', u'animal', u'comedy', u'blocks', u'/u/atrobro', u'gardner', u'fits', u'hawk', u'element', u'realizes', u'survive..', u'deducing', u'recreating', u'spoiling', u'stalled', u'2015', u'2014', u'attachment', u'jon/aegon', u'cross-website', u'cuse', u'legendary', u'pompous', u'eber', u'delightful', u'shortage', u'nedhead', u\"'letting\", u'reawakening', u'monumental', u'v=r8ooi6joxeq', u'bunches', u'unprepared', u'perish', u'eyeballing', u'tempt', u\"'when\", u'spilt', u'//imgur.com/g046clt', u'feasts', u'tier', u'arya-', u'man-crush', u'behaves', u'thronecast', u'decorations', u'travelled', u\"m'fing\", u'spaceship', u'painful', u'interests', u'stars', u'sexypals', u'vouch', u\"'synopsis\", u'stannis-', u'warfare', u'roberts', u'disband', u'devotion', u'partnership', u'abomination', u'cliffhangers', u'*i', u'v=dpejv0g40hm', u'mechanism', u'tyrannical', u'courtesy', u'makear', u'rough', u'trivial', u'decade', u'principal', u'whisperers', u'jar', u'planted', u'tape', u'riding', u'lucky', u'realm..', u'smash', u'dagger-yielding', u'streamlined', u'rapped', u'btw', u'temporarily', u'*wink', u'juxtapose', u's4/s5', u'dungeon', u'wire', u'interacting', u'nuclear', u'sadness', u'v=qxz2mtvwans', u'yours.\\u201d', u'\\u201cgay', u'staring', u'tantrum', u'maggy', u'castles', u'non-readers..', u'8.5', u'powered', u'heroism', u'kahl', u'drank', u'frighten', u'homosexual', u'snow/stark', u'v=xq0ocyqooky', u'inadvertently', u'hahaha', u'bathtub', u'***non-existant***', u'delaying', u'b-**', u'excessively', u'sits', u'//img2.wikia.nocookie.net/__cb20130405131650/gameofthrones/images/9/9f/house-mormont-sigil.jpg', u'digging', u'tomboy', u'king/queen', u'bali', u'bald', u'v.', u'adherents', u'discounted', u'colour', u'command', u'lest', u'headeys', u'web', u'wer', u'combine', u'wet', u'*ser*say', u'checking', u'famously', u'*is*', u'mendelian', u'solider', u'desk', u'sub-summers/winters', u'pies', u'shuddered', u'kill/kidnap', u'gaining', u'marriage-wise', u'immortal', u'-cersei', u'**king', u'disbelief', u'woohoo', u'passion', u'forgiven', u'castrate', u'blowing', u\"'television\", u'whistled', u'slayer', u'foretold', u'sylese', u'sunspear/dorne', u'great-great', u'commitment', u'v=pss2imfkxko', u'roads', u'non-pius', u'mere', u'twain', u'free-folk', u'spots', u'frustration', u'pixie', u'ayas', u'baptist', u'chained', u's1-s5:6', u'triumphant', u'information/gift', u'excitement', u'placed', u'distribution', u'baptism', u'bearing', u'rightly', u'recognize', u'contribute', u'*literally*', u'disagreeing', u'meth', u'jesse', u'planting', u'l.f.', u'nonetheless', u'read-through', u'monday', u'oppression', u'arianne', u'lasted', u'pandering', u'searched', u'doubts', u'oldest', u'pedro', u'alternating', u'\\u201cbehaving\\u201d', u'compassion', u'feminist', u'blanked', u'tagging', u'valarr', u'debunked', u'sodomites', u'horn', u'loras/margaery/herself', u'rigorous', u'season4spoiler', u'gift..', u'**a', u'reconstruction', u'consisting', u'simultaneously', u's04e07', u'equals', u'protection', u'deobia', u'rekd', u'//i.imgur.com/ugamzmq.jpg', u'romantically', u'insult', u'mightiest', u'v=olnflondjh4', u'dorne..', u'separated', u'backwards', u'separates', u'1992', u'1999', u'worn', u'genitalia', u'foreshadows', u'aemon**', u'indicates', u'indifferent', u'recovery', u'/r/got', u'debauchery', u'one-liners', u'ladder', u'thingy', u'lap', u'repeats', u'claimant', u'distractingly', u'japan', u'slimmer', u'highlights', u'bamf', u'versus', u'captor/slave', u'roommate', u'reaches', u'fefifofaerys', u'bread', u'defected', u'scisms', u'reasonably', u'giblets', u'hoster', u'schemer', u'\\u201clove', u'webber', u\"'coming\", u'disloyalty', u'hooked', u'daniel', u'remorse', u'occurs', u'mourning', u'admits', u'appointments', u'deflowered', u'unshown', u'mvp', u'creates', u'flawless', u'margarery', u'incorporated', u'kin', u'chopped', u'daunting', u'rejects', u'dogg', u'neck', u'airs', u'compromise', u'5-10', u'emblem', u'st*a*nnis', u'corresponded', u'sarcastically', u'dealio', u'ebay', u'manned', u'rewrite', u'ponder', u'luxury', u'culminated', u'//i.imgur.com/cbkn4bc.png', u'assessed', u'grave', u'aunt', u'voting', u'notion', u'lewis', u'keywords', u'nephew', u'painfully', u'panned', u'summarizing', u\"'look\", u'dj', u'preferred', u'da', u'monologues', u'runt', u'racing', u'implication', u'turmoil', u'w-', u'observed', u'toes', u'standard.what', u'horrendous', u'tyrion-', u'draws', u'gentleman', u'rushing', u'braavos/braavosi', u'clued', u'wf', u'accord', u'tyrions', u'interpretating', u'tyrione', u'reynes', u'essentially', u'brat', u'gasped', u'whitewalker', u'receives', u'requests', u'disappears', u'con', u'peacefully', u'v=c0iheyid-rq', u'seizure', u'wider', u'beheaded', u'petty', u's1e5', u'tragedy', u'duties', u'spelled', u'applied', u'publicly', u'//www.tvguide.com/tvshows/game-of-thrones/episode-8-season-5/the-dance-of-dragons/305628/', u'crowning', u'dumped', u'skipping', u'exile', u'confirmed', u'pro-baratheons', u'ep6', u'bedchamber', u'unharmed', u'fuss', u'nix', u'scenario', u'pick-me-up', u'unified', u'athletic', u'gravity', u'poses', u'similarities', u'passive', u'board', u'yoren', u'evidenced', u'|predictions', u'progresses', u'travleing', u'sparse', u'honored', u'sends', u'lineages', u'bore', u'jon\\u2019s', u'sacrafise', u'denied', u'sensationalism', u'pose', u'illustration', u'**willing', u'rallying', u'realising', u'horizon', u'tonights', u'prisoners', u'sparing', u'formidable', u'renovating', u'strangely', u'wax', u'lowest', u'diligence', u'chainmail', u'**-tyrells', u'catalyst', u'responding', u'captive', u'unthinkable', u'astapor', u'ancestral', u'what\\u2019s', u'8-bit', u'promises', u'moore', u'flat', u'meanness', u'test', u'juices', u'update', u'wounded', u\"heir'd\", u'ramsa', u'boudoir', u't=2m12s', u'read..', u'jon-', u'switched', u'fabricated', u'horseback', u'disturbance', u'flash', u'permanently', u'/u/doublehunter', u'protective', u'osgrey', u'cunningham', u'dark-haired', u'presented', u'gun', u'soooo', u'upper', u'rosby', u'brave', u'repents', u'cost', u'pillaging', u'forging', u'helpless', u'curse', u'wolfs', u'sleepwalker', u'assistance', u'thicker', u'naems', u'=j', u'militabt', u'eko', u'sending', u'coerced', u'\\u201cfeeble', u'unsullid', u'hiking', u'lending', u'\\u201cperhaps', u'market', u'territories', u'bluffing', u'sighted', u'*ever', u'caved', u'graphic', u'slogan', u'defeats', u'cap', u'series\\u2019', u'woefully', u'5x06', u'pleeease', u'rebuffed', u'hears', u'abort', u'exclude', u'unwavering', u'v=9c-zxuwhhcw', u'gaping', u'economy', u'jousting', u'stand-by', u'5.4', u'scaerys', u'grandson', u'trumpets', u'e/lore', u'serving', u'brain', u'acknowledge', u's5-e6', u'atonement', u'halt', u'hall', u'pyke', u'james', u'challenged', u'ed', u'er', u'space', u'hastily', u'cressen', u'happenings', u'alllll', u'\\u201cstannis', u'selections', u'kingslayer', u'blink', u'tomorrow', u'checked', u'.gif', u'rapey', u'remotely', u'tragic', u'proclaimed', u'\\u201cdad\\u201d', u'minons', u'sigils', u'titans', u'convinece', u'witness/lover', u'premier', u'\\u201clord', u'plotlines', u'veteran', u'overcoming', u'mr.', u'seaworth', u'deus', u'oppressive', u'overindulgence', u'venom.', u'america', u'sunset', u'professional', u'gyles', u'fifty', u'discovered', u'copyrighted', u'ratio', u'adolf', u'nospoiler', u'in-the-moment', u'chivalric', u'stroll', u'this..', u'pronged', u'manipulatable', u'tackling', u'nicest', u'ramsay/roose', u'article', u'talented', u's3-s5', u'descision', u'characterization', u'inexplicable', u'punishes', u'wink*', u'dangers', u'patriarchal', u'straying', u'countless', u'wealthiest', u\"'squire\", u'wardenesshype', u'//img2.wikia.nocookie.net/__cb20150215215708/gameofthrones/images/9/9b/clegane_sig.png', u'figurines', u'whaet', u'sibel', u'it\\u2026', u'post..', u'angered', u'centuries', u'enjoyment', u'arctic', u'tommens', u'speechless', u'tradition', u'complained', u'insult.\\u201d', u'coordinate', u'valuable', u'shouts', u'communities', u'hype/theory', u'legitimately', u'improvement', u'versa', u'her/was', u'spectacular', u'onscreen', u'psa', u'certains', u'selmy', u'detract', u'symbolism', u'ruled', u'slain..', u'show-only', u'exposed', u'|post-premiere', u'unraveling', u'intend', u't=8s', u'alive.i', u'business', u'uneasy', u'innocence', u'baratheron', u'gump', u'wold', u'assassin', u'deranged', u'freeing', u'boltonling', u'no-copyright', u'\\u201ctales', u'persecution', u'nowadays', u'intervention', u'area', u'needless', u'_______', u'cats', u'politeness', u'leach', u'thaught', u'fraud', u'waltzing', u'beliefs', u'momentarily', u'nerd', u'infact', u'cinematography', u'gift\\u201d', u'//i.imgur.com/upcmc7b.gif', u'torched', u'pooh', u'connotations', u'non-english', u'bystander', u'embracing', u'nospoilers', u'tomorrows', u'dreadful', u'slittings', u'subtleties', u'personnally', u'minded', u'heaven', u'louis', u'**house', u'loathed', u'mile', u'vanquish', u'gif..', u'instagram', u'fence', u'acok/s4', u'apologized', u'pub', u'marring', u'creepy', u'rory', u'lurker', u'dowager', u'taked', u'stylistic', u'instrumental', u'fanfiction', u'pretense', u'veterans', u'offended', u'fundamentalist', u'experienced/done', u'stubbon', u'fundamentalism', u'phrase', u'lacks', u'species', u'firmly', u'prepaid', u'caption', u'utilize', u'stayed', u'foreseen', u'reject', u's5/affc', u'sneak', u'consequence', u'invasion', u'contrived', u'criticize', u's01e05', u'scaring', u'chicks', u'fined', u'post-war', u'pleads', u'anticipated', u'counterproductive', u'sundays', u'bless', u'heavy', u'todd', u'**enjoy', u'hooray', u'basements', u'pun', u'drink', u'dirt', u'toiling', u'dune', u'heroin', u\"'bonk\", u'round', u'terribly', u'american', u's3/books', u'heartbeat', u'reflected', u'horse', u'v=cj6m_wth5mo', u'st.', u'station', u'hundred', u'shifted', u'trapped', u'outgrows', u'*same', u'apprentice', u'std', u'grew', u'sth', u'recovered', u'alongside', u'randomly', u'comrades', u'sheet', u'lit', u'hired', u'|jeremy', u'jayne', u'performances', u'noone', u'poured', u'arming', u'manderly', u'hardened', u'dominant', u'trees', u'basement', u'catches', u'perfume', u'sacrifices', u'x', u'/\\u02c8helm\\u0259t/', u'plausible', u'constellation', u'1v1', u'familiarity', u'conditions', u'statistically', u'victimized', u'//en.wikipedia.org/wiki/special', u'agree/disagree', u'league', u'garrison', u'transparency', u'episodes/saison', u'protector', u'rodgers', u'puritan', u'unfolded', u'headey', u'venesin', u'stamp', u's5/spoilers', u'describes', u'mutiny', u'walter', u'bidding', u'pact', u'intriguing', u'socialist', u'canadian', u'*inevitably*', u'impersonating', u'rope', u'pace', u\"'friends\", u'endanger', u'unkindly', u'depleted', u'overlooked', u'sentences', u'stars/planets', u'reads', u'mandon', u'gillies', u'belong', u'greatjon', u'discredit', u'marcella', u'banter', u'\\u2018messy', u'consistency', u'weakest', u'cringe-worthy', u'shivering', u'quarters', u'reviewer', u'beeotch', u'//en.wikipedia.org/wiki/rory_mccann', u'wounding', u'informal', u'a**', u'lacking', u'tiring', u'albino', u'wings', u'defied', u'success', u'e08', u'interestingly', u'provoking', u'parade', u'fathers', u'winterfield', u'thrn', u'inculding', u'hypocritical', u'reappear', u'aye', u\"'gifts\", u'silence', u'cells..', u'universalis', u'observation/theory', u'worshipper', u'medieval/renaissance/tudor', u'confessing', u'reed', u'russian', u'.i', u'skull', u'//en.wikipedia.org/wiki/vladimir_harkonnen', u'foresight', u'adults', u'castrated', u'adewale', u'ancestors', u's05e09', u'e6/e7', u'nah', u'application', u'nap', u'news.but', u'department', u'nay', u'acceptable', u'creeped', u'draw', u'kansas', u'trueborn', u'bribe', u'underrated', u'sounded', u'snow-fall', u're-opened', u'\\u201cvery', u'nuns', u'keystone', u'simulcast', u'facebook', u'enslaved', u'/u/tommyonepin', u'button', u'deleting', u'zo', u's05e07/books', u'hodor', u'**live', u's.s', u'click', u'poke', u'rotten', u'waaaaaaaaay', u'commercial', u'radicals', u'focused', u'pancake', u'*at', u'**-margaery', u'v=8rvhefcf-b8', u'v=fbhv3jhkjnk', u'wit', u'buildup', u'snoop', u'trivializing', u'cheeky', u'arynn', u'formalities', u'popped', u'shagged', u'testified', u'palettes', u'unfaithful', u'announcing', u'donut', u'archer', u'drops', u'shtick', u'sought', u'hesitate', u'vibe', u'redditors', u'list=plveg_mz3a7jlxzszta27bwgaolytcod7r', u'seeds', u'sentiments', u'circular', u'spelling', u'arrakis', u'claire', u'knighted', u'brittle', u'exclusion', u'*now', u'sister/wife', u'hollard', u'crying/crawling', u'masters', u'mods', u'foiling', u'poole', u'mode', u'blackfyres', u'separating', u'//np.reddit.com/r/iama/comments/3789vc/i_am_voice_actress_grey_delislegriffin_you_might/crkh9mt', u'reboot', u'granddaughters', u'strokes', u'convinient', u'.eps', u'humiliating', u'intruder', u'advisor', u'sneer', u'resumed', u'lone', u'shred', u'designed', u'succeeds', u'signify', u'merrier', u'stroked', u'craziest', u'2-5', u'usurpers', u's5e1', u'manipulation', u'greattttttt', u'newlywed', u's5e8', u'catered', u'beg', u'providing', u'enforced', u'thwarted', u'lightly', u'torment', u'showrunners/writers/directors', u'confesses', u'battles', u'vengeance', u'brother-in-law', u'bloodthirsty', u'delivery', u'wot', u'violation', u'crate', u'eyebrows', u'reclaiming', u'molest', u'cyril', u'earned', u'winner', u'hopeful', u'brighten', u'rash', u'shortsword', u'silly/unrealistic', u'tbh', u'5x8', u'joins', u'endless', u'gray', u'evolution', u'sowing', u'wincing', u'watershed', u'hollow', u'sha', u'v=y6jqhta0yhs', u'v=qfuotopbfw4', u'accuser', u'backfires', u'accused', u'renouce', u'danger', u'nightmare', u'tend', u'lightbringer..', u'correctly', u'allotted', u'v=03nqjy7fiba', u'tent', u'interfere', u'foreshadow', u'kicking', u'limits', u'***the', u'journey', u'quit', u'addition', u'aligning', u'immense', u'costumers', u'daggers-', u'quin', u'username', u'gouged', u'shameless', u'deviant', u'mythology', u'soonish', u'shooting', u'upside', u'kingly', u'//www.reddit.com/r/gameofthrones/comments/328dv9/spoilers_all_get_hype/', u'reactionary', u'rightfully', u'appearances', u'1-6', u'nightly', u'fierce', u'//', u'baretheon', u'restore', u'dose', u'mistakes', u'meereneese', u'large-scale', u'barefooted', u'lured', u'vids', u'shoudl', u'crushed', u'historic', u'crushes', u'quicksmart', u'sized', u'lends', u'genealogically', u'twitter', u'moderates', u'broad', u'injects', u'rewarding', u'fountain', u'limitations', u'decline', u'choker', u'poignant', u'southron', u'instinct', u'choked', u'//en.wikipedia.org/wiki/the_gift_', u'freedom', u'duo', u'cleans', u'dominion', u'episide', u'stakes', u'//i.imgur.com/eqbamwu.jpg', u'impatience', u'relegated', u'protectors', u'cell*', u'lyanna\\u2019s', u'crushing', u'hr', u'hs', u'marge', u'highest', u'eat', u'pitch-black', u'targaryen**', u\"''dorne\", u'signed', u'befell', u'kissed', u'balcony', u'contest', u'offensive', u'propositioned', u'stumps', u'suspiciously', u'fodder', u'additionally', u'stan', u'8000', u'appoint', u'**awesome**', u'extras', u'talisa', u'secondly', u'todays', u'similarity', u'aiden', u'powders', u'protest', u'viscerys', u'fronts', u'buddy', u'segments', u'blaerys', u'harys', u'tarlly*', u'dir=prev', u'dynasty', u'vast', u'.and', u'convenience', u'kidnap', u'//www.reddit.com/r/asoiaf/comments/375mq1/spoilers_aired_episode_quality/crk1m0q', u'/u/youareagoat', u'dr.', u'tips', u'reviving', u'pancakes', u'meh', u'osha', u'books/spoilers', u'active', u'welding', u'campaign', u'/u/bhkw54', u'circumvent', u'landscape', u'lasercut', u'ward', u'defecated', u'solarmovie', u'movies', u'laughs', u'w=882', u'carice', u'sith*', u'wights', u'blanks', u'believers', u'vicious', u'curiosity', u'royce', u'shat', u'loyalists', u'fictitious', u'frequent', u'vfx', u'emotion', u'fetus', u'weakens', u'fortify', u'banged', u'crew', u'v=qjbjdze_fyu', u'overcome', u'combination', u'weakness', u'animenorth', u'grammar', u'meat', u'ep507', u'bonk', u'afforded', u'compassionately', u'decree', u'restricted', u'crucial', u\"'high\", u'podrick', u'cutest', u'aisle', u'punctuated', u'signature', u'fuckin', u'user', u'enraged', u'wronged', u'deplete', u'downside', u\"would't\", u'girls', u'spoilers/theory', u'witnessing', u'dwell', u'shallowness', u'sayer', u'\\u201cworld', u'spoiles', u'suceeds', u'rattle', u'seed', u'seek', u'thaaaanks', u'point-', u'impotent', u'chess', u'wrists', u'12-minute', u'observation', u'blahdy', u'twoiaf', u'pointy', u'one-dimensional', u'dawing', u'implying', u'attempts', u'stepping', u'bookish', u'debts', u'alexnegra', u'tyke', u'stabbing', u'11', u'peasant\\u201d', u'bam', u'flagged', u'ears', u'misrule', u'voyage', u'shaved', u'summaries', u'disprove', u'wears', u'physicist', u'weary', u'cousin', u'meaningful', u'dumbed', u'suggested', u'then-enemies', u'revieled', u'damned', u'uni', u'he\\u2019ll', u'confronted', u'objections', u'tiny', u'varma', u'entered', u'website', u'prosperous', u'quantities', u'dismiss', u'sooooo', u'kudos', u'bad-people', u'tudor', u'sly', u'defending', u'ugly', u'anchor', u'ridicule', u'semesters', u'iv', u'grown', u'80s', u'confronting', u'/r/television', u'declaring', u'bealish', u'differing', u'kit', u'renaissance', u'single-bladed', u'jealous', u'butter', u'/r/snoonet', u'failing', u'rome', u'pandora', u'unfair', u'rhaegars\\u2019', u'assigned', u'identify', u'transforms', u'boinked', u'jeweled', u'disect', u'either..', u'sailors', u'forester', u'whichever', u'vanity', u'nude', u'101ac', u'arguing', u'bold', u'//youtu.be/c0v7we-hhpa', u'confrontation', u'tyrell..', u\"'it\", u'tyrell/littlefinger', u\"'let\", u'**unbroken**', u'targaeryan*', u're-watching', u'\\u201cgreat', u'initial', u'approximate', u'question/discussion', u'fraction', u'starve', u'**-a', u'show-runners', u'atrocities', u'streaming', u'attached', u'necassery', u'sticks', u'sale', u'\\u201cstill', u'kidding..', u'fosters', u'handed', u'alleviates', u'savage', u'brightens', u'shortswords', u'jones', u'microcosm', u'daily', u'bronns', u'fsu', u'themed', u'manages', u'disgusting', u'answered', u'unpleasant', u'swoop', u'marks', u'off.', u'smartphone', u'string', u'ma', u'show..', u't=2m33s', u'dip', u'mo', u\"'raped\", u'dealing', u'literature', u'eating', u'favour', u'filled', u'lannister-guts', u'ref_=tt_cl_sm', u'appetites', u'harpys', u'lusting', u'battling', u'bruises', u'exploitation', u'simultaneous', u'suggestion', u'-tart', u'elect', u'ailing', u'\\u201chow', u'france', u'lessened', u'sharing', u'euron=/=daario', u'cersei*', u'to/fighting', u'//img2.wikia.nocookie.net/__cb20140528194347/gameofthrones/images/7/74/episode-32-05-1024.jpg', u'riverrun', u'evil-dead', u'avoiding', u'got-edition', u'soul', u'sellsword', u'hubris', u'soup', u'arrive', u'bites', u'//youtu.be/agwctyxrjfm', u'what/who', u'we\\u2019re', u'agent', u'sample', u'redness', u'flairs', u'designer', u'max', u'noun', u'long-range', u'disembowel', u'//www.historylearningsite.co.uk/operation_blue.htm', u'block', u'deceive', u'unaired', u'5x7', u'|5.06|', u'5x1', u'introductions', u'cuts', u'history/poetry', u'maim', u'undermines', u'finance', u'killer', u'two-on-one', u'moron', u's3/acok', u'sopranos', u'scheme', u'*not*', u'preaching', u'morning', u'castle-hughes', u'imperative', u'tidbits', u'dominate', u'//dropcanvas.com/kqjtg', u'breakspear', u'dungeons', u'*knows*', u'plains', u'fiery', u'subplot', u'allegedly', u'paynes', u'//barbariana.com/wp-content/uploads/2011/11/map2-2_map_of_westeros_original.jpg', u'infiltrate', u'13', u'12', u'books/show', u'14', u'17', u'16', u'18', u'begrudgingly', u'orgy', u'1-', u'gathering', u'topics', u'recreated', u'switching', u'channel', u'c-movie', u'skinned', u'correlation', u'insanity', u'beta', u'v=8iqv17t4rgk', u'sheets', u'conspicuous', u'-wild-ling', u'merryweather', u'//drive.google.com/file/d/0b7aokafyfathsxf2zwmyyzlzb0u/view', u'flack', u'thornes/high', u'doesn\\u2019t', u'f\\xfchrer', u'fend', u'principality', u'travesty', u'plump', u'hungarian', u'hostage', u'unimportant', u'wheeze', u'enjoys', u'secondary', u'communicates', u'pascal', u'yield', u'summary', u'finishing', u'declared', u'seat', u'relative', u'doings', u'eliminating', u'seal', u'invalidating', u'tully/arryn', u'cleaning', u'boundaries', u'bolton-haters', u'august', u'legitimacy', u'je', u'stretches', u'accusation', u'troops/king', u'-shae', u'attaching', u'workshop', u'compelling', u'offered', u'swanns', u'^', u'friendstone', u'turtles', u'margie', u'sincere', u'sleeping', u'possilbe', u'single-minded', u'movements', u'read/seen', u'sams', u'assist', u'companion', u'driven', u'amazes', u\"heir'\", u'danaerys', u'parody', u'gates', u'flavor', u'clueless', u'rest..', u'essos-based', u'epsiode', u'forge', u'mon', u'long-haired', u'mob', u'implicate', u'mod', u'terrorize', u'facing', u'chamber', u'pronounce', u'images', u'credited', u'gross', u'expressing', u'visualize', u'sensible', u'notable', u'despicable', u'willias', u'*that*', u'bonding', u'referenced', u'decimates', u'fantasy', u'1:27', u'1:25', u'breast-plate', u'washers', u'motherly', u'strikes', u'striken', u'gore', u'striked', u'romantic', u'pitting', u'arranges', u'conqueror', u'powerless', u'affection', u'saviors', u'resolving', u'\\u201cbloodraven\\u201d', u'film', u'selfish', u'lovemaking', u'barristans', u'students', u'revolve', u'prudent', u'awkwardly', u'jaeharys', u'shagging', u'liam', u'bloodrider', u'imma', u'proposals**', u'story..', u'wushu', u'chekov', u'worded', u'intricately', u'titled', u'stonecarver', u'appreciating', u'//np.reddit.com/r/thelastairbender/comments/378q3x/no_spoilers_azula_on_her_rightful_throne_from_the/', u'creatures', u'defence', u'wrecked', u'^true', u'movement', u\"c'mon\", u'off.\\u201d', u'jonah', u'sansa/ramsay', u'fantasies', u'uncharted', u'//img3.wikia.nocookie.net/__cb20150328212702/gameofthrones/images/4/41/wildfire_explosion.jpg', u'cowardly', u'unlikeable', u'ghis/rhoynar', u'establish', u'score', u'destination', u'controlling', u'sucks', u'friendly', u'pressing', u'dem', u'stubborn', u'conniving', u'stacking', u'onslaught', u'sphere', u'traffickers', u'necesary', u're-read', u'stir', u'consenual', u'she\\u2019s', u'par', u'brady', u'crippling', u'bathed', u'pleasure', u'rounded', u'heartfelt', u'tommen\\u2019s', u'transitional/', u'0:30', u'existence', u'ok.', u'possessions', u'eunuch', u'hurting', u'unrolled', u'noticing', u'walls', u'sansa/theon', u'suprise', u'ashes', u'harboring', u'mental', u'fish', u'foxes', u'engaging', u'callus', u'thick', u'harp', u'funding', u'avenge', u'ironed', u'commits', u'mormonts', u'benefits', u'reinforces', u'needing', u'tyrell/stannis', u'coin..', u'indebted', u'instances', u'smaller', u\"'little\", u'razor', u'18+', u'revive', u'rates', u'wildly', u'mentality', u'riddance', u'interactive', u'outta', u'ages', u'commentary', u'insufferable', u'province', u'godfather', u'hints/foreshadowing', u'engagements', u'storyling', u'\\u201credemption\\u201d', u'relation', u'finn', u'hopped', u'cartoon\\u201d', u'cinemagraph', u'chimes', u'idiots', u'breast', u'sill', u'//youtu.be/hhjvvmo8zba', u'resolve', u'testifying', u'orcs', u'witcher', u'who/what', u'wyndham', u'visiting', u'phucken', u'cahoots', u'distraught', u'forwardness', u'reverse', u'solely', u'foreign', u'antedote', u'a+**', u'volunteered', u'trilogy', u'ensured', u'abortifacient', u'doodles', u'honorary', u'chatter', u'fur', u'raw', u'solid', u'puissant', u'tolerate', u'reopens', u'sexuality', u'replaced', u'totheir', u'violently', u'concoction', u'emphasize', u'ray', u'relativize', u'breastfed', u'husbands', u'degenerates', u'openly', u'injuries', u'cup', u'coster-waldau', u'alternate', u'cuz', u'cue', u'overtook', u'deliberately', u'bio', u'andpeople', u'hardy', u'retake', u'addressed', u'loyalist', u'insincere', u'examples', u'mirror', u'obliges', u'you\\u2019re', u'pen', u'bogus', u'invade', u'patient', u'alexnegrea', u\"'this\", u'subconscious', u'darnedest', u'seriousness', u'beans', u'depose', u'abusive', u'invading', u'opponent', u'hopes', u'nutshell', u'dr.q', u'constant', u'flow', u'fogged', u'speculation/', u'tyroins', u'accidental', u'w/in', u'implies', u'wards', u'presenting', u'lilly', u'presently', u'intel', u'matarys', u'arrange', u'rivers', u'//gfycat.com/corruptgargantuanhoneybadger', u'armadas', u'access', u'exercise', u'justification', u'objects', u'sink', u'bode', u'mindset', u'39', u'33', u'32', u'30', u'3-', u'cleganebowl.avi', u'//www.reddit.com/r/dreadfort/comments/36jmg7/prediction_for_season_finale_ramsay_youve_known/', u'crashing', u'patrol', u'refers', u'thrones/', u'\\u2026', u'totality', u'charcoal', u'spearing', u'post-premiere', u'payne', u'trail', u'ashamed', u'arranging', u'pathos', u'assumptions', u'closing', u'effectively', u'ascension', u'boner', u'nitpicky', u'native', u'lamb', u'psyched', u'holds', u'forest', u'say/do', u'profile', u'badaxery', u'waters', u'sidekick-ness', u'mixed', u'jilette', u'v=lrht8mrofm4', u'whitewalkers', u'revenge-', u'bind', u'subreddits', u'chief', u'wanted-', u'tararyens', u'detail..', u'meter', u'looping', u'hugged', u'nasty', u'la', u'them..', u'relativity', u'winning', u'stepped', u'dad', u'robert-cersei', u'spell', u's1/agot', u'reaaly', u'tulley', u'february', u'toddler', u'identified', u'blazing', u'castration', u'bromance', u'references', u'jugular', u'incensed', u'.jpeg', u'jessica', u'scumbag', u'retain', u'sack', u'cerises', u'instill', u'sadly', u'vagina', u'sickness\\u201d', u'messing', u'..except', u'gear', u'aemon\\u2019s', u'skyrim', u'ipad', u'pycell', u'loves', u'curves', u'comfortable', u'patting', u'dictate', u'yesterdays', u'minimally', u'mia', u'mid', u'imprisonning', u'provoked', u'reciting', u's5ep7', u'intended.\\u201d', u'eight', u'cleverest', u'payment', u'}', u'supported', u'fight..', u'inspiring', u'grabbed', u'scorpion', u'controls', u'roadtrip', u'regularly', u'poisoned..', u'delirious', u'dumbing', u'beak', u'striped', u'knowledgable', u'lifestyles', u'beric', u'mascara', u'fixed', u'joanna', u'omission', u'exists', u'eddard\\u2019s', u'wild-lings', u'attempting', u'pattern', u'list=plyvrevqaornjib5rmq03c09udswmrxhum', u'monarchy', u'antics', u'sandsnaked', u'optional', u'freely', u'equal', u'asked/explained', u'assure', u'swim', u'conquered', u'glorious', u'aa', u'teasing', u'//i.imgur.com/glzxieh.jpg', u'laugh', u'leaked', u'basing', u'\\u201cd', u'proposal', u'//assets.viewers-guide.hbo.com/xlarges1-ep5-map-locations-takeover-the-eyrie-2024x1536.jpg', u'\\u201ci', u'finishes', u'overwhelmingly', u'ridden', u'tense', u'splits', u'vapid', u'likable', u'helper', u'chaotic', u'claimed', u'partner', u'watchful', u'shoehorned', u'frivolous', u'injured', u'sisters', u'shitting', u'numbered', u'redeemable', u'reintroduce', u'negotiation', u'stores', u'sister-in-law', u'//winteriscoming.net/2015/05/11/game-of-thrones-wont-break-for-memorial-day-weekend/', u'seats', u'wether', u'ads', u'terrorized', u'passively', u'match', u'resolved', u'fallers', u'fyi', u'whiney', u'masterfully-crafted', u'happend', u'noise', u'prision', u'propably', u'\\u201che', u'marketable', u'anti-populist', u'raiding', u'0:20', u'6am', u'evoke', u'baseless', u'doesnt', u'shrieen', u'own..', u'howland', u'condense', u'awarded', u't=2m28s', u'glimmer', u'beastiethrones', u'brand', u'sequel', u'plague', u'staunchest', u'versatile', u'partially', u'glory', u'//youtu.be/5isq9hl7tz8', u'flip', u'leech', u'alliteration', u'destabilise', u'pic', u'pie', u'pig', u'mysteriously', u'proceeds', u'44', u'claiming', u'43', u'ducked', u'saint.which', u'limited', u'hitch', u'dere', u'poorly', u'\\xab', u'charles', u'pride', u'trolled', u'lure', u'sei-g', u'\\u201cduncan\\u201d', u'softened', u'funneled', u'squire..', u'ideas/opinions', u'school', u'flashy', u'leaders', u'aelor', u'consistent', u'feathers', u'direct', u'nail', u'estimated', u'shining', u'/r/diy', u'//youtu.be/_jyknqvsbkw', u'burliest', u'causes', u'conduct', u'kicked', u'enjoy..', u'stared', u\"'she\", u'sub-reddit', u'errthang', u'visibly', u'sympathise', u'forums', u'regicide', u'espisode', u'spike', u'breathe', u'grief', u'casualties', u'supplemental', u'shoot', u'brandishing', u'is/or', u'entertained', u'install', u'salvage', u'exterior', u'diminished', u'+in', u'not..', u'attract', u'overpowered', u'father/daughter', u'poker', u'poked', u'parallel', u'sersey', u'sweetrobin', u'enter', u'aloud', u'acknowledges', u'sickly', u'riding..still', u'407', u'line..', u'mistreat', u'misdirection', u'karried', u'dethrone', u'\\u0161ibenik', u'diana', u'hanged', u'newly', u'scopes', u'relevant/cool', u'went*', u'benoiff', u'tolerant', u'heck', u'hopeless', u'excitied', u'restrict', u'rant', u'philosophical', u'*and*', u'bandaged', u'toy', u'fiction', u'numbly', u'confirming', u'overact', u'girl\\u201d', u'tool', u'uniton', u'western', u'sighs*', u'kidnaps', u'nominate', u'rag', u'fashion', u'die**', u'slithering', u'thoroughly', u'sansas', u'laughed', u'rides', u'most/is', u'glimpses', u'commencement..', u'parting', u'jojen', u'peers', u'//i.imgur.com/yz06mki.jpg', u'westboro', u'reemerged', u'/u/jakenhghar', u'pardoned', u'pops', u'v.s', u'bail', u'stanza', u'spits', u'on-screen', u'announce', u'waltz', u'report', u'chain..', u'youngish', u'angers', u'countries', u'vlog', u'shots', u'isolation', u'ruins', u'thwarting', u'saddle', u'corrupt', u'limiting', u'robbs', u'gladiator', u'continually', u'tullys', u'boss', u'censorship', u'news', u'improve', u'participating', u'merging', u'mildly', u'khrazz', u'improving', u'epidemic', u'hysterically', u'**directly**', u'beef', u'binge', u'bees', u'p.s', u'raegar', u'craft', u'intending', u'n', u'lesser', u'cracked', u'provocative', u'experts', u'\\u2019', u'containing', u'thusly', u'wound', u'complex', u'thrones\\u2019s', u'*cleaning*', u'insisted', u'possessed', u'incapable', u'hearts', u'possesses', u'gaolers', u'grades', u'depart', u'enlighten', u'designers', u'snoonet', u'through.\\u201d', u'divert', u'rumor', u'appearing', u'58', u'dishonest', u'50', u'avatar', u'happily-ever-after', u'gifted', u'*revenge', u'5-', u'nedd', u'totaly', u'armed', u'companions', u'dual-wield', u'core', u'.what', u'jarring', u'lightbox', u'trustworthy', u'ensure', u'civil', u'puzzle', u'accommodate', u'ussr', u'//img3.wikia.nocookie.net/__cb20140402121259/gameofthrones/images/7/72/house-stark-heraldry.jpg', u'minted', u'transform', u'benow', u'trivializes', u'heal', u'heinous', u'dosza', u'afraid/band', u'humiliate', u'rabban', u's2ep7', u'rodrick', u'heartwarming', u'hodorish', u\"'got\", u'trio', u'fury', u'indy', u'hame', u'faithful', u'whereas', u'beheading', u'stagnant', u'nr', u'nuance', u'oberyn/dorne', u'stops', u'sacks', u'remarked', u'wway', u'backward', u'coach', u'sympathetic', u'displaying', u'1942', u'contemplating', u'passage', u'discovering', u'questions-', u'soundtrack..', u'cook', u'lollys', u'level', u'^genius', u'invades', u'invaded', u'dried', u'toughen', u'drinks', u'reply', u'hoarse', u'descended', u'motherfucking', u'betrothals', u'morty', u'modifying', u'paralyzed', u'ironically', u'iphone', u'sessions', u'teases', u\"r'llor\", u'roundtable', u'jobbing', u'unarmed', u'dropped', u'provoke', u'afterlife', u'secured', u'unbelievable', u'paramount', u'clattered', u'informs', u'heartbreaking', u'eighth', u'unbelievably', u'succeeded', u'amuse', u'exclusive', u'fangs', u'oldid=655486785', u'tryell', u'dollars*', u'conversations', u'**tldr**', u'feature', u'gushing', u'possibilities', u'realistic', u'accomplishments', u'hiccups', u'intended', u'action=history', u'well\\u2026\\u201d*', u'attended', u'infidelity', u'itrn', u'swing', u'aegon/egg', u'origin', u'fetched', u'revenue', u'symbolic', u'awfully', u'clumsy', u'array', u'millions', u'squashed', u'ian', u'blurays', u'alas', u'lazy', u'inkling', u'outcome', u'dissapointed', u'earth-', u'tarts', u'mates', u'sells', u'\\u201cgame', u'ideal', u'staniss', u'strengths', u'betrayal', u'cleared', u'disscussed', u'cheat', u'cogman|', u'//imgur.com/a/8q9xc', u'crime', u'partake', u'wool', u'oblique', u'nell', u'begging', u'define', u'rendition', u'a-**', u'chat**', u'bought', u\"y'all\", u'westeros/essos/sothoryos', u'picnic', u's5e04', u'getyong', u'invokes', u'toying', u'shivered', u'rumours', u'originated', u'coma', u'harshly', u'byes', u'her**', u'22', u'region', u'priests', u'gimmicks', u'quiet', u'contract', u'senator', u'martell/dorne', u'62', u'tropes', u'scandalous', u'peaceful', u'hardly', u'500', u'..it', u'followup', u'conceieve', u'innkeeper', u'tiger', u'irrelevant', u'champions', u'mount', u'cash', u'sometime', u'irrespective', u'shrieks', u'pwned', u'boobsucking', u'crusader', u'/\\u02c8bast\\u0259rd/', u'prophesize', u'discrepancy', u'punched', u'bran+children', u'author', u'**who', u'tv-based', u'downloads', u'persons', u'one-by-one', u'3,500', u'gyorgy', u'reward', u'bodies', u'sinner', u'captures', u'blow', u'risers', u'rose', u'blog', u'easy.\\u201d', u'styles', u'stylee', u'styled', u'correcting', u'snakes-', u'daario=crows', u'well-received', u'**posting', u'*nods', u'shirtless', u'mercenaries', u'provides', u'nails', u'inspect', u'royals', u'fealty.\\u201d', u'terrified', u'stereotypes', u'baffled', u'baffles', u'discusses', u'tribe', u'v=woga8ik7rhs', u'non-pay', u'speculated', u'lastly', u'feudal', u'^then', u'strictly', u'ponce', u'*where', u'appeal', u'valley', u'kingpin', u'kittens', u'fanatical', u'\\u201cso', u'compl\\u0435tely', u'\\u201clittlefinger\\u201d', u'grasp', u'king*', u'taylor', u'taste', u'silver-haired', u'stumbled', u'sufficient', u'deviation', u'pillows', u'includes', u'finals', u'ramsy', u'missouri', u'facepalming', u'coin**', u'executing', u'hmmm', u'glimpse', u'***all', u'homage', u'ramsay-sansa', u'thursday', u'crest', u'liars', u'conflicted', u'rats', u'robyn', u'nbc', u'disfigure', u'mkayyyy', u'deeply', u'sum', u'attitudes', u'littlfinger', u'horrified', u'graph', u'tryion', u'know*', u'littlefinger-', u'shits', u'infinitesimally', u'branded', u'*information', u'seeps', u'stannis-centric', u'tudors', u'commanded', u'craster', u'lannister/tyrell', u'recast', u'/u/tuzi_', u'bashir', u'coerce', u'arise', u'offspring', u'goal', u'goat', u'merman', u'jovi', u'nonchalantly', u'barbs', u'divergences', u'mission', u'take/wear', u'misspelled', u'assaulting', u'blu-rays', u'resort', u'stephen', u'generously', u'eulogy', u'//www.theguardian.com/tv-and-radio/tvandradioblog/2015/may/25/game-of-thrones-recap-season-five-episode-seven-the-gift', u'vaughn', u'intolerably', u'subtler', u'refresh', u'friendship', u'thing..', u'weighs', u'peeps', u'inflict', u'prolly', u'alcohol', u'wondered', u'loudly', u'betha\\u201d', u'*zero', u'hill', u'doo', u'tactician', u'friday', u'forgive', u'e.g', u'precap', u'delegitimize', u't=4m54s', u'traveled', u'well-known', u'financed', u'tougher', u'rails', u'store', u'scooby', u'filmic', u'treasurer', u'horrifically', u'title=bryan_cogman', u'unmentioned', u'shrunken', u'\\u03b1=.05', u'doubly', u'dani', u'stale', u'shanking', u'storytelling', u'strengthen', u'preist', u'^unless', u'cropped', u'entirety', u'view/threat', u'intervened', u'measured', u'victimization', u'decapitations', u'10am', u'smart..', u'liberate', u'night-', u'night.', u'show\\u2019s', u'pennies', u'fond', u\"'super-seasons\", u'routinely', u'endlessly', u'airtime', u'feminists', u'arrowheads', u'northerners', u'compiled', u'**actual**', u'longest', u'investigate', u'cripples', u'bars', u'//alexnegrea.deviantart.com/art/ramsay-snow-portrait-465537670', u's3e04', u'bare', u'bard', u'explosion', u'2.0', u'nailed', u'aeyries', u'slapped', u'lindelof', u'succesor', u'sneakiest', u'concil**', u's5/agot', u'license', u'operai', u'**winterfell', u'flies', u'distress', u'dudes', u'weasel', u'goats', u'simpler', u'ps', u'complication', u'**however', u'overlook', u'george/book', u'teacher', u'pg', u'make-up', u'flight', u'transferring', u'demand', u'plants', u'phuck', u'shortened', u'demon', u'leans', u'disappointing', u'grenn', u'rid', u'anguish', u'blackwood', u'shirt', u'fading', u'peoples', u'spears', u'holidays', u'domains', u'kingslanding', u'starves', u'cheek', u'sneered', u'stating', u'tables', u'acapella', u'complains', u'hate\\u201d', u's1-s3', u's1-s5', u's1-s4', u'shaped', u'separately', u'uproar', u'unstable', u'ep06', u'entice', u'hinted', u'good\\u2019', u'faegon', u'dany-', u'gradually', u'prot', u'jumps', u's/o', u'refused', u'housekeeping', u'ordeal', u'dialog', u'hatred', u'credible', u'plethora', u'momma', u'impressed', u'//boingboing.net/2015/05/12/the-naked-hypocrisy-of-game-of.html', u'tumble', u'brynden', u'sections', u'mundane', u'v=xhk69spzw-u', u'girlfriends', u'forbidding', u\"'you\", u'uunpopular', u'consist', u'fice', u'worthwhile', u'shortcuts', u'.have', u'non-reader', u'jaime/cersei', u'one-on-one', u'breasts', u'dillane', u'meaning', u'|predict', u'allowing', u'puncture', u'posters', u'remix', u'vice', u'attacking', u'intentional', u'scroll', u'darrio', u'sadistically', u\"a'hai\", u'contributions/2a02:1811:3387:9500:447f:7273:4629:7d7a', u'threateningly-joking', u'stable', u'dramatically', u'breathing', u'wished', u'rhaella', u'bosses', u'deals', u'noted', u'\\u201cblack', u'frost', u'fold', u'blackwater**', u'worships', u'nazis', u'degree', u'slated', u'desired', u'sexy', u'chaste', u'confession', u'scaley', u'volk', u'awesomeness', u'improbable', u'aboard', u'thrones\\u201d', u'apply', u'frog', u'hypothetically', u'/u/juanesgr', u'episode.|', u'inclined', u'impress', u'tsked', u'highborn', u'oakheart', u'no-names', u'0.8', u'tap', u'thirsty', u'tad', u'summers', u'counting', u'struggles', u'patronize', u'justifiably', u'depression/reflection/loneliness', u'panic', u'masks', u'wrist', u'political..', u'necklace', u'tweest', u'interpreted', u'complicate', u'\\u201cand', u's5/e6', u'flex', u'//mikeydislikesit.files.wordpress.com/2015/05/the-north-remembers.jpg', u'crash', u'medium-hard', u'impaired', u'trap', u'arys', u'stirling', u'related', u'80', u'additions', u'semen', u'settlement', u'affective', u'ironmen', u'implode', u'conflicts', u'philip', u'additional', u'comrade', u'river', u'feasible', u'westeros..', u'indira', u'biting', u'gentlemanly', u'sew', u'proposing', u'drastic', u'endgame', u'publication', u'unknown', u'accent', u'rigg', u'priority', u'hodors', u'shell', u'consecuences', u'shelf', u'doomed', u'tommen..', u'cerrcei', u'*looks*', u'westerlands', u'rarity', u'subconsciouly', u'teenagers', u'sincerity', u'russians', u'sacrifised', u'underestimating', u'outpour', u'movin', u'cracking', u'delve', u'deny', u'refreshing', u'saddest', u'tasked', u'//imgur.com/a/bdfam', u'^i', u'reek-', u'^a', u'inspirations', u'balding', u'chances', u'burner', u'fifty.\\u201d', u'brutalized', u'high-born', u'darkest', u'chanced', u'longsword', u'filmed', u'local', u'indignant', u'spun', u'dragonknight', u'homosexuals', u'responses', u'closer', u'no1', u'usersub', u'rescuers', u'v=cy5as-rp1mm', u'swift', u'grain', u'atleast', u'kekilli', u'unclear', u'shoving', u'confronts', u'adulterers', u'card', u'charts', u'commercials', u'bewildering', u'painted', u'interrupts', u'uncanny', u'improved', u'maegyr', u'11:32pm', u'audiences', u'dual', u'delegitimizes', u'blount', u'tomatoes', u'alot', u'\\u201cwe\\u2026', u'conceived', u'stroyline', u'arse', u'gutter', u'panzer', u'bending', u'excessive', u'heavily', u'obtain', u'rapid', u'wyverns', u'sky', u'//imgur.com/tu7wbef', u'sanskrit', u'earnestly', u'unprecedented', u'enact', u'lineage', u'captivating', u'lanisters', u'neds', u'priness', u'knot', u'inheriting', u'ahem', u'bedfellows', u'perpetual', u'loses', u'exceed', u'flagrant', u'growth', u'ablaze', u'empire', u'flummoxed', u'motives/actions', u'episode..', u'noose', u'southerner', u'obey', u'asinine', u'double-take', u'loraq', u'frankengregor', u'rare', u'carried', u'extension', u'linger', u'spilled', u'asha', u'swear', u'sweat', u'fatally', u'owl', u'singleplayer', u'fired', u'powdered', u'uncontrollable', u'bitches', u'wight', u'harkonnen', u'stirring', u'interchanges', u'horrific', u'resting', u'trailing', u'pod-', u'boom', u'*actually*', u'//www.tvguide.com/tvshows/game-of-thrones/episode-9-season-5/the-dance-of-dragons/305628/', u'insipid', u'strategical']\n"
     ]
    }
   ],
   "source": [
    "print wordfreqs_cat2.hapaxes()"
   ]
  },
  {
   "cell_type": "code",
   "execution_count": 19,
   "id": "420a66b1",
   "metadata": {},
   "outputs": [],
   "source": [
    "# manual list takes almost every single character on the keyboard\n",
    "manual_stopwords = [',','.',')',',','(','m',\"'m\",\"n't\",'e.g',\"'ve\",'s','#','/','``',\"'s\",\"''\",'!','r',']','=','[','s','&','%','*','...','1','2','3','4','5','6','7','8','9','10','--',\"''\",';','-',':']"
   ]
  },
  {
   "cell_type": "markdown",
   "id": "c9562d91",
   "metadata": {},
   "source": [
    "## Stemming"
   ]
  },
  {
   "cell_type": "code",
   "execution_count": 20,
   "id": "7a26bfed",
   "metadata": {},
   "outputs": [],
   "source": [
    "stemmer = nltk.SnowballStemmer(\"english\")"
   ]
  },
  {
   "cell_type": "code",
   "execution_count": 21,
   "id": "9df8d8e1",
   "metadata": {},
   "outputs": [],
   "source": [
    "def wordStemmer(wordrow): \n",
    "    stemmed = [stemmer.stem(word) for word in wordrow]\n",
    "    return stemmed  "
   ]
  },
  {
   "cell_type": "markdown",
   "id": "b98d7d92",
   "metadata": {},
   "source": [
    "## Process data attempt 2"
   ]
  },
  {
   "cell_type": "code",
   "execution_count": 22,
   "id": "0917253e",
   "metadata": {},
   "outputs": [],
   "source": [
    "def data_processing(sql,manual_stopwords):\n",
    "    c.execute(sql) #1\n",
    "    data = {'wordMatrix':[],'all_words':[]}\n",
    "    interWordMatrix = []\n",
    "    interWordList = []\n",
    "    row = c.fetchone() #2\n",
    "    while row is not None:\n",
    "        tokenizer = nltk.tokenize.RegexpTokenizer(r'\\w+') #3 \n",
    "        wordrow = tokenizer.tokenize(row[0]+\" \"+row[1])       \n",
    "        wordrow_lowercased = lowerCaseArray(wordrow)\n",
    "        wordrow_nostopwords = wordFilter(stopwords,wordrow_lowercased)\n",
    "        wordrow_nostopwords = wordFilter(manual_stopwords,wordrow_nostopwords)#4\n",
    "        wordrow_stemmed = wordStemmer(wordrow_nostopwords)\n",
    "        interWordList.extend(wordrow_stemmed)#5\n",
    "        interWordMatrix.append(wordrow_stemmed)#6\n",
    "        row = c.fetchone()#7\n",
    "        \n",
    "    wordfreqs = nltk.FreqDist(interWordList)#8\n",
    "    hapaxes = wordfreqs.hapaxes()#9\n",
    "    for wordvector in interWordMatrix:\n",
    "        wordvector_nohapexes = wordFilter(hapaxes,wordvector) #10\n",
    "        data['wordMatrix'].append(wordvector_nohapexes)\n",
    "        data['all_words'].extend(wordvector_nohapexes)\n",
    "        \n",
    "    return data\n",
    "#1 create pointer to the sqlite data\n",
    "#2 fetch the data one by one\n",
    "#3 row[0] is the title, row[1] is the topic text, we turn them into a single text blob\n",
    "#4 remove manual stopword\n",
    "#5 temporary wordlist used to remove hapaxes later on\n",
    "#6 temporary wordmatrix, will become final wordmatrix after hapaxes removal\n",
    "#7 get a new topic\n",
    "#8 make a frequency distribution of all terms\n",
    "#9 get the list of hapaxes\n",
    "#10 remove the hapaxes"
   ]
  },
  {
   "cell_type": "code",
   "execution_count": 23,
   "id": "ddab35e7",
   "metadata": {},
   "outputs": [],
   "source": [
    "for subject in subreddits:\n",
    "    data[subject] = data_processing(sql='''SELECT topicTitle,topicText,topicCategory FROM topics WHERE topicCategory = '''+\"'\"+subject+\"'\",manual_stopwords=manual_stopwords)"
   ]
  },
  {
   "cell_type": "markdown",
   "id": "13409f68",
   "metadata": {},
   "source": [
    "## Explore data: word frequencies (attempt 2)"
   ]
  },
  {
   "cell_type": "markdown",
   "id": "b3305e21",
   "metadata": {},
   "source": [
    "### Category 1"
   ]
  },
  {
   "cell_type": "markdown",
   "id": "d4037afc",
   "metadata": {},
   "source": [
    "### Top 20 most common \"Data Science\" term after more intense data cleansing  "
   ]
  },
  {
   "cell_type": "code",
   "execution_count": 36,
   "id": "360a380e",
   "metadata": {},
   "outputs": [
    {
     "name": "stdout",
     "output_type": "stream",
     "text": [
      "[(u'data', 1971), (u'scienc', 955), (u'would', 418), (u'work', 368), (u'use', 347), (u'program', 343), (u'learn', 342), (u'like', 341), (u'get', 325), (u'scientist', 310), (u'job', 268), (u'cours', 265), (u'look', 257), (u'know', 239), (u'statist', 228), (u'want', 225), (u've', 223), (u'python', 205), (u'year', 204), (u'time', 196)]\n"
     ]
    }
   ],
   "source": [
    "wordfreqs_cat1 = nltk.FreqDist(data['datascience']['all_words'])\n",
    "print wordfreqs_cat1.most_common(20)"
   ]
  },
  {
   "cell_type": "markdown",
   "id": "7f7a7737",
   "metadata": {},
   "source": [
    "### Hapaxes & distribution plot"
   ]
  },
  {
   "cell_type": "code",
   "execution_count": 34,
   "id": "067a291e",
   "metadata": {},
   "outputs": [],
   "source": [
    "hapaxes_cat1 = wordfreqs_cat1.hapaxes()\n",
    "plt.hist(wordfreqs_cat1.values(), bins = range(20))\n",
    "plt.show()"
   ]
  },
  {
   "cell_type": "code",
   "execution_count": 35,
   "id": "b4a2158e",
   "metadata": {},
   "outputs": [
    {
     "data": {
      "text/plain": [
       "[]"
      ]
     },
     "execution_count": 35,
     "metadata": {},
     "output_type": "execute_result"
    }
   ],
   "source": [
    "hapaxes_cat1"
   ]
  },
  {
   "cell_type": "markdown",
   "id": "0a78dd80",
   "metadata": {},
   "source": [
    "### Category 2"
   ]
  },
  {
   "cell_type": "markdown",
   "id": "aa08bcaf",
   "metadata": {},
   "source": [
    "### Top 20 most common \"Game of Thrones\" term after more intense data cleansing  "
   ]
  },
  {
   "cell_type": "code",
   "execution_count": 32,
   "id": "0642438c",
   "metadata": {},
   "outputs": [
    {
     "name": "stdout",
     "output_type": "stream",
     "text": [
      "[(u's5', 426), (u'spoiler', 374), (u'show', 362), (u'episod', 300), (u'think', 289), (u'would', 287), (u'season', 286), (u'like', 282), (u'book', 271), (u'one', 249), (u'get', 236), (u'sansa', 232), (u'scene', 216), (u'cersei', 213), (u'know', 192), (u'go', 188), (u'king', 183), (u'throne', 181), (u'see', 177), (u'charact', 177)]\n"
     ]
    }
   ],
   "source": [
    "wordfreqs_cat2 = nltk.FreqDist(data['gameofthrones']['all_words'])\n",
    "print wordfreqs_cat2.most_common(20)"
   ]
  },
  {
   "cell_type": "markdown",
   "id": "bfff4681",
   "metadata": {},
   "source": [
    "### Hapaxes & distribution plot"
   ]
  },
  {
   "cell_type": "code",
   "execution_count": 33,
   "id": "c0fc8961",
   "metadata": {},
   "outputs": [],
   "source": [
    "hapaxes_cat2 = wordfreqs_cat2.hapaxes()\n",
    "plt.hist(wordfreqs_cat2.values(), bins = range(50))\n",
    "plt.show()"
   ]
  },
  {
   "cell_type": "code",
   "execution_count": 28,
   "id": "278daf5f",
   "metadata": {},
   "outputs": [
    {
     "data": {
      "text/plain": [
       "[]"
      ]
     },
     "execution_count": 28,
     "metadata": {},
     "output_type": "execute_result"
    }
   ],
   "source": [
    "hapaxes_cat2"
   ]
  },
  {
   "cell_type": "markdown",
   "id": "6793a79f",
   "metadata": {},
   "source": [
    "## Create labeled data"
   ]
  },
  {
   "cell_type": "code",
   "execution_count": 39,
   "id": "5517e1b6",
   "metadata": {},
   "outputs": [],
   "source": [
    "holdoutLength  = 100\n",
    "#labeled data\n",
    "labeled_data1 = [(word,'datascience') for word in data['datascience']['wordMatrix'][holdoutLength:]]\n",
    "labeled_data2 = [(word,'gameofthrones') for word in data['gameofthrones']['wordMatrix'][holdoutLength:]]\n",
    "labeled_data = []\n",
    "labeled_data.extend(labeled_data1)\n",
    "labeled_data.extend(labeled_data2)\n",
    "#create holdout\n",
    "holdout_data = data['datascience']['wordMatrix'][:holdoutLength]\n",
    "holdout_data.extend(data['gameofthrones']['wordMatrix'][:holdoutLength])\n",
    "holdout_data_labels = ([('datascience') for _ in xrange(holdoutLength)] + [('gameofthrones') for _ in xrange(holdoutLength)])"
   ]
  },
  {
   "cell_type": "code",
   "execution_count": 40,
   "id": "41c8d340",
   "metadata": {},
   "outputs": [
    {
     "name": "stdout",
     "output_type": "stream",
     "text": [
      "1647\n",
      "200\n",
      "([u'often', u'work', u'normal', u'data', u'vs', u'straight', u'quantiti', u'reason', u'ask', u'seem', u'blog', u'exampl', u'internet', u'see', u'data', u'analysi', u'data', u'scienc', u'usual', u'show', u'trivial', u'exampl', u'obtain', u'straight', u'quantiti', u'make', u'basic', u'visual', u'work', u'data', u'analyst', u'manufactur', u'work', u'warranti', u'claim', u'quantiti', u'howev', u'compar', u'one', u'model', u'versus', u'anoth', u'model', u'use', u'straight', u'quantiti', u'meaningless', u'compar', u'model', u'order', u'make', u'fair', u'comparison', u'normal', u'data', u'divid', u'number', u'warranti', u'claim', u'defect', u'number', u'vehicl', u'sold', u'metric', u'call', u'defect', u'rate', u'warranti', u'claim', u'rate', u'know', u'manufactur', u'facil', u'use', u'term', u'percent', u'non', u'conform', u'know', u'year', u've', u'seen', u'data', u'analyst', u'make', u'mistak', u'use', u'straight', u'quantiti', u'order', u'make', u'comparison', u'ipython', u'notebook', u'http', u'ipython', u'org', u'github', u'blob', u'master', u'work', u'state', u'wordcloud', u'ipynb', u'made', u'prototyp', u'purpos', u'creat', u'call', u'cumul', u'defect', u'rate', u'vs', u'month', u'sinc', u'model', u'releas', u'market', u'month', u'sinc', u'start', u'sale', u'chart', u'defect', u'rate', u'vehicl', u'build', u'month', u'metric', u'simpli', u'number', u'claim', u'divid', u'number', u'vehicl', u'sold', u'normal', u'thing', u'use', u'type', u'metric', u'lot', u'compani', u'd', u'imagin', u'compani', u'deal', u'warranti', u'claim', u'data', u'failur', u'data', u'note', u'due', u'compani', u'oblig', u'vehicl', u'problem', u'sql', u'statement', u'slight', u'warranti', u'sale', u'data', u'databas', u'sinc', u'obtain', u'process', u'claim', u'sale', u'data', u'simultan', u'sql', u'pretti', u'although', u'basic', u'union', u'queri', u'analysi', u'straight', u'quantiti', u'life', u'would', u'much', u'easier', u'sort', u'question', u'use', u'python', u'panda', u'librari', u'creat', u'cumul', u'defect', u'rate', u'calcul', u'month', u'sinc', u'start', u'sale', u'also', u'use', u'packag', u'make', u'map', u'wordcloud', u'packag', u'know', u'python', u'wordcloud', u'packag', u'get', u'instal', u'window', u'work', u'admin', u'right', u'use', u'wordcloud', u'packag', u'anyway', u'curious', u'data', u'other', u'use', u'must', u'normal', u'look', u'forward', u'see', u'exampl', u'other', u'alway', u'wonder', u'interest', u'data', u'data', u'analyst', u'scientist', u'use', u'edit', u're', u'look', u'job', u'data', u'analyst', u'data', u'scientist', u'would', u'definit', u'consid', u'major', u'compani', u'u', u'work', u'kind', u'amount', u'data', u'product', u'data', u'sale', u'data', u'warranti', u'data', u'failur', u'data', u'stream', u'vehicl', u'sensor', u'data', u'compani', u'sinc', u'privaci', u'issu', u'probabl', u'one', u'last', u'ever', u'captur', u'locat', u'certain', u'sensor', u'data', u'mean', u'dont', u'process', u'big', u'data', u'yet', u'predict', u'start', u'captur', u'sensori', u'data', u'run', u'big', u'data', u'problem', u'truli', u'believ', u'automak', u'prepar', u'start', u'captur', u'sensori', u'locat', u'data', u'major', u'automak', u'sell', u'sever', u'million', u'car', u'year', u'time', u'number', u'differ', u'thing', u'go', u'wrong', u'car', u'multipl', u'time', u'number', u'data', u'attribut', u'avail', u'mind', u'think', u'area', u'peopl', u'data', u'field', u'heard', u'automak', u'alreadi', u'captur', u'locat', u'data', u'person', u'reserv', u'differ', u'discuss'], 'datascience')\n"
     ]
    }
   ],
   "source": [
    "print len(labeled_data)\n",
    "print len(holdout_data_labels)\n",
    "print labeled_data[20]"
   ]
  },
  {
   "cell_type": "code",
   "execution_count": 41,
   "id": "2a64db1e",
   "metadata": {},
   "outputs": [],
   "source": [
    "data['datascience']['all_words_dedup'] = list(OrderedDict.fromkeys(data['datascience']['all_words']))\n",
    "data['gameofthrones']['all_words_dedup'] = list(OrderedDict.fromkeys(data['gameofthrones']['all_words']))"
   ]
  },
  {
   "cell_type": "code",
   "execution_count": 42,
   "id": "c92e5e9d",
   "metadata": {},
   "outputs": [],
   "source": [
    "all_words = []\n",
    "all_words.extend(data['datascience']['all_words_dedup'])\n",
    "all_words.extend(data['gameofthrones']['all_words_dedup'])"
   ]
  },
  {
   "cell_type": "code",
   "execution_count": 43,
   "id": "15ea01d4",
   "metadata": {},
   "outputs": [],
   "source": [
    "all_words_dedup = list(OrderedDict.fromkeys(all_words))"
   ]
  },
  {
   "cell_type": "code",
   "execution_count": 44,
   "id": "9d060beb",
   "metadata": {},
   "outputs": [],
   "source": [
    "prepared_data = [({word: (word in x[0]) for word in all_words_dedup}, x[1]) for x in labeled_data]\n",
    "prepared_holdout_data = [({word: (word in x[0]) for word in all_words_dedup}) for x in holdout_data]"
   ]
  },
  {
   "cell_type": "code",
   "execution_count": 45,
   "id": "0f4e357b",
   "metadata": {},
   "outputs": [
    {
     "name": "stdout",
     "output_type": "stream",
     "text": [
      "({u'sunspear': False, u'profici': False, u'pardon': False, u'selyes': False, u'four': False, u'davo': False, u'sleev': False, u'sleep': False, u'nwb': False, u'captain': False, u'hate': False, u'rhaegar': False, u'mahout': False, u'accus': False, u'accur': False, u'sorri': False, u'midseason': False, u'ozzi': False, u'illustr': False, u'concret': False, u'matlab': False, u'lore': False, u'lord': False, u'hedg': False, u'lora': False, u'worth': False, u'merchant': False, u'digit': False, u'everi': False, u'risk': False, u'tudor': False, u'void': False, u'rise': False, u'lurk': False, u'voic': False, u'stolen': False, u'govern': False, u'appar': False, u'rare': False, u'quantit': False, u'school': False, u'traumat': False, u'scholar': False, u'showcas': False, u'duncan': False, u'upload': False, u'correl': False, u'red': False, u'verif': False, u'cmu': False, u'obsess': False, u'garden': False, u'enjoy': False, u'bill': False, u'franc': False, u'naiv': False, u'direct': False, u'histor': False, u'nail': False, u'consequ': False, u'second': False, u'street': False, u'aggreg': False, u'semest': False, u'ill': False, u'air': False, u'panda': False, u'virgin': False, u'even': False, u'lesser': False, u'dialogu': False, u'disk': False, u'hide': False, u'ruthless': False, u'amus': False, u'introspect': False, u'near': False, u'poison': False, u'ashford': False, u'conduct': False, u'upset': False, u'new': False, u'net': False, u'payoff': False, u'ever': False, u'topolog': False, u'told': False, u'specialist': False, u'avers': False, u'centric': False, u'hero': False, u'whose': False, u'mel': False, u'never': False, u'drew': False, u'met': False, u'studio': False, u'cult': False, u'path': False, u'100': False, u'101': False, u'enrol': False, u'interpret': False, u'vagu': False, u'daughter': False, u'forum': False, u'announc': False, u'militari': False, u'k': False, u'robin': False, u'credit': False, u'mentor': False, u'riverland': False, u'zombi': False, u'studi': False, u'changer': False, u'fell': False, u'rebel': False, u'volunt': False, u'233ac': False, u'campaign': False, u'straw': False, u'advisor': False, u'treatment': False, u'julia': False, u'brought': False, u'sneer': False, u'attitud': False, u'instabl': False, u'total': False, u'unit': False, u'plot': False, u'siddig': False, u'cough': False, u'describ': False, u'would': True, u'tail': False, u'princess': False, u'tm': False, u'call': False, u'asset': False, u'recommend': False, u'strike': False, u'indiana': False, u'devast': False, u'calc': False, u'type': False, u'tell': False, u'showrunn': False, u'mar': False, u'remark': False, u'relat': False, u'littlefing': False, u'notic': False, u'hurt': False, u'warn': False, u'phone': False, u'grandfath': False, u'wolv': False, u'holi': False, u'qualm': False, u'warg': False, u'hole': False, u'hold': False, u'must': True, u'shoot': False, u'irvin': False, u'word': False, u'room': False, u'unicorn': False, u'mb': False, u'ml': False, u'setup': False, u'work': False, u'worm': False, u'mu': False, u'novel': False, u'wors': False, u'ms': False, u'roos': False, u'root': False, u'incompet': False, u'climat': False, u'give': False, u'jaqen': False, u'india': False, u'lure': False, u'indic': False, u'woman': False, u'want': False, u'basebal': False, u'edmur': False, u'david': False, u'attract': False, u'declar': False, u'motion': False, u'saturday': False, u'end': False, u'turn': False, u'polic': False, u'travel': False, u'faulti': False, u'classifi': False, u'ceremoni': False, u'fals': False, u'hot': False, u'silent': False, u'recoveri': False, u'hop': False, u'rewind': False, u'interview': False, u'disappoint': False, u'negoti': False, u'config': False, u'winterfel': False, u'confid': False, u'arryn': False, u'mess': False, u'earlier': False, u'lab': False, u'diagram': False, u'wrong': False, u'teenag': False, u'fat': False, u'beauti': False, u'nate': False, u'law': False, u'arch': False, u'parallel': False, u'demonstr': False, u'doran': False, u'barristan': False, u'profess': False, u'attempt': False, u'third': False, u'grant': False, u'credenti': False, u'think': False, u'perform': False, u'maintain': False, u'environ': False, u'grandkid': False, u'enter': False, u'exclus': False, u'mechan': False, u'first': False, u'order': False, u'wine': False, u'oper': False, u'feedback': False, u'claimant': False, u'offici': False, u'failur': False, u'london': False, u'germani': False, u'incid': False, u'affect': False, u'datawarehous': False, u'caster': False, u'flexibl': False, u'vari': False, u'oppon': False, u'gentl': False, u'greyjoy': False, u'fit': False, u'funni': False, u'mockingbird': False, u'fix': False, u'sansa': False, u'imo': False, u'better': False, u'carri': False, u'offic': False, u'fade': False, u'mistreat': False, u'comprehens': False, u'hidden': False, u'backhistori': False, u'easier': False, u'versus': False, u'visualis': False, u'anim': False, u'vaella': False, u'promin': False, u'safe': False, u'disturb': False, u'cheesi': False, u'break': False, u'band': False, u'glorifi': False, u'promis': False, u'interdisciplinari': False, u'battl': False, u'silver': False, u'bank': False, u'prize': False, u'choic': False, u'tendenc': False, u'cloudera': False, u'grammar': False, u'bitcoin': False, u'mistrust': False, u'undermin': False, u'bonk': False, u'went': False, u'oblig': False, u'side': False, u'bone': False, u'mean': False, u'healthcar': False, u'blackfyr': False, u'resum': False, u'enorm': False, u'coward': False, u'wednesday': False, u'vote': False, u'taught': False, u'forgot': False, u'whiv': False, u'despis': False, u'extract': False, u'ring': False, u'whip': False, u'fiction': False, u'shame': False, u'network': False, u'goe': False, u'seqfil': False, u'kdnugget': False, u'crucial': False, u'maegor': False, u'content': False, u'fellowship': False, u'vector': False, u'adapt': False, u'reader': False, u'got': False, u'gov': False, u'forth': False, u'sensori': False, u'bibl': False, u'arizona': False, u'linear': False, u'written': False, u'situat': False, u'sheer': False, u'free': False, u'standard': False, u'redempt': False, u'ayra': False, u'frey': False, u'rain': False, u'weka': False, u'hand': False, u'markov': False, u'christma': False, u'rory_mccann': False, u'e9': False, u'karma': False, u'argument': False, u'csvparser': False, u'kevan': False, u'filter': False, u'mvc': False, u'ideolog': False, u'isn': False, u'soda': False, u'regress': False, u'confus': False, u'bite': False, u'fantasi': False, u'rang': False, u'choke': False, u'sandsnak': False, u'grade': False, u'independ': False, u'wast': False, u'rank': False, u'necess': False, u'restrict': False, u'wash': False, u'instruct': False, u'alreadi': False, u'wrapper': False, u'nhs': False, u'wasn': False, u'comic': False, u'massiv': False, u'fantast': False, u'primari': False, u'hood': False, u'toy': False, u'acquaint': False, u'top': False, u'evolut': False, u'stack': False, u'necessarili': False, u'master': False, u'tom': False, u'john': False, u'outag': False, u'unbroken': False, u'listen': False, u'urban': False, u'hairnet': False, u'murder': False, u'incub': False, u'grandchildren': False, u'tool': False, u'coursera': False, u'took': False, u'scraper': False, u'univoc': False, u'warhamm': False, u'westero': False, u'western': False, u'somewhat': False, u'happili': False, u'technic': False, u'toronto': False, u'spoiler': False, u'silli': False, u'target': False, u'keyword': False, u'provid': False, u'outlaw': False, u'tree': False, u'biolog': False, u'hilari': False, u'project': False, u'matter': False, u'wordcloud': False, u'flame': False, u'iron': False, u'budget': False, u'minut': False, u'beginn': False, u'daeneri': False, u'entail': False, u'ran': False, u'boston': False, u'pretend': False, u'modern': False, u'mind': False, u'mine': False, u'fandom': False, u'raw': False, u'seed': False, u'manner': False, u'rap': False, u'seen': False, u'seem': False, u'seek': False, u'unorganis': False, u'strength': False, u'realm': False, u'recreat': False, u'latter': False, u'that': False, u'snow': False, u'brandon': False, u'academia': False, u'punish': False, u'rapidmin': False, u'methodolog': False, u'rabbl': False, u'slaveri': False, u'simplifi': False, u'crippl': False, u'insur': False, u'plenti': False, u'though': False, u'marit': False, u'object': False, u'flashback': False, u'regular': False, u'letter': False, u'phase': False, u'coin': False, u'bsc': False, u'tradit': False, u'bound': False, u'excus': False, u'datad': False, u'professor': False, u'camp': False, u'flow': False, u'dog': False, u'hospit': False, u'dummi': False, u'storm': False, u'tech': False, u'haha': False, u'ned': False, u'came': False, u'orlando': False, u'asid': False, u'confront': False, u'learner': False, u'random': False, u'subreddit': False, u'phds': False, u'earth': False, u'tvguid': False, u'd3': False, u'involv': False, u'despit': False, u'submit': False, u'latent': False, u'acquir': False, u'spite': False, u'explain': False, u'configur': False, u'apach': False, u'restaur': False, u'theme': False, u'busi': False, u'rich': False, u'folder': False, u'ocr': False, u'creativ': False, u'antidot': False, u'marriag': False, u'serv': False, u'dm': False, u'dj': False, u'de': False, u'watch': False, u'dc': False, u'incestu': False, u'coast': False, u'geek': False, u'watson': False, u'report': False, u'stalingrad': False, u'instructor': False, u'dr': False, u'ds': False, u'dp': False, u'earn': False, u'bar': False, u'ycombin': False, u'sacrific': False, u'excel': False, u'method': False, u'bag': False, u'bad': False, u'whitehous': False, u'gendri': False, u'gaug': False, u'kingsguard': False, u'metadata': False, u'rheon': False, u'respond': False, u'victim': False, u'fair': False, u'crunch': False, u'beaten': False, u'inept': False, u'elimin': False, u'roadmap': False, u'resist': False, u'intellectu': False, u'mandatori': False, u'result': False, u'respons': False, u'fail': False, u'joff': False, u'generalassemb': False, u'best': False, u'subject': False, u'expertis': False, u'awar': False, u'said': False, u'06': False, u'07': False, u'04': False, u'05': False, u'databas': False, u'away': False, u'sail': False, u'wikipedia': False, u'discoveri': False, u'figur': False, u'score': False, u'finger': False, u'drawn': False, u'approach': False, u'attribut': False, u'warrior': False, u'accord': False, u'men': False, u'khaleesi': False, u'extend': False, u'newb': False, u'weak': False, u'metal': False, u'boss': False, u'extens': False, u'harvard': False, u'wear': False, u'extent': False, u'wp': False, u'news': False, u'advertis': False, u'debt': False, u'protect': False, u'accident': False, u'n2valu': False, u'easi': False, u'weirwood': False, u'fault': False, u'howev': False, u'cup': False, u'codebook': False, u'cog': False, u'logic': False, u'uni': False, u'browser': False, u'com': False, u'bran': False, u'con': False, u'pre': False, u'tough': False, u'spear': False, u'16k': False, u'reemerg': False, u'soap': False, u'excess': False, u'zipfian': False, u'2nd': False, u'aftermath': False, u'diff': False, u'guid': False, u'assum': False, u'summar': False, u'hitler': False, u'speak': False, u'cardboard': False, u'sam': False, u'beef': False, u'nonsens': False, u'union': False, u'msas': False, u'numpi': False, u'three': False, u'shoulda': False, u'specul': False, u'revenu': False, u'beer': False, u'much': False, u'wyman': False, u'interest': False, u'basic': False, u'monologu': False, u'episode_discuss': False, u'game_of_thron': False, u'life': False, u'rather': False, u'deeper': False, u'spit': False, u'eastern': False, u'nobodi': False, u'dismiss': False, u'worker': False, u'stormcrow': False, u'joust': False, u'craft': False, u'direwolf': False, u'child': False, u'catch': False, u'chill': False, u'pipelin': False, u'physician': False, u'ident': False, u'youtu': False, u'easter': False, u'servic': False, u'commerci': False, u'n': False, u'aim': False, u'calcul': False, u'neat': False, u'hopkin': False, u'aid': False, u'possess': False, u'pharmaci': False, u'anymor': False, u'seven': False, u'pyramid': False, u'metropolitan': False, u'selsy': False, u'tabl': False, u'iu': False, u'cersei': False, u'ii': False, u'player': False, u'cant': False, u'im': False, u'theon': False, u'io': False, u'udac': False, u'qyburn': False, u'ie': False, u'id': False, u'sever': False, u'snoonet': False, u'hong': False, u'soldier': False, u'receiv': False, u'suggest': False, u'make': False, u'ep5': False, u'wound': False, u'rebellion': False, u'forehead': False, u'complex': False, u'quant': False, u'split': False, u'monarch': False, u'costum': False, u'complet': False, u'evid': False, u'screw': False, u'social': False, u'hang': False, u'evil': False, u'kit': False, u'rais': False, u'warden': False, u'refin': False, u'overr': False, u'tune': False, u'squar': False, u'posting_polici': False, u'qualif': False, u'kept': False, u'zestim': False, u'scenario': False, u'redeem': False, u'inherit': False, u'jami': False, u'client': False, u'greatest': False, u'mother': False, u'programm': False, u'everyth': True, u'paradigm': False, u'deplet': False, u'tldr': False, u'left': False, u'identifi': False, u'birth': False, u'yea': False, u'laptop': False, u'psych': False, u'farther': False, u'human': False, u'agot': False, u'yes': False, u'yet': False, u'languag': False, u'previous': False, u'hai': False, u'beyondcor': False, u'elo': False, u'expos': False, u'royal': False, u'weiss': False, u'fortran': False, u'spread': False, u'board': False, u'prison': False, u'els': False, u'save': False, u'gave': False, u'applic': False, u'advis': False, u'mayb': False, u'preserv': False, u'background': False, u'destroy': False, u'authorship': False, u'apart': False, u'rumor': False, u'd': False, u'shoulder': False, u'measur': False, u'daemon': False, u'gift': False, u'specif': False, u'filenam': False, u'animos': False, u'arbitrari': False, u'negat': False, u'50': False, u'stroke': False, u'steph': False, u'remind': False, u'armi': False, u'night': False, u'rstudio': False, u'unnecessari': False, u'538': False, u'benjen': False, u'www': False, u'right': False, u'old': False, u'deal': False, u'manual': False, u'interv': False, u'mysteri': False, u'crown': False, u'somehow': False, u'dead': False, u'born': False, u'intern': False, u'dear': False, u'prick': False, u'bore': False, u'guess': False, u'cns': False, u'seaborn': False, u'esso': False, u'preliminari': False, u'ice': False, u'foe': False, u'ucsb': False, u'ucsd': False, u'overcom': False, u'cnn': False, u'condit': False, u'drink': False, u'core': False, u'nospoil': False, u'ww2': False, u'statistician': False, u'burn': False, u'buri': False, u'confer': False, u'colleg': False, u'promot': False, u'repositori': False, u'eye': False, u'post': False, u'super': False, u'gartner': False, u'spoke': False, u'chapter': False, u'brien': False, u'acok': False, u'sebastian': False, u'alexand': False, u'literatur': False, u'o': False, u'simul': False, u'dinner': False, u'visa': False, u'plus': False, u'horizon': False, u'commit': False, u'sept': False, u'produc': False, u'match': False, u'bath': False, u'duke': False, u'dilemma': False, u'wield': False, u'decapit': False, u'profession': False, u'mba': False, u'curios': False, u'stop': False, u'entrepreneur': False, u'openrefin': False, u'ghar': False, u'wrap': False, u'opportun': False, u'insult': False, u'storag': False, u'east': False, u'crowd': False, u'suffici': False, u'psychot': False, u'bioinformat': False, u'support': False, u'transform': False, u'happi': False, u'avail': False, u'stuck': False, u'reli': False, u'fought': False, u'wordpress': False, u'way': False, u'acknowledg': False, u'tamr': False, u'overhead': False, u'war': False, u'calm': False, u'analysi': False, u'martel': False, u'head': False, u'medium': False, u'amateur': False, u'form': False, u'offer': False, u'forc': False, u'heal': False, u'shireen': False, u'forg': False, u'cogman': False, u'heat': False, u'hear': False, u'obsidian': False, u'choreograph': False, u'true': False, u'analyst': False, u'powder': False, u'duel': False, u'preview': False, u'revel': False, u'iqr': False, u'absenc': False, u'fundament': False, u'stats216': False, u'unrel': False, u'betha': False, u'classif': False, u'featur': False, u'forearm': False, u'request': False, u'abstract': False, u'mirror': False, u'flaw': False, u'textbook': False, u'sale': False, u'stanford': False, u'exist': False, u'glanc': False, u'heritag': False, u'desir': False, u'ship': False, u'proteom': False, u'check': False, u'shit': False, u'sticki': False, u'assembl': False, u'blackwat': False, u'dragonston': False, u'floor': False, u'tit': False, u'mashup': False, u'stake': False, u'tip': False, u'actor': False, u'ng': False, u'ny': False, u'role': False, u'communic': False, u'oscar': False, u'test': False, u'tie': False, u'presum': False, u'smell': False, u'hundr': False, u'realiti': False, u'node': False, u'legitim': False, u'intend': False, u'benefici': False, u'devot': False, u'felt': False, u'intens': False, u'intent': False, u'reign': False, u'consid': True, u'sql': False, u'weekend': False, u'troop': False, u'billion': False, u'younger': False, u'faster': False, u'furthermor': False, u'bottom': False, u'em': False, u'withhold': False, u'loyal': False, u'ignor': False, u'datafram': False, u'time': False, u'push': False, u'serious': False, u'backward': False, u'daili': False, u'breadth': False, u'concept': False, u'chain': False, u'whoever': False, u'skip': False, u'rob': False, u'consum': False, u'chaid': False, u'focus': False, u'neurosci': False, u'signific': False, u'supplement': False, u'skin': False, u'chair': False, u'album': False, u'rot': False, u'midst': False, u'row': False, u'hierarch': False, u'decid': False, u'middl': False, u'depend': False, u'religion': False, u'graph': False, u'show': False, u'intermedi': False, u'environment': False, u'0': False, u'watchmen': False, u'decis': False, u'terror': False, u'sociolog': False, u'persecut': False, u'aspx': False, u'payn': False, u'town': False, u'sourc': False, u'string': False, u'machinelearn': False, u'clich': False, u'octob': False, u'join': False, u'exact': False, u'bodyguard': False, u'cool': False, u'hour': False, u'level': False, u'tear': False, u'die': False, u'dig': False, u'brother': False, u'iter': False, u'p': False, u'brothel': False, u'team': False, u'quick': False, u'stir': False, u'guy': False, u'dip': False, u'round': False, u'shave': False, u'upper': False, u'heinz': False, u'hell': False, u'regret': False, u'porn': False, u'trend': False, u'bravo': False, u'compens': False, u'sign': False, u'hobbyist': False, u'dornishman': False, u'cost': False, u'ipynb': False, u'utter': False, u'run': False, u'allis': False, u'actuari': False, u'fear': False, u'endeca': False, u'rapist': False, u'appear': False, u'filler': False, u'repli': False, u'havoc': False, u'current': False, u'alexnegrea': False, u'ssis': False, u'suspect': False, u'drunkard': False, u'appeal': False, u'boost': False, u'pose': False, u'defici': False, u'deriv': False, u'guardian': False, u'v': False, u'coeffici': False, u'water': False, u'entertain': False, u'witch': False, u'address': False, u'along': False, u'teacher': False, u'wait': False, u'box': False, u'boy': False, u'hbo': False, u'insan': False, u'invit': False, u'brilliant': False, u'shift': False, u'rethink': False, u'roslin': False, u'proud': False, u'trial': False, u'behav': False, u'healthi': False, u'extrem': False, u'weird': False, u'guilti': False, u'reclaim': False, u'king': False, u'ugh': False, u'explod': False, u'semant': False, u'love': False, u'santa': False, u'extra': False, u'modul': False, u'prefer': False, u'shark': False, u'cloak': False, u'till': False, u'leav': False, u'seattl': False, u'1st': False, u'instal': False, u'shortsword': False, u'mobil': False, u'market': False, u'bloodi': False, u'henri': False, u'newslett': False, u'wealth': False, u'memori': False, u'sake': False, u'univers': False, u'visit': False, u'oreilli': False, u'perl': False, u'everybodi': False, u'msn': False, u'live': False, u'os': False, u'https': False, u'scope': False, u'angri': False, u'msc': False, u'prep': False, u'today': False, u'capit': False, u'baratheon': False, u'afford': False, u'peopl': True, u'propheci': False, u'curriculum': False, u'clue': False, u'visual': False, u'appendix': False, u'prototyp': False, u'savior': False, u'effort': False, u'easiest': False, u'behalf': False, u'religi': False, u'graphic': False, u'ibm': False, u'car': False, u'prepar': False, u'cap': False, u'judg': False, u'uniqu': False, u'sellsword': False, u'cat': False, u'fli': False, u'marageri': False, u'whatev': False, u'cal': False, u'purpos': False, u'trant': False, u'privi': False, u'problemat': False, u'claim': False, u'underestim': False, u'favourit': False, u'stream': False, u'predict': False, u'smallfolk': False, u'dreadfort': False, u'fuck': False, u'agent': False, u'sr_1_1': False, u'topic': False, u'heard': False, u'critic': False, u'surround': False, u'council': False, u'sharp': False, u'agenc': False, u'unfortun': False, u'occur': False, u'telltal': False, u'pink': False, u'differenti': False, u'multipl': False, u'winter': False, u's3': False, u's2': False, u's1': False, u'sudden': False, u's6': False, u's5': False, u'nyu': False, u'write': False, u'alway': False, u'sunday': False, u'funniest': False, u'anyon': False, u'pure': False, u'swore': False, u'alchemist': False, u'nyc': False, u'condemn': False, u'sworn': False, u'map': False, u'product': False, u'145': False, u'sna': False, u'may': False, u'dive': False, u'fed': False, u'spot': False, u'usabl': False, u'mac': False, u'4th': False, u'mad': False, u'emilia': False, u'date': False, u'whitewal': False, u'suck': False, u'nobl': False, u'data': False, u'grow': False, u'repeat': False, u'man': False, u'practic': False, u'grandson': False, u'sr': False, u'divid': False, u'explicit': False, u'st': False, u'tale': False, u'inform': False, u'switch': False, u'tailor': False, u'combin': False, u'jaim': False, u'april': False, u'tall': False, u'tyrel': False, u'sf': False, u'talk': False, u'cute': False, u'lsa': False, u'horrifi': False, u'hardhom': False, u'midnight': False, u'lsh': False, u'spreadsheet': False, u'graduat': False, u'nbsp': False, u'shake': False, u'dumb': False, u'cold': False, u'still': False, u'pointer': False, u'dynam': False, u'reinforc': False, u'group': False, u'thank': False, u'polici': False, u'platform': False, u'window': False, u'aerion': False, u'maim': False, u'mail': False, u'main': False, u'datasciencemast': False, u'non': False, u'within': False, u'recal': False, u'nod': False, u'financi': False, u'shatter': False, u'sooner': False, u'nation': False, u'answer': False, u'e8': False, u'conquer': False, u'half': False, u'recap': False, u'son': False, u'discuss': False, u'introduct': False, u'wont': False, u'term': False, u'mapreduc': False, u'name': False, u'realist': False, u'opera': False, u'perspect': False, u'frank': False, u'didn': False, u'focuss': False, u'separ': False, u'magazin': False, u'peasant': False, u'nutter': False, u'rock': False, u'januari': False, u'quarter': False, u'courag': False, u'compil': False, u'domain': False, u'en': False, u'agil': False, u'ee': False, u'replac': False, u'individu': False, u'receipt': False, u'continu': False, u'ex': False, u'begun': False, u'year': False, u'eu': False, u'okay': False, u'happen': False, u'eq': False, u'lesson': False, u'hacker': False, u'shown': False, u'accomplish': False, u'100k': False, u'rastafarian': False, u'3rd': False, u'space': False, u'profit': False, u'faculti': False, u'pamphlet': False, u'profil': False, u'stupid': False, u'internet': False, u'uncl': False, u'formula': False, u'sensor': False, u'correct': False, u'romanc': False, u'uber': False, u'monster': False, u'glimps': False, u'migrat': False, u'million': False, u'argu': False, u'california': False, u'theori': False, u'romant': False, u'e5': False, u'org': False, u'e7': False, u'e6': False, u'e1': False, u'card': False, u'care': False, u'soundtrack': False, u'benioff': False, u'couldn': False, u'frequenc': False, u'spoiler_guid': False, u'imprison': False, u'refus': False, u'honest': False, u'recov': False, u'thing': False, u'place': False, u'husband': False, u'nonprofit': False, u'principl': False, u'imposs': False, u'frequent': False, u'1000': False, u'origin': False, u'clegan': False, u'breakspear': False, u'viewer_numb': False, u'spoken': False, u'cliffhang': False, u'one': False, u'suspens': False, u'long': False, u'gasp': False, u'oppos': False, u'array': False, u'fight': False, u'open': False, u'tomorrow': False, u'lightbring': False, u'size': False, u'given': False, u'sheet': False, u'capac': False, u'convent': False, u'gif': False, u'caught': False, u'slept': False, u'jano': False, u'citi': False, u'cumul': False, u'draft': False, u'averag': False, u'circl': False, u'desmond': False, u'white': False, u'conveni': False, u'cite': False, u'friend': True, u'dragonglass': False, u'showdown': False, u'fraction': False, u'hater': False, u'especi': False, u'season': False, u'memo': False, u'copi': False, u'silicon': False, u'specifi': False, u'qual': False, u'github': False, u'logist': False, u'axe': False, u'domin': False, u'png': False, u'boyfriend': False, u'11': False, u'wide': False, u'13': False, u'12': False, u'15': False, u'14': False, u'16': False, u'19': False, u'crack': False, u'recruit': False, u'balanc': False, u'posit': False, u'oath': False, u'e2': False, u'seri': False, u'prospect': False, u'mountain': False, u'oldid': False, u'san': False, u'angel': False, u'clarif': False, u'pro': False, u'premier': False, u'anywher': False, u'alley': False, u'sad': False, u'alleg': False, u'say': False, u'style': False, u'paranoia': False, u'deliv': False, u'sas': False, u'allen': False, u'sap': False, u'saw': False, u'grnh': False, u'postdoc': False, u'engin': False, u'techniqu': False, u'advic': False, u'wink': False, u'olenna': False, u'veteran': False, u'ep7': False, u'note': False, u'ideal': False, u'dispar': False, u'lion': False, u'take': False, u'exploratori': False, u'poster': False, u'interior': False, u'green': False, u'wonder': False, u'noth': False, u'channel': False, u'therefor': False, u'begin': False, u'sure': False, u'pain': False, u'normal': False, u'track': False, u'price': False, u'knew': False, u'paid': False, u'beta': False, u'abus': False, u'attack': False, u'freshman': False, u'knee': False, u'perceiv': False, u'rescu': False, u'egg': False, u'adopt': False, u'drive': False, u'quantiti': False, u'youtub': False, u'meanwhil': False, u'brightflam': False, u'tweet': False, u'slaver': False, u'voodoo': False, u'senior': False, u'sigma': False, u'shop': False, u'nlp': False, u'shot': False, u'cornel': False, u'german': False, u'feminist': False, u'whatsoev': False, u'russian': False, u'shoe': False, u'permiss': False, u'hack': False, u'aeni': False, u'forecast': False, u'azor': False, u'fifth': False, u'ground': False, u'xml': False, u'slow': False, u'fenc': False, u'transact': False, u'dick': False, u'activ': False, u'behind': False, u'crime': False, u'parametr': False, u'wood': False, u'black': False, u'analyz': False, u'robe': False, u'analyt': False, u'analys': False, u'robb': False, u'carolina': False, u'over': False, u'euron': False, u'get': False, u'mung': False, u'soon': False, u'blackfish': False, u'cannot': False, u'cheat': False, u'progress': False, u'sexposit': False, u'geo': False, u'requir': False, u'truli': False, u'reveal': False, u'girl': False, u'hostil': False, u'median': False, u'dramat': False, u'yield': False, u'paper': False, u'vision': False, u'summari': False, u'wiki': False, u'espn': False, u's5e06': False, u's5e07': False, u'assumpt': False, u'seat': False, u'sandor': False, u'sean': False, u'taxonomi': False, u'faceless': False, u'sport': False, u'concern': False, u'dagger': False, u'detect': False, u'televis': False, u'innov': False, u'review': False, u'pencil': False, u'sponsorship': False, u'enough': False, u'import': False, u'across': False, u'scream': False, u'spars': False, u'august': False, u'parent': False, u'comp': False, u'screen': False, u'parentag': False, u'coursecategorycertificateprofil': False, u'sadden': False, u'js': False, u'blame': False, u'spare': False, u'essosi': False, u'shortag': False, u'spark': False, u'come': False, u'reaction': False, u'stun': False, u'pertain': False, u'balon': False, u'priestess': False, u'contract': False, u'audienc': False, u'tutori': False, u'mani': False, u'shiver': False, u'among': False, u'drogo': False, u'spoil': False, u'cancer': False, u'pov': False, u'overview': False, u'inspir': False, u'period': False, u'pop': False, u'walder': False, u'60': False, u'twin': False, u'63': False, u'boar': False, u'typic': False, u'pod': False, u'overlook': False, u'boat': False, u'damag': False, u'ultim': False, u'seiz': False, u'grand': False, u'coupl': False, u'stretch': False, u'west': False, u'breath': False, u'greyscal': False, u'illog': False, u'marr': False, u'wrangl': False, u'superconnector': False, u'500': False, u'thousand': False, u'prereq': False, u'andrew': False, u'wake': False, u'muscular': False, u'hashtag': False, u'bayesian': False, u'lectur': False, u'former': False, u'sound': False, u'soccer': False, u'thesi': False, u'50k': False, u'senat': False, u'trick': False, u'admin': False, u'cure': False, u'outcom': False, u'sophi': False, u'cock': False, u'ein': False, u'ive': False, u'erad': False, u'advantag': True, u'metric': False, u'henc': False, u'convinc': False, u'worri': False, u'destin': False, u'cluster': False, u'bias': False, u'warehous': False, u'drug': False, u'nuditi': False, u'outrag': False, u'pursu': False, u'everyday': False, u'helmet': False, u'develop': False, u'harsh': False, u'author': False, u'pay': False, u'islr': False, u'medic': False, u'ugrad': False, u'econom': False, u'html': False, u'speech': False, u'dorn': False, u'sentenc': False, u'eventu': False, u'homophobia': False, u'week': False, u'finish': False, u'closest': False, u'utf8': False, u'assist': False, u'someon': False, u'preced': False, u'driven': False, u'capabl': False, u'disguis': False, u'improv': False, u'extern': False, u'handsom': False, u'appropri': False, u'moder': False, u'unsulli': False, u'coursework': False, u'justifi': False, u'without': False, u'crypt': False, u'model': False, u'bodi': False, u'dimension': False, u'sinner': False, u'summer': False, u'violenc': False, u'execut': False, u'money': False, u'armour': False, u'rest': False, u'violent': False, u'choreographi': False, u'kill': False, u'invalid': False, u'aspect': False, u'lyanna': False, u'touch': False, u'polish': False, u'rewatch': False, u'speed': False, u'halfway': False, u'sonoma': False, u'death': False, u'europ': False, u'hint': False, u'rose': False, u'regent': False, u'except': False, u'littl': False, u'blog': False, u'tvbythenumb': False, u'blob': False, u'versa': False, u'bond': False, u'vulner': False, u'regenc': False, u'real': False, u'around': False, u'hypothesi': False, u'bryan': False, u'read': False, u'ruler': False, u'ladi': False, u'gonna': False, u'dark': False, u'np': False, u'grid': False, u'mon': False, u'mom': False, u'loos': False, u'amp': False, u'dare': False, u'victori': False, u'stranger': False, u'melisandr': False, u'pregnant': False, u'slain': False, u'server': False, u'chamber': False, u'benefit': False, u'redwyn': False, u'either': False, u'uchicago': False, u'output': False, u'tower': False, u'nw': False, u'manag': False, u'fulfil': False, u'cabl': False, u'lena': False, u'l': False, u'butt': False, u'rage': False, u'musician': False, u'intact': False, u'fanat': False, u'pregnanc': False, u'mooc': False, u'venn': False, u'micro': False, u'definit': False, u'legal': False, u'throat': False, u'evolv': False, u'exit': False, u'moot': False, u'heir': False, u'unbeliev': False, u'complic': False, u'knife': False, u'refer': False, u'shadow': False, u'power': False, u'asap': False, u'internship': False, u'ration': False, u'sibl': False, u'slaughter': False, u'tuition': False, u'broken': False, u'marg': False, u'fulli': False, u'standpoint': False, u'throw': False, u'comparison': False, u'stone': False, u'ol': False, u'central': False, u'victarion': False, u'oh': False, u'wikia': False, u'island': False, u'oc': False, u'drag': False, u'spss': False, u'cring': False, u'degre': False, u'journey': False, u'wolf': False, u'stand': False, u'neighbor': False, u'act': False, u'industri': False, u'luck': False, u'backup': False, u'allianc': False, u'road': False, u'routin': False, u'outlook': False, u'effici': False, u'prohibit': False, u'coupon': False, u'harm': False, u'surviv': False, u'nowher': False, u'tormund': False, u'cent': False, u'strip': False, u'lannist': False, u'wildl': False, u'stare': False, u'log': False, u'area': False, u'aren': False, u'areo': False, u'there': False, u'hey': False, u'haskel': False, u'start': False, u'fascin': False, u'starv': False, u'low': False, u'lot': False, u'worst': False, u'submiss': False, u'resolut': False, u'valley': False, u'lang': False, u'timelin': False, u'e10': False, u'tone': False, u'regard': False, u'femal': False, u'amongst': False, u'svm': False, u'satur': False, u'fighter': False, u'podcast': False, u'categor': False, u'conclus': False, u'longer': False, u'pull': False, u'hire': False, u'dirti': False, u'possibl': False, u'default': False, u'miguel': False, u'giantsban': False, u'grasp': False, u'embed': False, u'stochast': False, u'puls': False, u'connect': False, u'gone': False, u'ae': False, u'ad': False, u'creat': False, u'ai': False, u'certain': False, u'deep': False, u'fellow': False, u'intro': False, u'file': False, u'generat': False, u'shut': False, u'univari': False, u'bishop': False, u'film': False, u'fill': False, u'incorrect': False, u'googl': False, u'discrimin': False, u'compel': False, u'event': False, u'field': True, u'binomi': False, u'valid': False, u'compet': False, u'copyright': False, u'piraci': False, u'hireabl': False, u'trash': False, u'architectur': False, u'poor': False, u'codecademi': False, u'inevit': False, u'genuin': False, u'oleanna': False, u'sequenc': False, u'symbol': False, u'ggplot': False, u'multidimension': False, u'polynomi': False, u'peak': False, u'unbent': False, u'rpy2': False, u'dropbox': False, u'peac': False, u'ramsay': False, u'reduc': False, u'taena': False, u'downfal': False, u'wife': False, u'invest': False, u'thorn': False, u'descript': False, u'tricki': False, u'gradient': False, u'u': False, u'potenti': False, u'god': False, u'alright': False, u'escap': False, u'bolton': False, u'represent': False, u'sci': False, u'consider': False, u'messi': False, u'lack': False, u'month': False, u'feroci': False, u'code': False, u'abil': False, u'follow': False, u'mnc': False, u'children': False, u'hmmm': False, u'metricscrowd': False, u're': False, u'tv': False, u'ninja': False, u'articl': False, u'tl': False, u'program': True, u'humili': False, u'th': False, u'scratch': False, u'sustain': False, u'backstori': False, u'cgi': False, u'introduc': False, u'ra': False, u'case': False, u'liter': False, u'premium': False, u'song': False, u'far': False, u'osu': False, u'horror': False, u'faq': False, u'offlin': False, u'eldest': False, u'util': False, u'candid': False, u'fan': False, u'verg': False, u'fall': False, u'strang': False, u'fourth': False, u'harrenhal': False, u'wsj': False, u'list': False, u'mild': False, u'sand': False, u'adjust': False, u'aeri': False, u'condon': False, u'small': False, u'myrcella': False, u'dimens': False, u'enterpris': False, u'ten': False, u'freakin': False, u'past': False, u'sophomor': False, u'rate': False, u'pressur': False, u'design': False, u'unprepar': False, u'lawyer': False, u'pass': False, u'nba': False, u'psycho': False, u'excit': False, u'what': False, u'nonlinear': False, u'sub': False, u'nano': False, u'cast': False, u'section': False, u'abl': False, u'brief': False, u'18': False, u'crush': False, u'delet': False, u'version': False, u'utm_medium': False, u'intersect': False, u'garth': False, u'deepli': False, u'kindom': False, u'public': False, u'contrast': False, u'movement': False, u'hasn': False, u'full': False, u'obara': False, u'variat': False, u'empower': False, u'vale': False, u'suspici': False, u'behaviour': False, u'shouldn': False, u'stipend': False, u'berkeley': False, u'meryn': False, u'realestatetechnolog': False, u'strong': False, u'backlash': False, u'valu': False, u'lineag': False, u'search': False, u'slynt': False, u'ahead': False, u'geophys': False, u'novella': False, u'audiobook': False, u'brutal': False, u'prior': False, u'amount': False, u'pick': False, u'action': False, u'introductori': False, u'narrow': False, u'medicin': False, u'via': False, u'depart': False, u'curat': False, u'father': False, u'transit': False, u'anytim': False, u'sadist': False, u'batshit': False, u'put': False, u'snuf': False, u'baelish': False, u'inappropri': False, u'famili': False, u'demis': False, u'viz': False, u'gratuit': False, u'actress': False, u'establish': False, u'select': False, u'engag': False, u'silva': False, u'khan': False, u'proceed': False, u'khal': False, u'distinct': False, u'liber': False, u'regist': False, u'two': False, u'anger': False, u'formul': False, u'heroic': False, u'taken': False, u'weren': False, u'minor': False, u'blaze': False, u'flat': False, u'israel': False, u'mellon': False, u'door': False, u'ellaria': False, u'prefac': False, u'freelanc': False, u'flay': False, u'gentleman': False, u'stick': False, u'broke': False, u'particular': False, u'known': False, u'compani': False, u'doom': False, u'glad': False, u'church': False, u'dictat': False, u'none': False, u'illyrio': False, u'valuabl': False, u'hous': False, u'dev': False, u'histori': False, u'remain': False, u'vs': False, u'learn': False, u'abandon': False, u'lowborn': False, u'male': False, u'stumbl': False, u'dethron': False, u'datasciencecentr': False, u'substanti': False, u'maisi': False, u'scan': False, u'templar': False, u'challeng': False, u'armor': False, u'share': False, u'accept': False, u'intercours': False, u'minimum': False, u'unreli': False, u'explor': False, u'partner': False, u'nippl': False, u'phrase': False, u'scar': False, u'dress': False, u'udemi': False, u'huge': False, u'margeari': False, u'cours': False, u'court': False, u'goal': False, u'awkward': False, u'secur': False, u'cse': False, u'anoth': False, u'comfort': False, u'fruition': False, u'perhap': False, u'divis': False, u'ish': False, u'tyen': False, u'reject': False, u'csv': False, u'simpl': False, u'goat': False, u'css': False, u'unabl': False, u'tinfoil': False, u'plant': False, u'resourc': False, u'threat': False, u'referenc': False, u'algebra': False, u'variant': False, u'reflect': False, u'catalog': False, u'blood': False, u'seduc': False, u'undergradu': False, u'varianc': False, u'associ': False, u'stabil': False, u'circumst': False, u'short': False, u'corps': False, u'onto': False, u'overnight': False, u'ambigu': False, u'caus': False, u'media': False, u'influenti': False, u'volum': False, u'azur': False, u'dream': False, u'patil': False, u'multivari': False, u'infant': False, u'help': False, u'pant': False, u'eddard': False, u'maidenhead': False, u'major': False, u'trade': False, u'held': False, u'isnt': False, u'scientist': False, u'uva': False, u'suffer': False, u'aemon': False, u'paramet': False, u'24': False, u'25': False, u'26': False, u'27': False, u'20': False, u'21': False, u'22': False, u'mummer': False, u'brows': False, u'border': False, u'28': False, u'29': False, u'alli': False, u'adolesc': False, u'late': False, u'wrt': False, u'pend': False, u'infograph': False, u'penn': False, u'bout': False, u'pca': False, u'might': False, u'fool': False, u'wouldn': False, u'good': False, u'return': False, u'food': False, u'timestamp': False, u'largest': False, u'inquisit': False, u'framework': False, u'somebodi': False, u'farewel': False, u'foot': False, u'aka': False, u'yr': False, u'complain': False, u'bigger': False, u'intricaci': False, u'haegon': False, u'document': False, u'gilli': False, u'mathematician': False, u'sloppi': False, u'unlik': False, u'refresh': False, u'courser': False, u'easili': False, u'achiev': False, u'cri': False, u'genom': False, u'found': True, u'stoneheart': False, u'trailer': False, u'griff': False, u'status': False, u'w3': False, u'shock': False, u'england': False, u'mental': False, u'weight': False, u'hard': False, u'idea': False, u'procedur': False, u'realli': False, u'heavi': False, u'trystan': False, u'expect': False, u'fist': False, u'quantum': False, u'columbia': False, u'energi': False, u'beyond': False, u'orient': False, u'renaiss': False, u'agre': False, u'safeti': False, u'admiss': False, u'item': False, u'robert': False, u'publish': False, u'research': False, u'health': False, u'print': False, u'aegon': False, u'testifi': False, u'fled': False, u'kaggl': False, u'ass': False, u'difficulti': False, u'qualifi': False, u'postgr': False, u'belief': False, u'asu': False, u'advanc': False, u'friday': False, u'pageview': False, u'reason': False, u'base': True, u'feyd': False, u'believ': False, u'dire': False, u'ask': False, u'teach': False, u'companion': False, u'aso': False, u'havent': False, u'bash': False, u'basi': False, u'thrown': False, u'director': False, u'nomin': False, u'thread': False, u'launch': False, u'omit': False, u'cerci': False, u'struggl': False, u'american': False, u'w': False, u'syrio': False, u'corkscrew': False, u'undergo': False, u'assign': False, u'feed': False, u'sympathi': False, u'mism': False, u'fanbas': False, u'dont': False, u'feel': False, u'exchang': False, u'number': False, u'sometim': False, u'feet': False, u'jeyn': False, u'river': False, u'done': False, u'uninterest': False, u'blank': False, u'horribl': False, u'downsid': False, u'miss': False, u'tart': False, u'differ': False, u'restor': False, u'guest': False, u'script': False, u'interact': False, u'csvparserset': False, u'contact': False, u'gpa': False, u'least': False, u'minion': False, u'stori': False, u'zealot': False, u'smile': False, u'statement': False, u'crow': False, u'ton': False, u'scheme': False, u'store': False, u'gps': False, u'mini': False, u'watcher': False, u'option': False, u'relationship': False, u'pump': False, u'cirsei': False, u'alfi': False, u'sweet': False, u'asshol': False, u'employ': False, u'part': True, u'pars': False, u'consult': False, u'scatterplot': False, u'adword': False, u'grace': False, u'obama': False, u'albeit': False, u'kind': False, u'b': False, u'whenev': False, u'remot': False, u'gotten': False, u'remov': False, u'grey': False, u'riski': False, u'jqueri': False, u'bride': False, u'hodor': False, u'maekar': False, u'dani': False, u'arrang': False, u'toward': False, u'danc': False, u'catelyn': False, u'comput': True, u'comrad': False, u'defect': False, u'packag': False, u'glen': False, u'requisit': False, u'parodi': False, u'sell': False, u'imagin': False, u'built': False, u'equival': False, u'blanco': False, u'lil': False, u'carlo': False, u'self': False, u'violat': False, u'judici': False, u'behead': False, u'percentil': False, u'also': False, u'exposit': False, u'build': True, u'scpd': False, u'play': False, u'distribut': False, u'unsur': False, u'choos': False, u'reach': False, u'chart': False, u'compl': False, u'highgarden': False, u'react': False, u'most': False, u'mace': False, u'plan': False, u'prestigi': False, u'unpopular': False, u'charg': False, u'amaz': False, u'webinar': False, u'southampton': False, u'dornish': False, u'reward': False, u'clear': False, u'conspir': False, u'cover': False, u'destruct': False, u'kl': False, u'salari': False, u'garlan': False, u'abnorm': False, u'clean': False, u'latest': False, u'microsoft': False, u'awesom': False, u'sector': False, u'commerc': False, u'ridicul': False, u'gold': False, u'sparrow': False, u'cdm': False, u'lay': False, u'session': False, u'hairi': False, u'reput': False, u'fine': False, u'find': False, u'impact': False, u'cell': False, u'ambit': False, u'coerc': False, u'nosql': False, u'pretti': False, u'music': False, u'nervous': False, u'ruin': False, u'writer': False, u'solut': False, u'blue': False, u'economist': False, u'indian': False, u'kidnap': False, u'gameofthron': False, u'factor': False, u'bullet': False, u'unhappi': False, u'boulder': False, u'workforc': False, u'hit': False, u'exposur': False, u'financ': False, u'cheaper': False, u'spi': False, u'hid': False, u'fastest': False, u'basement': False, u'baffl': False, u'damnit': False, u'banner': False, u'molten': False, u'uncomfort': False, u'adulthood': False, u'tunnel': False, u'arxiv': False, u'dothraki': False, u'proclaim': False, u'enemi': False, u'common': False, u'hype': False, u'x': False, u'arya': False, u'creator': False, u'tourney': False, u'wrote': False, u'bannerman': False, u'certif': False, u'set': False, u'art': False, u'ser': False, u'dump': False, u'healthit': False, u'overwhelm': False, u'startup': False, u'sex': False, u'see': False, u'arc': False, u'bare': False, u'sea': False, u'reserv': False, u'11th': False, u'arm': False, u'dwarf': False, u'cosplay': False, u'expert': False, u'merci': False, u'tobi': False, u'someth': False, u'grandmoth': False, u'particip': False, u'debat': False, u'won': False, u'various': False, u'honour': False, u'guilt': False, u'viewership': False, u'experi': False, u'nope': False, u'compliment': False, u'piss': False, u'altern': False, u'concentr': False, u'appreci': False, u'northern': False, u'numer': False, u'genet': False, u'sold': False, u'javascript': False, u'aspir': False, u'sigil': False, u'bcomm': False, u'succeed': False, u'infam': False, u'solv': False, u'errat': False, u'purpl': False, u'viscer': False, u'popul': False, u'oppress': False, u'satisfi': False, u'c': False, u'last': False, u'immers': False, u'alon': False, u'natali': False, u'dabbl': False, u'foreign': False, u'alot': True, u'forgotten': False, u'pdf': False, u'protector': False, u'whole': False, u'harpi': False, u'load': False, u'childhood': False, u'simpli': False, u'point': False, u'schedul': False, u'consumm': False, u'deviat': False, u'header': False, u'provok': False, u'suppli': False, u'mistak': False, u'headey': False, u'throughout': False, u'coincid': False, u'pycon': False, u'belt': False, u'bolster': False, u'ps': False, u'xpost': False, u'java': False, u'baelor': False, u'territori': False, u'belwa': False, u'due': False, u'secret': False, u'damn': False, u'ozymandia': False, u'threaten': False, u'ph': False, u'cscareerquest': False, u'mereen': False, u'pm': False, u'firm': False, u'adventur': False, u'ram': False, u'exercis': False, u'gay': False, u'fire': False, u'imag': False, u'wet': False, u'305628': False, u'convert': False, u'gap': False, u'fund': False, u'leviticus': False, u'understand': False, u'braavo': False, u'eli5': False, u'demand': False, u'talent': False, u'educ': False, u'cruelti': False, u'milit': False, u'georgia': False, u'look': False, u'solid': False, u'straight': False, u'canadian': False, u'convo': False, u'batch': False, u'durat': False, u'ramif': False, u'pace': False, u'unifi': False, u'smart': False, u'behavior': False, u'error': False, u'fun': False, u'fleet': False, u'anonym': False, u'raven': False, u'everyon': False, u'earli': False, u'larger': False, u'readi': False, u'37': False, u'jpg': False, u'assault': False, u'captiv': False, u'nahari': False, u'dedic': False, u'downvot': False, u'decor': False, u'irrelev': False, u'minim': False, u'allspoil': False, u'shorten': False, u'hadoop': False, u'ama': False, u'shag': False, u'shae': False, u'1533': False, u'datascientist': False, u'conflict': False, u'higher': False, u'castrat': False, u'lie': False, u'optim': False, u'wherea': False, u'yesterday': False, u'heraldri': False, u'moment': False, u'000': False, u'user': False, u'robust': False, u'wherev': False, u'specialis': False, u'chang': False, u'recent': False, u'mute': False, u'travers': False, u'task': False, u'older': False, u'entri': False, u'chemistri': False, u'spent': False, u'westerosi': False, u'person': False, u'cheer': False, u'expens': False, u'elev': False, u'tvshow': False, u'y': False, u'traffic': False, u'academ': False, u'tast': False, u'spend': False, u'propos': False, u'explan': False, u'cave': False, u'storylin': False, u'collabor': False, u'shape': False, u'mysql': False, u'regardless': False, u'thedataincub': False, u'sidebar': False, u'cut': False, u'backfir': False, u'ma': False, u'skillset': False, u'eeri': False, u'downhil': False, u'danger': False, u'theoret': False, u'informat': False, u'eager': False, u'homeland': False, u'win': False, u'input': False, u'jerom': False, u'mod': False, u'csvwriter': False, u'approxim': False, u'useless': False, u'bin': False, u'complaint': False, u'australia': False, u'march': False, u'daenari': False, u'format': False, u'big': False, u'hatch': False, u'foreshadow': False, u'intuit': False, u'game': False, u'bit': False, u'paint': False, u'formal': False, u'bloodraven': False, u'knock': False, u'outright': False, u'examin': False, u'success': False, u'e07': False, u'signal': False, u'resolv': False, u'rider': False, u'heart': False, u'collect': False, u'princip': False, u'wit': False, u'popular': False, u'loyalist': False, u'joramun': False, u'encount': False, u'often': False, u'epidemiolog': False, u'spring': False, u'petyr': False, u'creation': False, u'back': False, u'fivethirtyeight': False, u'blow': False, u'b5': False, u'strongest': False, u'sampl': False, u'sight': False, u'greener': False, u'curious': False, u'surpris': False, u'affili': False, u'scale': False, u'scala': False, u'pet': False, u'shall': False, u'pros': False, u'per': False, u'prop': False, u'rhaegal': False, u'recognit': False, u'substitut': False, u'mathemat': False, u'larg': False, u'epic': False, u'drogon': False, u'nose': False, u'machin': False, u'ebook': False, u'ufl': False, u'ba': False, u'squirrel': False, u'bc': False, u'300': False, u'informatica': False, u'bo': False, u'bi': False, u'snake': False, u'stem': False, u'sacrif': False, u'step': False, u'patienc': False, u'joffrey': False, u'viseri': False, u'prerequisit': False, u'bs': False, u'ward': False, u'rut': False, u'selys': False, u'faith': False, u'zip': False, u'whitewalk': False, u'materi': False, u'prove': False, u'shini': False, u'drama': False, u'revolut': False, u'slave': False, u'idk': False, u'wanna': False, u'block': False, u'eyri': False, u'margaeri': False, u'waltz': False, u'emphasi': False, u'colorado': False, u'primarili': False, u'farc': False, u'dude': False, u'conquest': False, u'70': False, u'targaryen': False, u'steven': False, u'ensur': False, u'updat': False, u'artifici': False, u'implic': False, u'institut': False, u'verbal': False, u'carnegi': False, u'spam': False, u'wildfir': False, u'question': False, u'fast': False, u'custom': False, u'syllabus': False, u'camera': False, u'handbook': False, u'includ': False, u'suit': False, u'forward': False, u'coldplay': False, u'septon': False, u'zealand': False, u'reveng': False, u'jorah': False, u'cloth': False, u'link': False, u'translat': False, u'usurp': False, u'sick': False, u'ling': False, u'line': False, u'reek': False, u'rickon': False, u'junior': False, u'info': False, u'hair': False, u'consist': False, u'ut': False, u'uw': False, u'cio': False, u'up': False, u'us': False, u'intim': False, u'scipi': False, u'contin': False, u'uk': False, u'resent': False, u'highlight': False, u'ug': False, u'z': False, u'similar': False, u'uc': False, u'curv': False, u'cathol': False, u'constant': False, u'lys': False, u'alumni': False, u'parser': False, u'chao': False, u'doesn': False, u'repres': False, u'incomplet': False, u'septemb': False, u'chat': False, u'guarante': False, u'bitch': False, u'psychopath': False, u'novelist': False, u'peter': False, u's05e05': False, u's05e07': False, u's05e06': False, u'pronounc': False, u'titl': False, u'sequenti': False, u'targ': False, u'scrape': False, u'club': False, u'nich': False, u'gre': False, u'nice': False, u'draw': False, u'ecosystem': False, u'scrub': False, u'tongu': False, u'lend': False, u'mongodb': False, u'william': False, u'meaning': False, u'est': False, u'lunch': False, u'deserv': False, u'ago': False, u'remix': False, u'land': False, u'e': False, u'algorithm': False, u'vice': False, u'inaccuraci': False, u'age': False, u'confirm': False, u'teaser': False, u'delegitim': False, u'tradeoff': False, u'depth': False, u'dot': False, u'walker': False, u'fresh': False, u'hello': False, u'essay': False, u'gt': False, u'mixpanel': False, u'edg': False, u'edd': False, u'daneari': False, u'queri': False, u'broaden': False, u'nobil': False, u'ggplot2': False, u'gb': False, u'aw': False, u'edu': False, u'go': False, u'edx': False, u'dunk': False, u'privat': False, u'baron': False, u'affc': False, u'elsewher': False, u'young': False, u'send': False, u'lower': False, u'daario': False, u'estim': False, u'becam': False, u'opposit': False, u'sens': False, u'agaisnt': False, u'sent': False, u'passiv': False, u'praxter': False, u'queen': False, u'meta_us': False, u'disclos': False, u'rayder': False, u'quora': False, u'sodomi': False, u'electron': False, u'facebook': False, u'depaul': False, u'disast': False, u'ilyn': False, u'forel': False, u'castamer': False, u'syntax': False, u'relev': False, u'tri': False, u'northwestern': False, u'magic': False, u'gender': False, u'button': False, u'f': False, u'diverg': False, u'geograph': False, u'fewer': False, u'margeri': False, u'vertic': False, u'dealt': False, u'imgur': False, u'marri': False, u'freed': False, u'pleas': False, u'vehicl': False, u'impli': False, u'smaller': False, u'fortun': False, u'1080': False, u'natur': False, u'orchestr': False, u'mishap': False, u'jump': False, u'2ftheory_spoil': False, u'video': False, u'resili': False, u'download': False, u'odd': False, u'click': False, u'folk': False, u'compat': False, u'index': False, u'poke': False, u'compar': False, u'chicago': False, u'kingdom': False, u'slight': False, u'access': False, u'pankpankpank': False, u'experiment': False, u'3a': False, u'bird': False, u'3d': False, u'jhudatasci': False, u'led': False, u'chose': False, u'elect': False, u'absolut': False, u'pander': False, u'giant': False, u'matplotlib': False, u'strangler': False, u'youngest': False, u'bachelor': False, u'ramsey': False, u'let': False, u'ubuntu': False, u'sing': False, u'becom': False, u'sinc': False, u'great': False, u'stark': False, u'nanodegre': False, u'convers': False, u'metro': False, u'32': False, u'30': False, u'technolog': False, u'35': False, u'later': False, u'cert': False, u'nissa': False, u'survey': False, u'sword': False, u'defeat': False, u'opinion': False, u'implement': False, u'cersi': False, u'epilogu': False, u'honor': False, u'chanc': False, u'fake': False, u'employe': False, u'manni': False, u'calibr': False, u'clark': False, u'nearest': False, u'newbi': False, u'appli': False, u'app': False, u'emot': False, u'foundat': False, u'twow': False, u'stormland': False, u'api': False, u'gaurd': False, u'cloud': False, u'use': False, u'fee': False, u'crap': False, u'pawn': False, u'usa': False, u'chi': False, u'gregor': False, u'doubl': False, u'upgrad': False, u'next': False, u'websit': False, u'brienn': False, u'doubt': False, u'lotteri': False, u'cram': False, u'lewi': False, u'commut': False, u'betray': False, u'sort': False, u'throne': False, u'clever': False, u'babi': False, u'econ': False, u'impress': False, u'trail': False, u'train': False, u'templ': False, u'asoiaf': False, u'ok': False, u'iii': False, u'women': False, u'annoy': False, u'account': False, u'alik': False, u'retriev': False, u'scalabl': False, u'ridg': False, u'sieg': False, u'ride': False, u'testimoni': False, u'crazi': False, u'justic': False, u'obvious': False, u'thin': False, u'sapochnik': False, u'valyrian': False, u'meet': True, u'didnt': False, u'fetch': False, u'aliv': False, u'proof': False, u'control': False, u'tap': False, u'tar': False, u'process': False, u'lock': False, u'danni': False, u'high': False, u'img3': False, u'slit': False, u'tag': False, u'proprietari': False, u'bend': False, u'img2': False, u'sought': False, u'onlin': False, u'crimin': False, u'olyvar': False, u'img1': False, u'rape': False, u'sir': False, u'surfac': False, u'volanti': False, u'mundan': False, u'unthink': False, u'six': False, u'tableau': False, u'georg': False, u'wareh': False, u'pair': False, u'forest': False, u'instead': False, u'panic': False, u'sin': False, u'stock': False, u'chrisalbon': False, u'utm_sourc': False, u'express': False, u'blackbox': False, u'attend': False, u'db': False, u'datasciencedaili': False, u'tattoo': False, u'notebook': False, u'wrist': False, u'attent': False, u'tier': False, u'philosophi': False, u'physic': False, u'alloc': False, u'certificateid': False, u'essenti': False, u'light': False, u'sit': False, u'robot': False, u'element': False, u'issu': False, u'chief': False, u'allow': False, u'cersai': False, u'breast': False, u'dormer': False, u'elia': False, u'phenomen': False, u'movi': False, u'insight': False, u'hadley': False, u'whilst': False, u'evolutionari': False, u'dw': False, u'dplyr': False, u'hbase': False, u's4': False, u'happiest': False, u'bunch': False, u'perfect': False, u'delay': False, u'consensu': False, u'la': False, u'hobbi': False, u'll': False, u'lt': False, u'2015': False, u'2014': False, u'decad': False, u'holiday': False, u'moneybal': False, u'2013': False, u'ly': False, u'dad': False, u'crash': False, u'greater': False, u'python': False, u'overal': False, u'tribut': False, u'mention': False, u'girlfriend': False, u'facilit': False, u'kid': False, u'clash': False, u'front': False, u'combo': False, u'day': False, u'assess': False, u'meereen': False, u'somewher': False, u'anyth': False, u'edit': False, u'nfl': False, u'professorship': False, u'mode': False, u'truth': False, u'gaoler': False, u'circular': False, u'upward': False, u'subset': False, u'societi': False, u'bueno': False, u'tension': False, u'intellig': False, u'upris': False, u'narrat': False, u'illegitim': False, u'meta': False, u'static': False, u'datasci': False, u'bay': False, u'sexual': False, u'special': False, u'variabl': False, u'matrix': False, u'sentiment': False, u'twice': False, u'influenc': False, u'endur': False, u'confess': False, u'5th': False, u'rival': False, u'categori': False, u'texliv': False, u'ren': False, u'suitabl': False, u'disappear': False, u'hardwar': True, u'ref': False, u'defens': False, u'math': False, u'statist': False, u'clarifi': False, u'ece': False, u'pajek': False, u'insid': False, u'workflow': False, u'undi': False, u'southern': False, u'manipul': False, u'invad': False, u'wizard': False, u'ect': False, u'tulli': False, u'releas': False, u'embarrass': False, u'anyhow': False, u'melissandr': False, u'afterward': False, u'yara': False, u'targaryan': False, u'linguist': False, u'lancel': False, u'g': False, u'could': False, u'keep': False, u'keen': False, u'birthday': False, u'outsid': False, u'hizdar': False, u'retail': False, u'austin': False, u'scare': False, u'south': False, u'softwar': False, u'bluff': False, u'blown': False, u'blogger': False, u'qualiti': False, u'scene': False, u'sack': False, u'bootcamp': False, u'betroth': False, u'lol': False, u'facil': False, u'princ': False, u'prioriti': False, u'playlist': False, u'ancient': False, u'bonus': False, u'los': False, u'hunt': False, u'____': False, u'habit': False, u'system': False, u'messag': False, u'attach': False, u'bokeh': False, u'mormont': False, u'privaci': False, u'pancak': False, u'brighten': False, u'final': False, u'spolier': False, u'stomach': False, u'gear': False, u'portrait': False, u'lowbal': False, u'juli': False, u'scikit': False, u's5e7': False, u's5e6': False, u'academi': False, u'anybodi': False, u'haven': False, u'blind': False, u'steel': False, u'buggeri': False, u'pup': False, u'targaeryen': False, u'ironborn': False, u'bother': False, u'pycell': False, u'beg': False, u'structur': False, u'charact': False, u'sweden': False, u'6th': False, u'sec': False, u'psycholog': False, u'steep': False, u'cercei': False, u'bet': False, u'anthropologist': False, u'brann': False, u'terribl': False, u'viewer': False, u'favorit': False, u'tommen': False, u'nymeria': False, u'correspond': False, u'tonight': False, u'imdb': False, u'close': False, u'need': True, u'north': False, u'offens': False, u'tidi': False, u'9am': False, u'bastard': False, u'afraid': False, u'4000': False, u'ncsu': False, u'rout': False, u'azula': False, u'bron': False, u'mid': False, u'accuraci': False, u'mix': False, u'unawar': False, u'discret': False, u'tactic': False, u'jail': False, u'mis': False, u'trivia': False, u'divers': False, u'singl': False, u'calculus': False, u'02': False, u'unless': False, u'combat': False, u'deploy': False, u'quantifi': False, u'unleash': False, u'oracl': False, u'discov': False, u'hound': False, u'01': False, u'rigor': False, u'horrif': False, u'escrow': False, u'segment': False, u'class': False, u'placement': False, u'gather': False, u'stronger': False, u'face': False, u'inde': False, u'deni': False, u'se': False, u'determin': False, u'occasion': False, u'hardcor': False, u'fact': False, u'affair': False, u'badasseri': False, u'rugen': False, u'hizdahr': False, u'text': False, u'indoor': False, u'anyway': False, u'bring': False, u'traitor': False, u'portfolio': False, u'rough': False, u'trivial': False, u'leg': False, u'eda': False, u'footbal': False, u'locat': False, u'nois': False, u'tire': False, u'hadn': False, u'anticip': False, u'winner': False, u'jar': False, u'forev': False, u'eat': False, u'manufactur': False, u'bernard': False, u'suppos': False, u'hd': False, u'disciplin': False, u'intrigu': False, u'local': False, u'hope': False, u'meant': False, u'move': False, u'contribut': False, u'beat': False, u'familiar': False, u'disagre': False, u'rush': False, u'bear': False, u'autom': False, u'120': False, u'bean': False, u'mgt': False, u'increas': False, u'kong': False, u'lucki': False, u'endless': False, u'wallpap': False, u'organ': False, u'brain': False, u'h': False, u'undergrad': False, u'denounc': False, u'summon': False, u'qa': False, u'galvan': False, u'stuff': False, u'integr': False, u'contain': False, u'shi': False, u'grab': False, u'grad': False, u'view': False, u'conform': False, u'workbench': False, u'signatur': False, u'frame': False, u'knowledg': True, u'reddit': False, u'apolog': False, u'testosteron': False, u'oldtown': False, u'triumphant': False, u'distract': False, u'teas': False, u'dragon': False, u'particl': False, u'gmail': False, u'dungeon': False, u'wire': False, u'nltk': False, u'pattern': False, u'monstrous': False, u'favor': False, u'state': False, u'viper': False, u'stata': False, u'understood': False, u'chemic': False, u'neither': False, u'email': False, u'adwd': False, u'lf': False, u'amazon': False, u'exam': False, u'dislik': False, u'alterc': False, u'courtyard': False, u'bigdatajob': False, u'job': False, u'entir': False, u'aquen': False, u'key': False, u'undoubt': False, u'pirat': False, u'jon': False, u'addit': False, u'revers': False, u'instant': False, u'career': False, u'joke': False, u'reilli': False, u'equal': False, u'bronn': False, u'etc': False, u'admit': False, u'instanc': True, u'equat': False, u'committe': False, u'etl': False, u'comment': False, u'co': False, u'wtf': False, u'wall': False, u'guidelin': False, u'ca': False, u'tyrion': False, u'arriv': False, u'ce': False, u'walk': False, u'walt': False, u'ipython': False, u'incest': False, u'laugh': False, u'toler': False, u'cs': True, u'respect': False, u'beach': False, u'cv': False, u'uci': False, u'ct': False, u'quit': False, u'slowli': False, u'decent': False, u'anomali': False, u'bba': False, u'compon': False, u'tywin': False, u'json': False, u'monk': False, u'besid': False, u'treat': False, u'electr': False, u'willa': False, u'immedi': False, u'partial': False, u'citadel': False, u'bannermen': False, u'eigenvector': False, u'upcom': False, u'presenc': False, u'ray': False, u'pie': False, u'zero': False, u'togeth': False, u'bull': False, u'populist': False, u'subtitl': False, u'general': False, u'present': False, u'twist': False, u'2016': False, u'veer': False, u'nocooki': False, u'plain': False, u'align': False, u'harder': False, u'will': False, u'defin': False, u'ssrs': False, u'decept': False, u'wild': False, u'2012': False, u'observ': False, u'vb': False, u'trimest': False, u've': False, u'adulteri': False, u'almost': False, u'cultur': False, u'thus': False, u'site': False, u'linkedin': False, u'roll': False, u'vp': False, u'avm': False, u'archiv': False, u'motiv': False, u'dual': False, u'incom': False, u'revis': False, u'avg': False, u'squir': False, u'whore': False, u'scienc': False, u'portray': False, u'cohort': False, u'denial': False, u'welcom': False, u'generic': False, u'parti': False, u'began': False, u'cross': False, u'member': False, u'handl': False, u'speaker': False, u'plotlin': False, u'wafer': False, u'infer': False, u'difficult': False, u'competit': False, u'prais': False, u'spell': False, u'http': False, u'context': False, u'flesh': False, u'mont': False, u'bald': False, u'upon': False, u'effect': False, u'ferguson': False, u'phd': False, u'beast': False, u'initi': False, u'student': False, u'countri': False, u'php': False, u'judgment': False, u'expand': False, u'yeah': False, u'priest': False, u'center': False, u'neural': False, u'valyria': False, u'weapon': False, u'49': False, u'well': False, u'controversi': False, u'thought': False, u'pham': False, u'exampl': False, u'command': False, u'english': False, u'audio': False, u'knight': False, u'depict': False, u'eigenvalu': False, u'usual': False, u'maester': False, u'distanc': False, u'rocket': False, u'less': False, u'boot': False, u'obtain': False, u'clinic': False, u'virtual': False, u'heavili': False, u'episod': False, u'skill': False, u'simultan': False, u'systemat': False, u'demograph': False, u'web': False, u'lowli': False, u'wed': False, u'bullshit': False, u'arrest': False, u'add': False, u'book': False, u'citizen': False, u'teleport': False, u'ought': False, u'kick': False, u'boom': False, u'royalti': False, u'rememb': False, u'fate': False, u'cutthroat': False, u'piec': False, u'arguabl': False, u'qid': False, u'realiz': False, u'five': False, u'know': True, u'press': False, u'realis': False, u'plung': False, u'loss': False, u'dubai': False, u'like': False, u'lost': False, u'incred': False, u'corpor': False, u'servant': False, u'necessari': False, u'lose': False, u'polit': False, u'candl': False, u'page': False, u'shed': False, u'drop': False, u'glare': False, u'captur': False, u'kdd': False, u'feast': False, u'twitter': False, u'linux': False, u'birthmark': False, u'tumblr': False, u'daylight': False, u'growth': False, u'reviv': False, u'shes': False, u'convey': False, u'dinklag': False, u'proper': False, u'home': False, u'wiki_specul': False, u'blade': False, u'thiev': False, u'librari': False, u'trust': False, u'luwin': False, u'lead': False, u'broad': False, u'avoid': False, u'condens': False, u'lean': False, u'overlap': False, u'econometr': False, u'passion': False, u'communiti': False, u'pleasur': False, u'repercuss': False, u'nake': False, u'leader': False, u'trap': False, u'regain': False, u'encourag': False, u'investig': False, u'worthi': False, u'journal': False, u'usag': False, u'obes': False, u'host': False, u'forgiv': False, u'dissert': False, u'although': False, u'instinct': False, u'grrm': False, u'stage': False, u'beaker': False, u'sister': False, u'hotah': False, u'actual': False, u'iwan': False, u'world': False, u'column': False, u'freedom': False, u'cleans': False, u'label': False, u'ingest': False, u'miner': False, u'bridg': False, u'flair': False, u'missandei': False, u'stanni': False, u'bed': False, u'own': False, u'unbow': False, u'devic': False, u'tortur': False, u'e3': False, u'washington': False, u'automat': False, u'dataset': False, u'warranti': False, u'automak': False, u'guard': False, u'weather': False, u'brush': False, u'awhil': False, u'yunkai': False, u'thwart': False, u'couldnt': False, u'forget': False, u'mere': False, u'leverag': False, u'myranda': False, u'pictur': False, u'transfer': False, u'renorm': False, u'nonparametr': False, u'appl': False, u'biggest': False, u'yrs': False, u'holist': False, u'flynn': False, u'function': False, u'appoint': False, u'buy': False, u'custora': False, u'unexpect': False, u'innoc': False, u'hr': False, u'bus': False, u'brand': False, u'histogram': False, u'ygritt': False, u'wight': False, u'hi': False, u'gain': False, u'grate': False, u'overflow': False, u'highest': False, u'homosexu': False, u'bud': False, u'count': False, u'made': False, u'wise': False, u'temp': False, u'whether': False, u'wish': False, u'j': False, u'flip': False, u'troubl': False, u'record': False, u'cruel': False, u'belov': False, u'limit': False, u'lysa': False, u'cake': False, u'otherwis': False, u'problem': False, u'strategi': False, u'display': False, u'crosspost': False, u'evalu': False, u'int': False, u'mask': False, u'domino': False, u'meaningless': False, u'graphml': False, u'ahai': False, u'inn': False, u'prostitut': False, u'penni': False, u'pit': False, u'campus': False, u'probabl': False, u'meti': False, u'quot': False, u'contest': False, u'guidanc': False, u'45': False, u'percent': False, u'detail': False, u'40': False, u'ep': False, u'oathkeep': False, u'other': False, u'futur': False, u'branch': False, u'varieti': False, u'mass': False, u'boob': False, u'wing': False, u'canada': False, u'stat': True, u'francisco': False, u'star': False, u'castl': False, u'june': False, u'stay': False, u'stag': False, u'stab': False, u'kinda': False, u'stan': False, u'badass': False, u'margarey': False, u'oberyn': False, u'basketbal': False, u'ghost': False, u'experienc': False, u'scientif': False, u'smirk': False, u'reliabl': False, u'martin': False, u'rule': False, u'assassin': False, u'daeron': False, u'portion': False, u'emerg': False, u'fifti': False, u'decemb': False, u'defend': False, u'sincer': False}, 'datascience')\n"
     ]
    }
   ],
   "source": [
    "print prepared_data[0]"
   ]
  },
  {
   "cell_type": "code",
   "execution_count": 46,
   "id": "68fb2eb4",
   "metadata": {},
   "outputs": [],
   "source": [
    "random.shuffle(prepared_data)\n",
    "train_size = int(len(prepared_data) * 0.75)\n",
    "train = prepared_data[:train_size]\n",
    "test = prepared_data[train_size:]"
   ]
  },
  {
   "cell_type": "markdown",
   "id": "3be2fd6a",
   "metadata": {},
   "source": [
    "# Text Analytics"
   ]
  },
  {
   "cell_type": "markdown",
   "id": "4a9a9816",
   "metadata": {},
   "source": [
    "## Naive Bayes"
   ]
  },
  {
   "cell_type": "code",
   "execution_count": 47,
   "id": "a2f4845b",
   "metadata": {},
   "outputs": [
    {
     "name": "stdout",
     "output_type": "stream",
     "text": [
      "720\n",
      "762\n"
     ]
    }
   ],
   "source": [
    "nbr_got = 0\n",
    "nbr_data = 0\n",
    "for set in train:\n",
    "    if set[1]=='datascience':\n",
    "        nbr_data+=1\n",
    "    if set[1]=='gameofthrones':\n",
    "        nbr_got+=1\n",
    "print nbr_got\n",
    "print nbr_data"
   ]
  },
  {
   "cell_type": "code",
   "execution_count": 48,
   "id": "107df563",
   "metadata": {},
   "outputs": [],
   "source": [
    "classifier  = nltk.NaiveBayesClassifier.train(train)"
   ]
  },
  {
   "cell_type": "code",
   "execution_count": 49,
   "id": "d6d92e1f",
   "metadata": {},
   "outputs": [
    {
     "data": {
      "text/plain": [
       "0.9818181818181818"
      ]
     },
     "execution_count": 49,
     "metadata": {},
     "output_type": "execute_result"
    }
   ],
   "source": [
    "nltk.classify.accuracy(classifier, test)"
   ]
  },
  {
   "cell_type": "code",
   "execution_count": 50,
   "id": "79d695e4",
   "metadata": {},
   "outputs": [
    {
     "name": "stdout",
     "output_type": "stream",
     "text": [
      "Most Informative Features\n",
      "                    data = True           datasc : gameof =    365.1 : 1.0\n",
      "                   scene = True           gameof : datasc =     63.8 : 1.0\n",
      "                  season = True           gameof : datasc =     62.4 : 1.0\n",
      "                    king = True           gameof : datasc =     47.6 : 1.0\n",
      "                      tv = True           gameof : datasc =     45.1 : 1.0\n",
      "                    kill = True           gameof : datasc =     31.5 : 1.0\n",
      "                 compani = True           datasc : gameof =     28.5 : 1.0\n",
      "                 analysi = True           datasc : gameof =     27.1 : 1.0\n",
      "                 process = True           datasc : gameof =     25.5 : 1.0\n",
      "                   appli = True           datasc : gameof =     25.5 : 1.0\n",
      "                research = True           datasc : gameof =     23.2 : 1.0\n",
      "                  episod = True           gameof : datasc =     22.2 : 1.0\n",
      "                  market = True           datasc : gameof =     21.7 : 1.0\n",
      "                   watch = True           gameof : datasc =     21.6 : 1.0\n",
      "                     man = True           gameof : datasc =     21.0 : 1.0\n",
      "                   north = True           gameof : datasc =     20.8 : 1.0\n",
      "                      hi = True           datasc : gameof =     20.4 : 1.0\n",
      "                   level = True           datasc : gameof =     19.1 : 1.0\n",
      "                   learn = True           datasc : gameof =     16.9 : 1.0\n",
      "                     job = True           datasc : gameof =     16.6 : 1.0\n",
      "None\n"
     ]
    }
   ],
   "source": [
    "print(classifier.show_most_informative_features(20))"
   ]
  },
  {
   "cell_type": "code",
   "execution_count": 51,
   "id": "ed794cb4",
   "metadata": {},
   "outputs": [],
   "source": [
    "classified_data = classifier.classify_many(prepared_holdout_data)"
   ]
  },
  {
   "cell_type": "code",
   "execution_count": 52,
   "id": "d0b03d2f",
   "metadata": {},
   "outputs": [
    {
     "name": "stdout",
     "output_type": "stream",
     "text": [
      "              |     g |\n",
      "              |     a |\n",
      "              |  d  m |\n",
      "              |  a  e |\n",
      "              |  t  o |\n",
      "              |  a  f |\n",
      "              |  s  t |\n",
      "              |  c  h |\n",
      "              |  i  r |\n",
      "              |  e  o |\n",
      "              |  n  n |\n",
      "              |  c  e |\n",
      "              |  e  s |\n",
      "--------------+-------+\n",
      "  datascience |<77>23 |\n",
      "gameofthrones |  5<95>|\n",
      "--------------+-------+\n",
      "(row = reference; col = test)\n",
      "\n"
     ]
    }
   ],
   "source": [
    "cm = nltk.ConfusionMatrix(holdout_data_labels, classified_data)\n",
    "print cm"
   ]
  },
  {
   "cell_type": "markdown",
   "id": "199e7f6e",
   "metadata": {},
   "source": [
    "## Decision trees"
   ]
  },
  {
   "cell_type": "code",
   "execution_count": 53,
   "id": "6873114e",
   "metadata": {},
   "outputs": [],
   "source": [
    "classifier2 = nltk.DecisionTreeClassifier.train(train)"
   ]
  },
  {
   "cell_type": "code",
   "execution_count": 54,
   "id": "971fa929",
   "metadata": {},
   "outputs": [
    {
     "data": {
      "text/plain": [
       "0.9333333333333333"
      ]
     },
     "execution_count": 54,
     "metadata": {},
     "output_type": "execute_result"
    }
   ],
   "source": [
    "nltk.classify.accuracy(classifier2, test)"
   ]
  },
  {
   "cell_type": "code",
   "execution_count": 59,
   "id": "e7c569f8",
   "metadata": {},
   "outputs": [
    {
     "name": "stdout",
     "output_type": "stream",
     "text": [
      "if data == False: \n",
      "  if learn == False: \n",
      "    if python == False: \n",
      "      if tool == False: return 'gameofthrones'\n",
      "      if tool == True: return 'datascience'\n",
      "    if python == True: return 'datascience'\n",
      "  if learn == True: \n",
      "    if go == False: \n",
      "      if wrong == False: return 'datascience'\n",
      "      if wrong == True: return 'gameofthrones'\n",
      "    if go == True: \n",
      "      if upload == False: return 'gameofthrones'\n",
      "      if upload == True: return 'datascience'\n",
      "if data == True: return 'datascience'\n",
      "\n"
     ]
    }
   ],
   "source": [
    "print(classifier2.pseudocode(depth=4))"
   ]
  },
  {
   "cell_type": "code",
   "execution_count": 56,
   "id": "c3c44c8b",
   "metadata": {},
   "outputs": [],
   "source": [
    "classified_data2 = classifier2.classify_many(prepared_holdout_data)"
   ]
  },
  {
   "cell_type": "code",
   "execution_count": 57,
   "id": "44141a72",
   "metadata": {},
   "outputs": [
    {
     "name": "stdout",
     "output_type": "stream",
     "text": [
      "              |     g |\n",
      "              |     a |\n",
      "              |  d  m |\n",
      "              |  a  e |\n",
      "              |  t  o |\n",
      "              |  a  f |\n",
      "              |  s  t |\n",
      "              |  c  h |\n",
      "              |  i  r |\n",
      "              |  e  o |\n",
      "              |  n  n |\n",
      "              |  c  e |\n",
      "              |  e  s |\n",
      "--------------+-------+\n",
      "  datascience |<26>74 |\n",
      "gameofthrones |  2<98>|\n",
      "--------------+-------+\n",
      "(row = reference; col = test)\n",
      "\n"
     ]
    }
   ],
   "source": [
    "cm = nltk.ConfusionMatrix(holdout_data_labels, classified_data2)\n",
    "print cm"
   ]
  },
  {
   "cell_type": "code",
   "execution_count": null,
   "id": "fa026f91",
   "metadata": {},
   "outputs": [],
   "source": []
  }
 ],
 "metadata": {
  "kernelspec": {
   "display_name": "Python 3 (ipykernel)",
   "language": "python",
   "name": "python3"
  },
  "language_info": {
   "codemirror_mode": {
    "name": "ipython",
    "version": 3
   },
   "file_extension": ".py",
   "mimetype": "text/x-python",
   "name": "python",
   "nbconvert_exporter": "python",
   "pygments_lexer": "ipython3",
   "version": "3.10.9"
  }
 },
 "nbformat": 4,
 "nbformat_minor": 1
}
